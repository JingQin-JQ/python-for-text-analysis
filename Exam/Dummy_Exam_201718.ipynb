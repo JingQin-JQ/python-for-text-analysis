{
 "cells": [
  {
   "cell_type": "markdown",
   "metadata": {},
   "source": [
    "# DUMMY EXAM\n",
    "\n",
    "The content of the dummy exam is representative for the content of the real exam of this course. The real exam will contain the same five tasks (Boolean expressions, General knowledge about Python, Spot the error, Tracing, and Code writing).",
    "\n",
    "### 1. Boolean Expressions"
   ]
  },
  {
   "cell_type": "markdown",
   "metadata": {},
   "source": [
    "\n",
    "Please determine for the following code snippets whether the output will be:\n",
    "1. False (of type **bool**)\n",
    "2. True (of type **bool**) "
   ]
  },
  {
   "cell_type": "code",
   "execution_count": null,
   "metadata": {
    "collapsed": true
   },
   "outputs": [],
   "source": [
    "# Exercise 1\n",
    "print(\"home\" != \"homework\")"
   ]
  },
  {
   "cell_type": "code",
   "execution_count": null,
   "metadata": {
    "collapsed": true
   },
   "outputs": [],
   "source": [
    "# Exercise 2\n",
    "print(\"home\"!=\"HOme\".lower())"
   ]
  },
  {
   "cell_type": "code",
   "execution_count": null,
   "metadata": {
    "collapsed": true
   },
   "outputs": [],
   "source": [
    "# Exercise 3\n",
    "print(\"home\" not in \"homework\")"
   ]
  },
  {
   "cell_type": "code",
   "execution_count": null,
   "metadata": {
    "collapsed": true
   },
   "outputs": [],
   "source": [
    "# Exercise 4\n",
    "print( (5 + 7) in [5, 1, 11, 7, 17, 13])"
   ]
  },
  {
   "cell_type": "code",
   "execution_count": null,
   "metadata": {
    "collapsed": true
   },
   "outputs": [],
   "source": [
    "# Exercise 5\n",
    "print(100 != '100')"
   ]
  },
  {
   "cell_type": "code",
   "execution_count": null,
   "metadata": {
    "collapsed": true
   },
   "outputs": [],
   "source": [
    "# Exercise 6\n",
    "print( (6 + 17) <= 22)"
   ]
  },
  {
   "cell_type": "code",
   "execution_count": null,
   "metadata": {
    "collapsed": true
   },
   "outputs": [],
   "source": [
    "# Exercise 7\n",
    "print('a' not in 'hello world')"
   ]
  },
  {
   "cell_type": "code",
   "execution_count": null,
   "metadata": {
    "collapsed": true
   },
   "outputs": [],
   "source": [
    "# Exercise 8\n",
    "d = {'1': 1, '2': 2}\n",
    "print(1 in d)"
   ]
  },
  {
   "cell_type": "code",
   "execution_count": null,
   "metadata": {
    "collapsed": true
   },
   "outputs": [],
   "source": [
    "# Exercise 9\n",
    "a_string = 'hello world'\n",
    "any([a_string.replace('o', 'b', 1) == 'hellb wbrld',\n",
    "     len(a_string) == (5+5),\n",
    "     a_string[2] == 'e'])"
   ]
  },
  {
   "cell_type": "code",
   "execution_count": null,
   "metadata": {
    "collapsed": true
   },
   "outputs": [],
   "source": [
    "# Exercise 10\n",
    "text='Chatbots Need A Personality'\n",
    "print(text.count('a')==3)"
   ]
  },
  {
   "cell_type": "code",
   "execution_count": null,
   "metadata": {
    "collapsed": true
   },
   "outputs": [],
   "source": [
    "# Exercise 11\n",
    "print( (1+4) > 5)"
   ]
  },
  {
   "cell_type": "code",
   "execution_count": null,
   "metadata": {
    "collapsed": true
   },
   "outputs": [],
   "source": [
    "# Exercise 12\n",
    "d = {'1': 1, '2': 2}\n",
    "print(len(d) == 2)"
   ]
  },
  {
   "cell_type": "code",
   "execution_count": null,
   "metadata": {
    "collapsed": true
   },
   "outputs": [],
   "source": [
    "# Exercise 13\n",
    "l=[]\n",
    "print(len(l)==None)"
   ]
  },
  {
   "cell_type": "code",
   "execution_count": null,
   "metadata": {
    "collapsed": true
   },
   "outputs": [],
   "source": [
    "# Exercise 14\n",
    "letters = ['a','b','c','d']\n",
    "numbers = [1,2,3,4,5]\n",
    "print(letters[1] == 'a' or 4 in numbers)"
   ]
  },
  {
   "cell_type": "code",
   "execution_count": null,
   "metadata": {
    "collapsed": true
   },
   "outputs": [],
   "source": [
    "# Exercise 15\n",
    "a_list = ['a', 'b', 'c', 'd']\n",
    "print(a_list.pop() == 'd' and a_list[0] == 'a')"
   ]
  },
  {
   "cell_type": "code",
   "execution_count": null,
   "metadata": {
    "collapsed": true
   },
   "outputs": [],
   "source": [
    "# Exercise 16\n",
    "a_list=['a', 'ab', 'abc', 'a', 'ac', 'abc']\n",
    "a_set=set(a_list)\n",
    "\n",
    "print(len(a_set)==3)"
   ]
  },
  {
   "cell_type": "code",
   "execution_count": null,
   "metadata": {
    "collapsed": true
   },
   "outputs": [],
   "source": [
    "# Exercise 17\n",
    "a_list=['a', 'ab', 'abc', 'a', 'ac', 'abc']\n",
    "a_str=''.join(a_list)\n",
    "print(a_str[:5]=='aababc')"
   ]
  },
  {
   "cell_type": "code",
   "execution_count": null,
   "metadata": {
    "collapsed": true
   },
   "outputs": [],
   "source": [
    "# Exercise 18\n",
    "def my_function():\n",
    "    x=2\n",
    "    \n",
    "result=my_function()\n",
    "print(result==2)"
   ]
  },
  {
   "cell_type": "code",
   "execution_count": null,
   "metadata": {
    "collapsed": true
   },
   "outputs": [],
   "source": [
    "# Exercise 19\n",
    "def check_for_b(str1):\n",
    "    if 'b' in str1:\n",
    "        return True\n",
    "    else:\n",
    "        return False\n",
    "\n",
    "str1=\"a string\"\n",
    "str2=\"b string\"\n",
    "print(check_for_b(str2)==False)"
   ]
  },
  {
   "cell_type": "code",
   "execution_count": null,
   "metadata": {
    "collapsed": true
   },
   "outputs": [],
   "source": [
    "# Exercise 20\n",
    "a_dict = {'a': [1, 2], 'b': 'hi'}\n",
    "print(len(a_dict['a']) <= 2)"
   ]
  },
  {
   "cell_type": "code",
   "execution_count": null,
   "metadata": {
    "scrolled": true
   },
   "outputs": [],
   "source": [
    "# Exercise 21\n",
    "a_list=['a', 'b', 'c']\n",
    "new_list=a_list.append('d')\n",
    "other_list=a_list.append('e')\n",
    "print(new_list!=other_list)"
   ]
  },
  {
   "cell_type": "code",
   "execution_count": null,
   "metadata": {},
   "outputs": [],
   "source": [
    "# Exercise 22\n",
    "letters = ['a', 'b', 'c', 'd']\n",
    "numbers = set([1, 2, 3, 4, 5])\n",
    "print(all([len(letters) <= 4,\n",
    "           len(numbers) >= 5]))"
   ]
  },
  {
   "cell_type": "markdown",
   "metadata": {},
   "source": [
    "### 2. General knowledge about Python"
   ]
  },
  {
   "cell_type": "markdown",
   "metadata": {},
   "source": [
    "1. Explain what the three values mean in Python’s slicing notation. For example, what does the following print? `\"Bananas are yummy.\"[1:-1:2]`\n",
    "2. What is the difference between arguments (args) and keyword arguments (kwargs)?\n",
    "3. Assume that we have the following CSV line stored as a variable:\n",
    "```\n",
    "line = \"Vrije Universiteit,Amsterdam,The Netherlands\"\n",
    "```\n",
    "Write a single line of code that transforms this CSV line to a TSV line (both are strings). \n",
    "4. Explain what the `continue`, `break` and `pass` statements do.\n",
    "5. What are the two types of objects that you can define using curly braces `{}`?\n",
    "6. How can you turn a string representation of a number (e.g. ’1’) into an integer?\n",
    "7. What built-in function can you use to loop over all the whole numbers up to, for example, 100?\n",
    "8. What built-in function can you use to learn more about how to use a particular function?\n",
    "9. Which single change in the next line would print each name on a separate line?\n",
    "```print(\" \".join([\"Alan\", \"Maria\", \"Paul\"]))```\n",
    "\n",
    "10. Why would anyone want to use sets instead of lists?\n",
    "11. What are the two ways to create an empty dictionary?\n",
    "12. What are the two building blocks of a dictionary?\n",
    "13. What would be printed with this code?\n",
    "\n",
    "```a_string = \"python is awesome\"\n",
    "print(a_string[7:11])```"
   ]
  },
  {
   "cell_type": "markdown",
   "metadata": {},
   "source": [
    "### 3. Spot the error"
   ]
  },
  {
   "cell_type": "markdown",
   "metadata": {},
   "source": [
    "Below are ten pieces of code with a mistake in them. Please indicate the errors, and explain why they\n",
    "cause the code to break (you don’t need to know the exact error message). Each question is worth 2\n",
    "points (one for pointing where exactly the mistake is, one for the explanation).\n",
    "For your convenience, we also printed line numbers next to each line of code. But we do expect you to\n",
    "be more explicit than just specifying the line number. (A one-sentence explanation is fine, though.)\n",
    "\n",
    "Example question: where is the mistake here, and why doesn’t it work?\n",
    "```\n",
    " my_list = [1,2,3]\n",
    " 2nd_item = my_list[1]\n",
    "```\n",
    "\n",
    "Answer: The mistake is in the variable name `2nd_item` (line 2), Python doesn’t allow variable names to start with numbers."
   ]
  },
  {
   "cell_type": "code",
   "execution_count": null,
   "metadata": {
    "collapsed": true
   },
   "outputs": [],
   "source": [
    "# Exercise 1\n",
    "shopping_list = {\"butter\": 1, \"eggs\": 12, \"cheese\": 1}\n",
    "print(shopping_list[1])"
   ]
  },
  {
   "cell_type": "code",
   "execution_count": null,
   "metadata": {
    "collapsed": true
   },
   "outputs": [],
   "source": [
    "# Exercise 2\n",
    "word = \"bananas\"\n",
    "if word[0] = \"b\":\n",
    "    print(word)"
   ]
  },
  {
   "cell_type": "code",
   "execution_count": null,
   "metadata": {
    "collapsed": true
   },
   "outputs": [],
   "source": [
    "# Exercise 3\n",
    "def first_animal(animals)\n",
    "    print(animals[0])\n",
    "\n",
    "first_animal([\"hedgehog\", \"fox\", \"eagle\"])"
   ]
  },
  {
   "cell_type": "code",
   "execution_count": null,
   "metadata": {
    "collapsed": true
   },
   "outputs": [],
   "source": [
    "# Exercise 4\n",
    "def replace_a_by_o(a_string):\n",
    "    new_string = a_string.replace(\"a\", \"o\")\n",
    "    print(new_string)\n",
    "\n",
    "replace_a_by_o('apples and bananas')\n",
    "print(new_string)"
   ]
  },
  {
   "cell_type": "code",
   "execution_count": null,
   "metadata": {
    "collapsed": true
   },
   "outputs": [],
   "source": [
    "# Exercise 5\n",
    "shopping_list = {[\"apples\", \"bananas\"]: 2, \"pineapples\": 1}\n",
    "for product in shopping_list:\n",
    "    print(product)"
   ]
  },
  {
   "cell_type": "code",
   "execution_count": null,
   "metadata": {
    "collapsed": true
   },
   "outputs": [],
   "source": [
    "# Exercise 6\n",
    "number = input(\"Please type a number: \")\n",
    "if number < 2:\n",
    "    print(number + \" is lower than 2\")\n",
    "else:\n",
    "    print(number + \" is not lower than 2\")"
   ]
  },
  {
   "cell_type": "code",
   "execution_count": null,
   "metadata": {
    "collapsed": true
   },
   "outputs": [],
   "source": [
    "# Exercise 7\n",
    "number = 5413\n",
    "if 1 in number:\n",
    "    print(\"1 in\", number)"
   ]
  },
  {
   "cell_type": "code",
   "execution_count": null,
   "metadata": {
    "collapsed": true
   },
   "outputs": [],
   "source": [
    "# Exercise 8\n",
    "shopping_list = {[\"apples\", \"bananas\"]: 2, \"pineapples\": 1}\n",
    "for product in shopping_list:\n",
    "    print(product)"
   ]
  },
  {
   "cell_type": "code",
   "execution_count": null,
   "metadata": {
    "collapsed": true
   },
   "outputs": [],
   "source": [
    "# Exercise 9\n",
    "fruit = [\"apple\", \"banana\", \"strawberry\", \"pineapple\"]\n",
    "fruit_string = \",\".join(fruit)\n",
    "fruit = fruit_string.split()\n",
    "print(fruit[1])"
   ]
  },
  {
   "cell_type": "code",
   "execution_count": null,
   "metadata": {
    "collapsed": true
   },
   "outputs": [],
   "source": [
    "# Exercise 10\n",
    "fruit = {\"apple\", \"banana\", \"strawberry\", \"pineapple\"}\n",
    "fruit.append(\"mango\")"
   ]
  },
  {
   "cell_type": "markdown",
   "metadata": {},
   "source": [
    "### 4. Tracing"
   ]
  },
  {
   "cell_type": "markdown",
   "metadata": {},
   "source": [
    "Below is a function that processes data from a morphological analyzer for Turkish. Here's an example of the data that needs to be processed:\n",
    "\n",
    "`'olmamak\\tol<V><neg><vn:inf><N>\\nolmamak\\tol<V><neg><vn:inf><N><0><V><cpl:pres>\\nolmamak\\tol<V><neg><vn:inf><N><0><V><cpl:pres><3s>\\n\\n'`\n",
    "\n",
    "This data contains morphological information about the word `olmamak` (with two different analyses). The problem is that it's not yet suitable for further processing. So `analyze_output()` does that for us, returning the data in the form of a Python object that is easier to work with.\n",
    "\n",
    "Please read this code (annotated with line numbers) and answer the questions below. "
   ]
  },
  {
   "cell_type": "code",
   "execution_count": null,
   "metadata": {
    "collapsed": true
   },
   "outputs": [],
   "source": [
    "def analyze_output(output):                          # 1\n",
    "    \"Analyze the output of the FST.\"                 # 2\n",
    "    results = []                                     # 3\n",
    "    for line in output.splitlines():                 # 4\n",
    "        if line:                                     # 5\n",
    "            word, analysis = line.split('\\t')        # 6\n",
    "            morph_data = analysis.split('<')         # 7\n",
    "            base = morph_data[0]                     # 8\n",
    "            rest = morph_data[1:]                    # 9\n",
    "            morph_feats = []                         # 10\n",
    "            for feature in rest:                     # 11\n",
    "                morph_feats.append(feature[:-1])     # 12\n",
    "            entry = {'word': word,                   # 13\n",
    "                     'base': base,                   # 14\n",
    "                     'features': morph_feats}        # 15\n",
    "            results.append(entry)                    # 16\n",
    "    return results                                   # 17"
   ]
  },
  {
   "cell_type": "markdown",
   "metadata": {},
   "source": [
    "Suppose we call the function like this:"
   ]
  },
  {
   "cell_type": "code",
   "execution_count": null,
   "metadata": {
    "collapsed": true
   },
   "outputs": [],
   "source": [
    "output = 'olmamak\\tol<V><neg><vn:inf><N>\\nolmamak\\tol<V><neg><vn:inf><N><0><V><cpl:pres>\\nolmamak\\tol<V><neg><vn:inf><N><0><V><cpl:pres><3s>\\n\\n'\n",
    "result = analyze_output(output)"
   ]
  },
  {
   "cell_type": "markdown",
   "metadata": {},
   "source": [
    "1. What is the **type** and **value** of `word` on line 6, during the first iteration of the loop?\n",
    "2. What is the **type** and **value** of `base` on line 8, during the first iteration of the loop?\n",
    "3. What is the purpose of `if line` (line 5)? When does it evaluate to `False`?\n",
    "4. What is the **type** and **value** of `entry` (line 13) after the first iteration of the loop?\n",
    "5. What is the purpose of `feature[:-1]` on line 12? What does it do? (Use the first iteration of the loop as an example.)\n",
    "6. What is the **type** and **value** of `results` on line 17, at the end of the function?"
   ]
  },
  {
   "cell_type": "markdown",
   "metadata": {},
   "source": [
    "### 5. Code writing"
   ]
  },
  {
   "cell_type": "markdown",
   "metadata": {},
   "source": [
    "Below, you will find code descriptions. Please write the code according to these descriptions. Each piece\n",
    "of code is worth 5 points.\n",
    "\n",
    "#### General information\n",
    "\n",
    "Imagine that there are two files:\n",
    "* somewords1.txt\n",
    "* somewords2.txt\n",
    "\n",
    "Each line in the file somewords1.txt contains one word (\\n indicating the newline character), e.g.:\n",
    "\n",
    "```\n",
    "table\\n\n",
    "chair\\n\n",
    "tea\\n\n",
    "coffee\\n\n",
    "money\\n\n",
    "....\n",
    "```\n",
    "\n",
    "Each line in the somewords2.txt can contain multiple words. The words on a line are separated by a tab\n",
    "(`'\\t'` in Python). `'\\n'` indicates the newline character. The number of words on each line ranges from 1 to 4. Example line:\n",
    "\n",
    "```\n",
    "bed\\tblanket\\toffice\\n\n",
    "plate\\tfork\\n\n",
    "jeans\\n\n",
    "....\n",
    "```"
   ]
  },
  {
   "cell_type": "markdown",
   "metadata": {},
   "source": [
    "#### Exercises\n",
    "\n",
    "**5.1.** Please write the code to:\n",
    "\n",
    "1. define a set called `unique_somewords2`\n",
    "2. loop through the lines of file `somewords2.txt`\n",
    "3. remove the newline character from each line\n",
    "4. add each individual word in each line to `unique_somewords2`"
   ]
  },
  {
   "cell_type": "code",
   "execution_count": null,
   "metadata": {
    "collapsed": true
   },
   "outputs": [],
   "source": []
  },
  {
   "cell_type": "markdown",
   "metadata": {},
   "source": [
    "**5.2.** Please write the code to:\n",
    "1. define a set called `filtered_uniquewords2`\n",
    "2. loop through the lines of file `somewords2.txt`\n",
    "3. remove the newline character from each line\n",
    "4. checks for each word in the line if it:\n",
    "\n",
    "  4.1. starts with the letter 'a'\n",
    "  \n",
    "  4.2. is longer than six letters\n",
    "  \n",
    "  4.3. is shorter than or equal to two letters\n",
    "5. If any of the checks in 4. are `True` for a word, we add the word to `filtered_uniquewords2`. Else, we do not add the word to `filtered_uniquewords2`."
   ]
  },
  {
   "cell_type": "code",
   "execution_count": null,
   "metadata": {
    "collapsed": true
   },
   "outputs": [],
   "source": []
  },
  {
   "cell_type": "markdown",
   "metadata": {},
   "source": [
    "**5.3.** Please write the code to:\n",
    "1. define three sets: `set_a`, `set_b`, and `set_rest`\n",
    "2. loop through the lines of file `somewords1.txt`\n",
    "3. remove the newline character from each line\n",
    "4. perform the following actions:\n",
    "\n",
    "  4.1. condition A: if the word starts with b or e -> add the word to `set_a`\n",
    "  \n",
    "  4.2. condition B: only if condition A is not met, but if the word consists of 10 characters -> add the word to `set_b`\n",
    "  \n",
    "  4.3. condition C: in all other conditions (hence not condition A and not condition B) -> add the word to `set_rest`"
   ]
  },
  {
   "cell_type": "code",
   "execution_count": null,
   "metadata": {
    "collapsed": true
   },
   "outputs": [],
   "source": []
  }
 ],
 "metadata": {
  "kernelspec": {
   "display_name": "Python 3",
   "language": "python",
   "name": "python3"
  },
  "language_info": {
   "codemirror_mode": {
    "name": "ipython",
    "version": 3
   },
   "file_extension": ".py",
   "mimetype": "text/x-python",
   "name": "python",
   "nbconvert_exporter": "python",
   "pygments_lexer": "ipython3",
   "version": "3.6.1"
  }
 },
 "nbformat": 4,
 "nbformat_minor": 2
}
