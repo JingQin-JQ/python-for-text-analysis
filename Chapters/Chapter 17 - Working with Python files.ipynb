{
 "cells": [
  {
   "cell_type": "markdown",
   "metadata": {},
   "source": [
    "# Chapter 17 - Working with Python files\n",
    "In the previous blocks, we've mainly used notebooks to develop and run our Python code. In this chapter, we'll introduce how to create python programs (.py files) and how to run them. The most common way to work with Python is actually to use .py files, which is why it is important that you know how to work with them. You can see python files as one cell in a notebook without any markdown."
   ]
  },
  {
   "cell_type": "markdown",
   "metadata": {},
   "source": [
    "**At the end of this chapter, you will be able to**\n",
    "* create python programs in .py files\n",
    "* run python programs from the command line"
   ]
  },
  {
   "cell_type": "code",
   "execution_count": null,
   "metadata": {
    "collapsed": true
   },
   "outputs": [],
   "source": [
    "import sys\n",
    "import os"
   ]
  },
  {
   "cell_type": "code",
   "execution_count": null,
   "metadata": {
    "collapsed": true
   },
   "outputs": [],
   "source": [
    "github_link = 'https://github.com/cltl/python-for-text-analysis#planning'\n",
    "files = ['hello_world.py', \n",
    "         'the_program.py', \n",
    "         'the_program_v2.py', \n",
    "         'utils.py']\n",
    "\n",
    "for file_ in files:\n",
    "    assert os.path.exists(file_), f'{file_} is not on your computer. Please download it from {github_link}'"
   ]
  },
  {
   "cell_type": "markdown",
   "metadata": {},
   "source": [
    "## 1. Editor\n",
    "We first need to choose which editor we will use to develop our Python code. \n",
    "\n",
    "There are two options.\n",
    "\n",
    "1. You create the python programs in your browser. After opening Jupyter notebook, you can click 'New' and then 'Text file' to start developing Python programs.\n",
    "\n",
    "2. You install an editor.\n",
    "Please take a look [here](https://wiki.python.org/moin/PythonEditors) to get an impression of which ones are out there.\n",
    "I can highly recommend [Atom](https://atom.io/).\n",
    "\n",
    "\n",
    "Please choose between options 1 and 2."
   ]
  },
  {
   "cell_type": "markdown",
   "metadata": {},
   "source": [
    "## 2. Starting the terminal"
   ]
  },
  {
   "cell_type": "markdown",
   "metadata": {},
   "source": [
    "In addition, we need to start the terminal:\n",
    "\n",
    "1. On Windows, please how a look at [this](https://www.quora.com/How-do-I-open-terminal-in-windows) on how to start the terminal\n",
    "2. on OS X/MacOS (Mac computer), please type **terminal** in [Spotlight](https://support.apple.com/nl-nl/HT204014) and start the terminal\n",
    "\n",
    "It's a useful skill to know how to navigate through your computer using the terminal. \n",
    "\n",
    "For Windows users, [this](https://www.computerhope.com/issues/chusedos.htm) is a good tutorial.\n",
    "\n",
    "For OS X/MacOS/Linux/Ubuntu users, [this](https://www.digitalocean.com/community/tutorials/basic-linux-navigation-and-file-management) is a good tutorial"
   ]
  },
  {
   "cell_type": "markdown",
   "metadata": {},
   "source": [
    "## 3. Running first program (hello_world.py)\n",
    "In the same folder as this notebook, you will find a file called **hello_world.py**."
   ]
  },
  {
   "cell_type": "markdown",
   "metadata": {},
   "source": [
    "### 3a running the program on OS X/MacOS"
   ]
  },
  {
   "cell_type": "markdown",
   "metadata": {},
   "source": [
    "Please use the terminal to navigate to the folder in which this notebook is placed by copying the **output** of following cell in your terminal"
   ]
  },
  {
   "cell_type": "code",
   "execution_count": null,
   "metadata": {},
   "outputs": [],
   "source": [
    "cwd = os.getcwd()\n",
    "cwd_escaped_spaces = cwd.replace(' ', '\\ ')\n",
    "print('cd', cwd_escaped_spaces)"
   ]
  },
  {
   "cell_type": "markdown",
   "metadata": {},
   "source": [
    "Please run the following command in the terminal:\n",
    "\n",
    "**python hello_world.py**"
   ]
  },
  {
   "cell_type": "markdown",
   "metadata": {},
   "source": [
    "You've succesfully run your first Python program!"
   ]
  },
  {
   "cell_type": "markdown",
   "metadata": {},
   "source": [
    "### 3b running the program on Windows\n"
   ]
  },
  {
   "cell_type": "markdown",
   "metadata": {},
   "source": [
    "Please use the terminal to navigate to the folder in which this notebook is placed by copying the **output** of the following cell in your terminal"
   ]
  },
  {
   "cell_type": "code",
   "execution_count": null,
   "metadata": {},
   "outputs": [],
   "source": [
    "cwd = os.getcwd()\n",
    "cwd_escaped_spaces = cwd.replace(' ', '^ ')\n",
    "print('cd', cwd_escaped_spaces)"
   ]
  },
  {
   "cell_type": "markdown",
   "metadata": {},
   "source": [
    "Please run the **output** of the following command in the terminal:"
   ]
  },
  {
   "cell_type": "code",
   "execution_count": null,
   "metadata": {},
   "outputs": [],
   "source": [
    "print(sys.executable + ' hello_world.py')"
   ]
  },
  {
   "cell_type": "markdown",
   "metadata": {},
   "source": [
    "You've succesfully run your first Python program!"
   ]
  },
  {
   "cell_type": "markdown",
   "metadata": {},
   "source": [
    "## Exercise: Create and run your first program"
   ]
  },
  {
   "cell_type": "markdown",
   "metadata": {},
   "source": [
    "Please create and run your own program using an editor and the terminal. Please copy your beersong into your first program."
   ]
  },
  {
   "cell_type": "markdown",
   "metadata": {},
   "source": [
    "## 4. Import (the_program.py & utils.py)\n",
    "In Chapter 11, you've been introduced to **importing** modules and functions/methods.\n",
    "You can see any python program that you create (so any .py file) as a module, which means that you can import it into another python program. Let's see how this works."
   ]
  },
  {
   "cell_type": "markdown",
   "metadata": {},
   "source": [
    "Please open the files **the_program.py** and **utils.py** in an editor.\n",
    "\n",
    "You'll notice that:\n",
    "* [the_program.py line 1] the module **utils** is imported. The extension .py is not used when importing modules. **import utils** will import the file **utils.py**.\n",
    "* [the_program.py line 6] we can use any function from the file (**utils.count_words**)\n",
    "* [the_program.py line 10-11] we can use any global variable declared in **utils.py** (**utils.x** and **utils.python**)"
   ]
  },
  {
   "cell_type": "markdown",
   "metadata": {},
   "source": [
    "Please open the files **the_program_v2.py** and **utils.py** in an editor.\n",
    "\n",
    "You'll notice that:\n",
    "* we can import specific functions using the syntax **from MODULE import FUNCTION/VARIABLE**"
   ]
  },
  {
   "cell_type": "markdown",
   "metadata": {},
   "source": [
    "## Exercise: Please create two files:\n",
    "* **my_second_program.py**\n",
    "* **my_utils.py**\n",
    "\n",
    "Please create a helper function and store it in **my_utils.py** and import and call it in **my_second_program.py**. "
   ]
  },
  {
   "cell_type": "markdown",
   "metadata": {},
   "source": [
    "## 5. Notebooks and python scripts\n",
    "Please note that you can also import functions and variables from a python program while using notebooks."
   ]
  },
  {
   "cell_type": "code",
   "execution_count": null,
   "metadata": {
    "collapsed": true
   },
   "outputs": [],
   "source": [
    "from utils import count_words"
   ]
  },
  {
   "cell_type": "code",
   "execution_count": null,
   "metadata": {},
   "outputs": [],
   "source": [
    "words = ['how', 'often', 'does', 'each', 'string', 'occur', 'in', 'this', 'list', '?']\n",
    "\n",
    "word2freq = count_words(words)\n",
    "print('word2freq', word2freq)"
   ]
  }
 ],
 "metadata": {
  "kernelspec": {
   "display_name": "Python 3",
   "language": "python",
   "name": "python3"
  },
  "language_info": {
   "codemirror_mode": {
    "name": "ipython",
    "version": 3
   },
   "file_extension": ".py",
   "mimetype": "text/x-python",
   "name": "python",
   "nbconvert_exporter": "python",
   "pygments_lexer": "ipython3",
   "version": "3.6.0"
  }
 },
 "nbformat": 4,
 "nbformat_minor": 2
}
