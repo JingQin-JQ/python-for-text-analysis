{
 "cells": [
  {
   "cell_type": "markdown",
   "metadata": {},
   "source": [
    "\n",
    "# Chapter 12: Importing external modules"
   ]
  },
  {
   "cell_type": "markdown",
   "metadata": {},
   "source": [
    "Most of the functionality we have used thus far, is simply built into the Python language itself. Now we have also learnt how to write your own functions. Often however you need to use external modules in your code. A lot of external modules are already available in the Python Standard Library, for a wide variety of tasks. There are also countless third-party providers of Python modules.\n",
    "\n",
    "### At the end of this chapter, you will be able to:\n",
    "* import an entire module\n",
    "* import a specific function from a module\n",
    "* use `dir` and `help` to get information about a module or function\n",
    "* import a few commonly used modules: random, datetime, and requests\n",
    "\n",
    "**If you want to learn more about these topics, you might find the following links useful:**\n",
    "* [Tutorial: The import statement](https://www.tutorialspoint.com/python/python_modules.htm)\n",
    "* [Video: OS Module - Use Underlying Operating System Functionality](https://www.youtube.com/watch?v=tJxcKyFMTGo)\n",
    "\n",
    "### Acknowledgements:\n",
    "We use some materials from [this other Python course](https://github.com/kadarakos/python-course).\n",
    "\n",
    "\n",
    "## 1. Importing a module or a function\n",
    "\n",
    "To use an external module in your code you need to explicitly <span style=\"background-color:yellow\">import</span> it. Consider for example the module `random` from the standard library, which contains functions for generating random numbers:"
   ]
  },
  {
   "cell_type": "code",
   "execution_count": null,
   "metadata": {
    "collapsed": true
   },
   "outputs": [],
   "source": [
    "import random\n",
    "print(random.randint(0, 100))"
   ]
  },
  {
   "cell_type": "markdown",
   "metadata": {},
   "source": [
    "**Note the syntax used:** using the dot, we indicate that our machine should look for the `randint()` method inside the `random` module we just imported. You can import an entire module or import only a specific function in the module. We could also have imported the (single) function we needed as follows:"
   ]
  },
  {
   "cell_type": "code",
   "execution_count": null,
   "metadata": {
    "collapsed": true
   },
   "outputs": [],
   "source": [
    "from random import randint\n",
    "print(randint(0, 100))"
   ]
  },
  {
   "cell_type": "markdown",
   "metadata": {},
   "source": [
    "In this case we wouldn't have to specify where or machine should find the `randint()` function: note that we don't need to use the module random in the function call in this case.\n",
    "\n",
    "## 2. Getting help\n",
    "\n",
    "We might not understand how an external method works, or what are the inputs it needs, or what are the output values it returns. In that case, we can use `help()`:"
   ]
  },
  {
   "cell_type": "code",
   "execution_count": null,
   "metadata": {
    "collapsed": true
   },
   "outputs": [],
   "source": [
    "help(randint)"
   ]
  },
  {
   "cell_type": "markdown",
   "metadata": {},
   "source": [
    "If we like the `randint()` method, we might also be interested which other methods are offered in the `random` package. We can use `dir()` for this:"
   ]
  },
  {
   "cell_type": "code",
   "execution_count": null,
   "metadata": {
    "collapsed": true
   },
   "outputs": [],
   "source": [
    "dir(random)"
   ]
  },
  {
   "cell_type": "markdown",
   "metadata": {},
   "source": [
    "**Exercise:** Check which arguments should be supplied to the `random.sample()` method and what is their intention. Then call this function with different arguments."
   ]
  },
  {
   "cell_type": "code",
   "execution_count": null,
   "metadata": {},
   "outputs": [],
   "source": [
    "# Your code here"
   ]
  },
  {
   "cell_type": "markdown",
   "metadata": {},
   "source": [
    " You can also (temporarily) change the names of the functions you import:"
   ]
  },
  {
   "cell_type": "code",
   "execution_count": null,
   "metadata": {
    "collapsed": true
   },
   "outputs": [],
   "source": [
    "from random import randint as random_number\n",
    "print(random_number(0, 100))"
   ]
  },
  {
   "cell_type": "markdown",
   "metadata": {},
   "source": [
    "## 3. Other useful modules\n",
    "There are plenty of very useful modules out there, so it is a good practice to check if someone has already created a module for a task that you are facing. Let's look into two other common modules. The module **datetime** allows us to manipulate dates. For example, let's get the current date and time:"
   ]
  },
  {
   "cell_type": "code",
   "execution_count": null,
   "metadata": {},
   "outputs": [],
   "source": [
    "import datetime\n",
    "\n",
    "print(datetime.datetime.now())"
   ]
  },
  {
   "cell_type": "markdown",
   "metadata": {},
   "source": [
    "We can decipher the output ourselves: the first value is the current year, the second the current month, then day, hour, minute, etc. We can also see what Python tells us about this result:"
   ]
  },
  {
   "cell_type": "code",
   "execution_count": null,
   "metadata": {},
   "outputs": [],
   "source": [
    "help(datetime.datetime.now)"
   ]
  },
  {
   "cell_type": "markdown",
   "metadata": {},
   "source": [
    "Another module that is commonly used in Python is the `requests` module, that allows us to get the content of a webpage. Look how easy it is:"
   ]
  },
  {
   "cell_type": "code",
   "execution_count": null,
   "metadata": {
    "collapsed": true
   },
   "outputs": [],
   "source": [
    "import requests\n",
    "a=requests.get(\"http://ilievski.nl\")\n",
    "print(a.content)"
   ]
  },
  {
   "cell_type": "markdown",
   "metadata": {},
   "source": [
    "Don't bother too much with the response: it is a format called HTML (which is basically behind all web pages) and one would need to write some more code to extract the useful information from it. But: it is really impressive that we can retrieve any webpage from the web with just three lines of code!"
   ]
  },
  {
   "cell_type": "markdown",
   "metadata": {},
   "source": [
    "So, how does one **find** a useful module for a specific task? Answer: G00gle it ;-)"
   ]
  }
 ],
 "metadata": {
  "kernelspec": {
   "display_name": "Python 3",
   "language": "python",
   "name": "python3"
  },
  "language_info": {
   "codemirror_mode": {
    "name": "ipython",
    "version": 3
   },
   "file_extension": ".py",
   "mimetype": "text/x-python",
   "name": "python",
   "nbconvert_exporter": "python",
   "pygments_lexer": "ipython3",
   "version": "3.6.1"
  }
 },
 "nbformat": 4,
 "nbformat_minor": 2
}
