{
 "cells": [
  {
   "cell_type": "markdown",
   "metadata": {},
   "source": [
    "# Chapter 14: Data formats: CSV/TSV and JSON\n",
    "\n",
    "Let's look into data formats in Python. You probably have heard of (or are already quite familiar with) different data formats, such as plain text, tables (CSV/TSV), XML, JSON and RDF. These formats are simply the result of agreements that were made between people on how to organize and store data. Some of these formats, such as XML and RDF, have a high degree of structure, whereas plain text is a typical example of unstructured data. Structuring data according to predefined specifications allows information in the data to be easily ordered and processed by machines. You can compare highly structured data with a perfectly organized filing cabinet where everything is identified, labeled and easy to access. \n",
    "\n",
    "This notebook introduces two commonly used formats: CSV/TSV and JSON, and explains how you can work with files in these formats stored locally on your computer. \n",
    "In the next topic, we will cover another two formats: XML and CoNLL, but more about that later.\n",
    "\n",
    "### At the end of this chapter, you will be able to:\n",
    "* understand two key data formats in Python\n",
    "* manipulate tabular (CSV/TSV) data\n",
    "* read and write JSON dictionaries\n",
    "\n",
    "### If you want to learn more about these topics, you might find the following links useful:\n",
    "* [Tutorial: Reading and Manipulating CSV Files](https://newcircle.com/s/post/1572/python_for_beginners_reading_and_manipulating_csv_files)\n",
    "* [Video: Working With JSON](https://www.youtube.com/watch?v=Kf0q4Tf5M3c)\n",
    "\n",
    "### Acknowledgements:\n",
    "We use some materials from [this other Python course](https://github.com/kadarakos/python-course)."
   ]
  },
  {
   "cell_type": "markdown",
   "metadata": {},
   "source": [
    "## 1. CSV and TSV (tables): Baby names in Alaska\n",
    "The <span style=\"background-color:yellow\">table</span> is probably one of the most common and intuitive data formats. A table represents a set of data points as a series of rows, with a column for each of the data points' properties. Tabular data can be encoded as <span style=\"background-color:yellow\">CSV (comma-separated values) or TSV (tab-separated values)</span>. CSV and TSV files are simply plain text files in which each line represents a row and, within each line, a comma (for CSV) or a tab character (for TSV) separates the cells in the row (the columns).\n",
    "\n",
    "### 1.1. Reading CSV files\n",
    "\n",
    "In the following, we will have a look at the CSV file `AK.TXT` in the folder `../Data/baby_names/names_by_state`. If you'd like, you can open these files in a text editor or Excel (convert text to columns by using the comma as delimiter) to see their content. We will show you how you can read these files in Python without using external modules.\n",
    "\n",
    "Actually, in Python we could read a CSV file in a similar way as we have seen with plain text files:"
   ]
  },
  {
   "cell_type": "code",
   "execution_count": 1,
   "metadata": {},
   "outputs": [
    {
     "name": "stdout",
     "output_type": "stream",
     "text": [
      "'AK,F,1910,Mary,14\\n'\n"
     ]
    }
   ],
   "source": [
    "# Read the file and print its content \n",
    "filename = \"../Data/baby_names/names_by_state/AK.TXT\"\n",
    "with open(filename, \"r\") as csvfile:\n",
    "    content = csvfile.readlines()\n",
    "    print(repr(content[0])) # we can use repr() on the first line to check what's going on"
   ]
  },
  {
   "cell_type": "markdown",
   "metadata": {},
   "source": [
    "This file contains a list of names given to children in the state Alaska from 1910 to 2015. Each line in this file has five elements: the state abbreviation (AK for Alaska), gender (F/M), year, name, and frequency of that name in the given year and state. These elements are all separated by commas. So even though the extension of this file is not `.csv`, the data is still in a CSV format.\n",
    "\n",
    "Let's say we want to create a list that contains each row of the CSV files, and each row itself is a list representing the different columns in the CSV file. We could do that by iterating through each line of this file as we have seen before, and then split each row into columns using the `split()` method:"
   ]
  },
  {
   "cell_type": "code",
   "execution_count": 2,
   "metadata": {
    "collapsed": true
   },
   "outputs": [],
   "source": [
    "# Read the file and get all lines\n",
    "filename = \"../Data/baby_names/names_by_state/AK.TXT\"\n",
    "with open(filename, \"r\") as csvfile:\n",
    "    csv_data = []\n",
    "    for row in csvfile: # You can also use csvfile.readlines() here\n",
    "        columns = row.split(\",\")\n",
    "        csv_data.append(columns)"
   ]
  },
  {
   "cell_type": "markdown",
   "metadata": {},
   "source": [
    "The variable `csv_data` now contains a list of all rows in the file. Let's have a look at an example"
   ]
  },
  {
   "cell_type": "code",
   "execution_count": 3,
   "metadata": {},
   "outputs": [
    {
     "name": "stdout",
     "output_type": "stream",
     "text": [
      "['AK', 'F', '1912', 'Helen', '7\\n']\n"
     ]
    }
   ],
   "source": [
    "example_row = csv_data[18]\n",
    "print(example_row)"
   ]
  },
  {
   "cell_type": "markdown",
   "metadata": {},
   "source": [
    "We see that this worked, but that `\\n` (the character for a new line) is included in the last item of the list (represening the last column). If we don't want this to be included, we need to remove it somehow. For example, by using the `strip()` method as shown below:"
   ]
  },
  {
   "cell_type": "code",
   "execution_count": 4,
   "metadata": {},
   "outputs": [
    {
     "name": "stdout",
     "output_type": "stream",
     "text": [
      "['AK', 'F', '1912', 'Helen', '7']\n"
     ]
    }
   ],
   "source": [
    "# Read the file and get all lines\n",
    "filename = \"../Data/baby_names/names_by_state/AK.TXT\"\n",
    "with open(filename, \"r\") as csvfile:\n",
    "    csv_data = []\n",
    "    for row in csvfile:\n",
    "        row = row.strip(\"\\n\") # remove all newlines\n",
    "        columns = row.split(\",\")\n",
    "        csv_data.append(columns)\n",
    "\n",
    "# Print an example row\n",
    "example_row = csv_data[18]\n",
    "print(example_row)"
   ]
  },
  {
   "cell_type": "markdown",
   "metadata": {},
   "source": [
    "Now we can, for example, write a program that prints all rows containing the names given in 1912:"
   ]
  },
  {
   "cell_type": "code",
   "execution_count": 5,
   "metadata": {},
   "outputs": [
    {
     "name": "stdout",
     "output_type": "stream",
     "text": [
      "['AK', 'F', '1912', 'Mary', '9']\n",
      "['AK', 'F', '1912', 'Elsie', '8']\n",
      "['AK', 'F', '1912', 'Agnes', '7']\n",
      "['AK', 'F', '1912', 'Anna', '7']\n",
      "['AK', 'F', '1912', 'Helen', '7']\n",
      "['AK', 'F', '1912', 'Louise', '7']\n",
      "['AK', 'F', '1912', 'Jean', '6']\n",
      "['AK', 'F', '1912', 'Ruth', '6']\n",
      "['AK', 'F', '1912', 'Alice', '5']\n",
      "['AK', 'F', '1912', 'Esther', '5']\n",
      "['AK', 'F', '1912', 'Ethel', '5']\n",
      "['AK', 'F', '1912', 'Margaret', '5']\n",
      "['AK', 'F', '1912', 'Marie', '5']\n",
      "['AK', 'M', '1912', 'John', '16']\n",
      "['AK', 'M', '1912', 'William', '10']\n",
      "['AK', 'M', '1912', 'George', '9']\n",
      "['AK', 'M', '1912', 'Charles', '7']\n",
      "['AK', 'M', '1912', 'Nick', '7']\n",
      "['AK', 'M', '1912', 'Frank', '5']\n",
      "['AK', 'M', '1912', 'James', '5']\n"
     ]
    }
   ],
   "source": [
    "# Example: print all names given in 1912\n",
    "for row in csv_data:\n",
    "    year = row[2]\n",
    "    if year == \"1912\":\n",
    "        print(row)"
   ]
  },
  {
   "cell_type": "markdown",
   "metadata": {},
   "source": [
    "**Exercise**: Modify the code from above to load TSV (tab-separated values) files instead of CSV files.\n",
    "Hint: The character for a tab is '\\t'."
   ]
  },
  {
   "cell_type": "code",
   "execution_count": 9,
   "metadata": {},
   "outputs": [
    {
     "name": "stdout",
     "output_type": "stream",
     "text": [
      "['AK', 'F', '1912', 'Mary', '9']\n",
      "['AK', 'F', '1912', 'Elsie', '8']\n",
      "['AK', 'F', '1912', 'Agnes', '7']\n",
      "['AK', 'F', '1912', 'Anna', '7']\n",
      "['AK', 'F', '1912', 'Helen', '7']\n",
      "['AK', 'F', '1912', 'Louise', '7']\n",
      "['AK', 'F', '1912', 'Jean', '6']\n",
      "['AK', 'F', '1912', 'Ruth', '6']\n",
      "['AK', 'F', '1912', 'Alice', '5']\n",
      "['AK', 'F', '1912', 'Esther', '5']\n",
      "['AK', 'F', '1912', 'Ethel', '5']\n",
      "['AK', 'F', '1912', 'Margaret', '5']\n",
      "['AK', 'F', '1912', 'Marie', '5']\n",
      "['AK', 'M', '1912', 'John', '16']\n",
      "['AK', 'M', '1912', 'William', '10']\n",
      "['AK', 'M', '1912', 'George', '9']\n",
      "['AK', 'M', '1912', 'Charles', '7']\n",
      "['AK', 'M', '1912', 'Nick', '7']\n",
      "['AK', 'M', '1912', 'Frank', '5']\n",
      "['AK', 'M', '1912', 'James', '5']\n"
     ]
    }
   ],
   "source": [
    "# Your code here\n",
    "# Read the file and get all lines\n",
    "filename = \"../Data/baby_names/names_by_state/AK.TXT\"\n",
    "with open(filename, \"r\") as tsvfile:\n",
    "    tsv_data = []\n",
    "    for row in tsvfile:\n",
    "        row = row.strip(\"\\n\") # remove all newlines\n",
    "        columns = row.split(\",\")\n",
    "        tsv_data.append(columns)\n",
    "\n",
    "# Example: print all names given in 1912\n",
    "for row in tsv_data:\n",
    "    year = row[2]\n",
    "    if year == \"1912\":\n",
    "        print(row)"
   ]
  },
  {
   "cell_type": "markdown",
   "metadata": {},
   "source": [
    "**Exercise**: Place the code in a function `load_tabular_data(filename, delimiter)` that receives the filename and a delimiter as input parameters, and returns the file content as a list of lines. Then we can call this function for CSV (with a comma as an argument) and for TSV (with a tabulator as an argument). Also make sure that `delimiter` is a keyword parameter, with a defaul value ','."
   ]
  },
  {
   "cell_type": "code",
   "execution_count": null,
   "metadata": {
    "collapsed": true
   },
   "outputs": [],
   "source": [
    "def load_tabular_data(filename, delimiter): # delimiter should be a keyword parameter\n",
    "    # your code here\n",
    "    \n",
    "    return data\n",
    "    \n",
    "# Now let's test the function\n",
    "csv_filename=\"../Data/baby_names/names_by_state/AK.TXT\"\n",
    "load_tabular_data(csv_filename, delimiter=',')\n",
    "#tsv_filename=\"../Data/baby_names/names_by_state/AK.TXT\" \n",
    "#load_tabular_data(tsv_filename, '\\t')"
   ]
  },
  {
   "cell_type": "markdown",
   "metadata": {},
   "source": [
    "Even though you have to perform some steps to split the file in lines, then split the lines into columns, and remove newlines, this method works. But: can you think of an example CSV where this function will fail?  \n",
    "\n",
    "Such an example is the file `debate.csv` in the folder `../Data/Debate`. This file contains transcripts of the 2016 (vice-)presidential debate from 26 September to 9 October. You can use the code below to see its header:"
   ]
  },
  {
   "cell_type": "code",
   "execution_count": 10,
   "metadata": {},
   "outputs": [
    {
     "name": "stdout",
     "output_type": "stream",
     "text": [
      "['\"Line\"', '\"Speaker\"', '\"Text\"', '\"Date\"\\n']\n",
      "1,\"Holt\",\"Good evening from Hofstra University in Hempstead, New York. I'm Lester Holt, anchor of \"\"NBC Nightly News.\"\" I want to welcome you to the first presidential debate. The participants tonight are Donald Trump and Hillary Clinton. This debate is sponsored by the Commission on Presidential Debates, a nonpartisan, nonprofit organization. The commission drafted tonight's format, and the rules have been agreed to by the campaigns. The 90-minute debate is divided into six segments, each 15 minutes long. We'll explore three topic areas tonight: Achieving prosperity; America's direction; and securing America. At the start of each segment, I will ask the same lead-off question to both candidates, and they will each have up to two minutes to respond. From that point until the end of the segment, we'll have an open discussion. The questions are mine and have not been shared with the commission or the campaigns. The audience here in the room has agreed to remain silent so that we can focus on what the candidates are saying. I will invite you to applaud, however, at this moment, as we welcome the candidates: Democratic nominee for president of the United States, Hillary Clinton, and Republican nominee for president of the United States, Donald J. Trump.\",\"9/26/16\"\n",
      "\n"
     ]
    }
   ],
   "source": [
    "# Read the file and print its content \n",
    "filename = \"../Data/Debate/debate.csv\"\n",
    "with open(filename, \"r\") as csvfile:\n",
    "    headers=csvfile.readline().split(',')\n",
    "    print(headers)\n",
    "    first_content_line=csvfile.readline()\n",
    "    print(first_content_line)"
   ]
  },
  {
   "cell_type": "markdown",
   "metadata": {},
   "source": [
    "The first line of this file is a header. We see from this first line the names of the columns: `Line`, `Speaker`, `Text` and `Date`. The remaining lines look like `first_content_line`, and represent the transcripts of the different speakers in chronological order. We split the file into rows and the rows into columns again, and print an example row:"
   ]
  },
  {
   "cell_type": "code",
   "execution_count": 11,
   "metadata": {},
   "outputs": [
    {
     "name": "stdout",
     "output_type": "stream",
     "text": [
      "['19', '\"Holt\"', '\"Back to the question', ' though. How do you bring back -- specifically bring back jobs', ' American manufacturers? How do you make them bring the jobs back?\"', '\"9/26/16\"']\n",
      "The header has 4 columns. Row #19 has 6 columns.\n"
     ]
    }
   ],
   "source": [
    "# Read the file and get all lines\n",
    "filename = \"../Data/Debate/debate.csv\"\n",
    "with open(filename, \"r\") as csvfile:\n",
    "    csv_data = []\n",
    "    headers=csvfile.readline().split(',')\n",
    "    for row in csvfile:\n",
    "        row = row.strip(\"\\n\") # remove all newlines\n",
    "        columns = row.split(\",\")\n",
    "        csv_data.append(columns)\n",
    "\n",
    "example_row = csv_data[18]\n",
    "print(example_row)\n",
    "print(f\"The header has {len(headers)} columns. Row #19 has {len(example_row)} columns.\")"
   ]
  },
  {
   "cell_type": "markdown",
   "metadata": {},
   "source": [
    "We immediately see a problem: we get 6 columns instead of 4. This is because Python has split the string by all occurrences of the comma, including the ones that are part of the transcripts (inside the `Text` column). In the CSV file, double quotation marks are used to surround the different cells (saying: \"treat the part between quotation marks as one unit\"), but the `split()` function does not take this into account and splits these units anyway. In addition, the quotation marks are also included in the strings representing the data inside the columns, even though these were just there to indicate that whatever is inside these quotation marks should be treated as one data point.\n",
    "\n",
    "You may have ideas for a fix regarding this specific file and surely you will eventually find a good solution for it. However, the take home message here is: <span style=\"background-color:yellow\">use an external module when possible</span>. Always ask yourself: how probable it is that someone else ran into a similar issue? If the answer is *very probable* (vast majority of all cases), then there should be a solid external module that you can use. In this case, we recommend you to use the module `csv`."
   ]
  },
  {
   "cell_type": "markdown",
   "metadata": {},
   "source": [
    "### 1.2 Writing CSV files\n",
    "\n",
    "Let's say now we have a table in Python stored as a list of rows. Then we can iterate this list and write each row to a file. Note that we have to add '\\n' for a new line. This is basically the inverse process of reading a CSV file. So, let's use the same code as before to read a file into the variable `csv_data`:"
   ]
  },
  {
   "cell_type": "code",
   "execution_count": 12,
   "metadata": {
    "collapsed": true
   },
   "outputs": [],
   "source": [
    "# Read the file and convert to a list of lists (each list representing a row)\n",
    "infilename = \"../Data/baby_names/names_by_state/AK.TXT\"\n",
    "with open(infilename, \"r\") as csvfile:\n",
    "    csv_data = []\n",
    "    for row in csvfile:\n",
    "        row = row.strip(\"\\n\") # remove all newlines\n",
    "        columns = row.split(\",\")\n",
    "        csv_data.append(columns)"
   ]
  },
  {
   "cell_type": "markdown",
   "metadata": {},
   "source": [
    "We can now potentially modify this data, and then store it back into a file. Let's say we replace all state occurences of \"AK\" with our invented state \"PY\", and then store the variable into a tab-separated (TSV) file:"
   ]
  },
  {
   "cell_type": "code",
   "execution_count": 13,
   "metadata": {
    "collapsed": true
   },
   "outputs": [],
   "source": [
    "# Write the list of lists to a new output file\n",
    "outfilename = \"../Data/baby_names/names_by_state/PY.tsv\"\n",
    "with open(outfilename, \"w\") as outfile:\n",
    "    for row in csv_data:\n",
    "        if row[0]=='AK':\n",
    "            row[0]='PY'\n",
    "        line = '\\t'.join(row) + '\\n'\n",
    "        outfile.write(line)"
   ]
  },
  {
   "cell_type": "markdown",
   "metadata": {},
   "source": [
    "Note: We show you how to write CSV/TSV file with your own code, so you can have a good feeling what is going on. Similarly as with the reading operation, we advise you to use the `csv` module in a practical situation."
   ]
  },
  {
   "cell_type": "markdown",
   "metadata": {},
   "source": [
    "**Exercise:** Now try to write a new `csv` file yourself! Create a CSV file called `friends.csv` in the `../Data/Friends` folder that contains the names of 5 of your friends, their gender, and their favorite animal. Do not quote anything on the output and use semicolons as separators. Include the header with the column names in the file (Note: this folder might not exist on your computer, so it has to be created first - but the code that does this is provided)."
   ]
  },
  {
   "cell_type": "code",
   "execution_count": 14,
   "metadata": {
    "collapsed": true
   },
   "outputs": [],
   "source": [
    "import os\n",
    "\n",
    "path=\"../Data/Friends\" \n",
    "os.makedirs(path, exist_ok=True) # First we have to make sure that this path exists (in this case it does not, so we have to create it!)\n",
    "\n",
    "# Finish the following list\n",
    "csvdata = [\n",
    "    [\"First Name\", \"Last Name\", \"Gender\", \"Favorite animal\"],\n",
    "    [\"Chantal\", \"van Son\", \"female\", \"cat\"]\n",
    "    # add 5 of your friends \n",
    "]\n",
    "\n",
    "# Create a CSV file called `friends.csv` and write the csv data to this file"
   ]
  },
  {
   "cell_type": "markdown",
   "metadata": {},
   "source": [
    "**Exercise**: Now *append* information about your other two teachers at the bottom of this `friends.csv` file (attention: make sure you do not overwrite the contents of the file)."
   ]
  },
  {
   "cell_type": "code",
   "execution_count": 15,
   "metadata": {
    "collapsed": true
   },
   "outputs": [],
   "source": [
    "teacherdata = [\n",
    "    [\"Marten\", \"Postma\", \"male\", \"dinosaur\"],\n",
    "    [\"Filip\", \"Ilievski\", \"male\", \"zebra\"]\n",
    "]\n",
    "\n",
    "# Append the teacher data to the `friends.csv` file"
   ]
  },
  {
   "cell_type": "markdown",
   "metadata": {},
   "source": [
    "### 1.3. The `csv` module\n",
    "\n",
    "You can read and write CSV or TSV files in Python by using the `csv` module. We will not cover it in this course, but feel free to take a look and give it a try!"
   ]
  },
  {
   "cell_type": "markdown",
   "metadata": {},
   "source": [
    "## 2. JSON\n",
    "\n",
    "Let's have a look at another data format. You probably have heard about <span style=\"background-color:yellow\">JSON</span> before. JSON is a lightweight data-interchange format that is easy for humans to read and write, and easy for machines to parse and generate. It is completely language independent. However, data formatted in JSON is just like a <span style=\"background-color:yellow\">Python dictionary</span>! The `json` module provides an easy way to encode and decode data in JSON. This can be done with the following functions:\n",
    "\n",
    "- `json.load()` and `json.loads()` for reading JSON\n",
    "- `json.dump()` and `json.dumps()` for writing JSON \n",
    "\n",
    "The functions with an **s** take string arguments.\n",
    "\n",
    "We will show how JSON looks like and how to use these functions by creating a dictionary in Python called `dictionary_friends`. Recall from Topic 2 that dictionaries consist of keys and values. In this case, we have 4 keys (\"Chantal\", \"Jean\", \"Laura\" and \"Patrick\"), and the values of these keys are dictionaries themselves. These dictionaries have 6 keys (\"first name\", \"gender\", etc.) with strings, boolean values, integers and lists as values. "
   ]
  },
  {
   "cell_type": "code",
   "execution_count": 16,
   "metadata": {
    "collapsed": true
   },
   "outputs": [],
   "source": [
    "dictionary_friends = {\n",
    "    \"Chantal\": {\n",
    "        \"first name\": \"Chantal\", \n",
    "        \"last name\": \"van Son\", \n",
    "        \"gender\": \"female\", \n",
    "        \"age\": 27, \n",
    "        \"favorite_animal\": \"cat\",\n",
    "        \"single\": False,\n",
    "        \"siblings\": [\"Dennis\", \"Kelly\"]},\n",
    "    \"Jean\": {\n",
    "        \"first name\": \"Jean\", \n",
    "        \"last name\": \"van der Sluijs\", \n",
    "        \"gender\": \"male\", \n",
    "        \"age\": 30, \n",
    "        \"favorite_animal\": \"dog\",\n",
    "        \"single\": False,\n",
    "        \"siblings\": [\"Leo\"]},\n",
    "    \"Laura\": {\n",
    "        \"first name\": \"Laura\", \n",
    "        \"last name\": \"Kamphuis\", \n",
    "        \"gender\": \"female\", \n",
    "        \"age\": 25, \n",
    "        \"favorite_animal\": \"platypus\",\n",
    "        \"single\": False,\n",
    "        \"siblings\": [\"Danique\", \"Lisa\"]},\n",
    "    \"Patrick\": {\n",
    "        \"first name\": \"Patrick\", \n",
    "        \"last name\": \"van der Plas\", \n",
    "        \"gender\": \"male\", \n",
    "        \"age\": 26, \n",
    "        \"favorite_animal\": \"giraffe\",\n",
    "        \"single\": True,\n",
    "        \"siblings\": None}}"
   ]
  },
  {
   "cell_type": "markdown",
   "metadata": {},
   "source": [
    "Now, let's first import the `json` module:"
   ]
  },
  {
   "cell_type": "code",
   "execution_count": 17,
   "metadata": {
    "collapsed": true
   },
   "outputs": [],
   "source": [
    "import json"
   ]
  },
  {
   "cell_type": "markdown",
   "metadata": {},
   "source": [
    "#### The `dump() `and `dumps()` functions\n",
    "We can very easily write our dictionary to a file in JSON format by using `json.dump()` as follows:"
   ]
  },
  {
   "cell_type": "code",
   "execution_count": 18,
   "metadata": {
    "collapsed": true
   },
   "outputs": [],
   "source": [
    "with open(\"../Data/Friends/friends.json\", \"w\") as outfile:\n",
    "     json.dump(dictionary_friends, outfile)"
   ]
  },
  {
   "cell_type": "markdown",
   "metadata": {},
   "source": [
    "We used `json.dump()` and not `json.dumps()` because we used a dictionary as argument, not a string. What happened here is that Python has turned the dictionary into a string in JSON format, and wrote this string to the file `friends.json`. We can read the file again to see how this string looks like:"
   ]
  },
  {
   "cell_type": "code",
   "execution_count": 19,
   "metadata": {},
   "outputs": [
    {
     "name": "stdout",
     "output_type": "stream",
     "text": [
      "{\"Chantal\": {\"first name\": \"Chantal\", \"last name\": \"van Son\", \"gender\": \"female\", \"age\": 27, \"favorite_animal\": \"cat\", \"single\": false, \"siblings\": [\"Dennis\", \"Kelly\"]}, \"Jean\": {\"first name\": \"Jean\", \"last name\": \"van der Sluijs\", \"gender\": \"male\", \"age\": 30, \"favorite_animal\": \"dog\", \"single\": false, \"siblings\": [\"Leo\"]}, \"Laura\": {\"first name\": \"Laura\", \"last name\": \"Kamphuis\", \"gender\": \"female\", \"age\": 25, \"favorite_animal\": \"platypus\", \"single\": false, \"siblings\": [\"Danique\", \"Lisa\"]}, \"Patrick\": {\"first name\": \"Patrick\", \"last name\": \"van der Plas\", \"gender\": \"male\", \"age\": 26, \"favorite_animal\": \"giraffe\", \"single\": true, \"siblings\": null}}\n"
     ]
    }
   ],
   "source": [
    "with open(\"../Data/Friends/friends.json\", \"r\") as infile:\n",
    "    json_string = infile.read()\n",
    "    print(json_string)"
   ]
  },
  {
   "cell_type": "markdown",
   "metadata": {},
   "source": [
    "As you can see, this does not look very pretty. We can solve that by using the keyword arguments \"indent\" (set it to 4, for example) for pretty-printing and \"sort_keys\" (set to True) to sort the keys alphabetically:"
   ]
  },
  {
   "cell_type": "code",
   "execution_count": 20,
   "metadata": {},
   "outputs": [
    {
     "name": "stdout",
     "output_type": "stream",
     "text": [
      "{\n",
      "    \"Chantal\": {\n",
      "        \"age\": 27,\n",
      "        \"favorite_animal\": \"cat\",\n",
      "        \"first name\": \"Chantal\",\n",
      "        \"gender\": \"female\",\n",
      "        \"last name\": \"van Son\",\n",
      "        \"siblings\": [\n",
      "            \"Dennis\",\n",
      "            \"Kelly\"\n",
      "        ],\n",
      "        \"single\": false\n",
      "    },\n",
      "    \"Jean\": {\n",
      "        \"age\": 30,\n",
      "        \"favorite_animal\": \"dog\",\n",
      "        \"first name\": \"Jean\",\n",
      "        \"gender\": \"male\",\n",
      "        \"last name\": \"van der Sluijs\",\n",
      "        \"siblings\": [\n",
      "            \"Leo\"\n",
      "        ],\n",
      "        \"single\": false\n",
      "    },\n",
      "    \"Laura\": {\n",
      "        \"age\": 25,\n",
      "        \"favorite_animal\": \"platypus\",\n",
      "        \"first name\": \"Laura\",\n",
      "        \"gender\": \"female\",\n",
      "        \"last name\": \"Kamphuis\",\n",
      "        \"siblings\": [\n",
      "            \"Danique\",\n",
      "            \"Lisa\"\n",
      "        ],\n",
      "        \"single\": false\n",
      "    },\n",
      "    \"Patrick\": {\n",
      "        \"age\": 26,\n",
      "        \"favorite_animal\": \"giraffe\",\n",
      "        \"first name\": \"Patrick\",\n",
      "        \"gender\": \"male\",\n",
      "        \"last name\": \"van der Plas\",\n",
      "        \"siblings\": null,\n",
      "        \"single\": true\n",
      "    }\n",
      "}\n"
     ]
    }
   ],
   "source": [
    "# Create the JSON file\n",
    "with open(\"../Data/Friends/friends.json\", \"w\") as outfile:\n",
    "     json.dump(dictionary_friends, outfile, indent=4, sort_keys=True)\n",
    "\n",
    "# Read in the JSON file again\n",
    "with open(\"../Data/Friends/friends.json\", \"r\") as infile:\n",
    "    json_string = infile.read()\n",
    "    print(json_string)"
   ]
  },
  {
   "cell_type": "markdown",
   "metadata": {},
   "source": [
    "It looks exactly like a Python dictionary! However, it really is a string. Remember, you can check the type of a Python object as follows:"
   ]
  },
  {
   "cell_type": "code",
   "execution_count": 21,
   "metadata": {},
   "outputs": [
    {
     "name": "stdout",
     "output_type": "stream",
     "text": [
      "<class 'str'>\n"
     ]
    }
   ],
   "source": [
    "print(type(json_string))"
   ]
  },
  {
   "cell_type": "markdown",
   "metadata": {},
   "source": [
    "If you compare the JSON-encoded string to the original dictionary, there are some small differences. The boolean values, for example, are written as `true` and `false` instead of `True` and `False`, and `null` is equivalent to `None`.\n",
    "\n",
    "#### The `load()` and `loads()` functions\n",
    "Here is how you turn a JSON-encoded string back into a Python dictionary (now we use a string as argument, so we use `json.loads()`):"
   ]
  },
  {
   "cell_type": "code",
   "execution_count": 22,
   "metadata": {
    "collapsed": true
   },
   "outputs": [],
   "source": [
    "dictionary_friends = json.loads(json_string)"
   ]
  },
  {
   "cell_type": "markdown",
   "metadata": {},
   "source": [
    "Execute the following code to check the output of `json.load()`: "
   ]
  },
  {
   "cell_type": "code",
   "execution_count": 23,
   "metadata": {},
   "outputs": [
    {
     "name": "stdout",
     "output_type": "stream",
     "text": [
      "{'Chantal': {'age': 27, 'favorite_animal': 'cat', 'first name': 'Chantal', 'gender': 'female', 'last name': 'van Son', 'siblings': ['Dennis', 'Kelly'], 'single': False}, 'Jean': {'age': 30, 'favorite_animal': 'dog', 'first name': 'Jean', 'gender': 'male', 'last name': 'van der Sluijs', 'siblings': ['Leo'], 'single': False}, 'Laura': {'age': 25, 'favorite_animal': 'platypus', 'first name': 'Laura', 'gender': 'female', 'last name': 'Kamphuis', 'siblings': ['Danique', 'Lisa'], 'single': False}, 'Patrick': {'age': 26, 'favorite_animal': 'giraffe', 'first name': 'Patrick', 'gender': 'male', 'last name': 'van der Plas', 'siblings': None, 'single': True}}\n",
      "<class 'dict'>\n"
     ]
    }
   ],
   "source": [
    "print(dictionary_friends)\n",
    "print(type(dictionary_friends))"
   ]
  },
  {
   "cell_type": "markdown",
   "metadata": {},
   "source": [
    "Well, that was easy, wasn't it?\n",
    "\n",
    "**Exercises:**\n",
    "Let's practice a bit more with accessing the values of dictionaries:"
   ]
  },
  {
   "cell_type": "code",
   "execution_count": 24,
   "metadata": {},
   "outputs": [
    {
     "name": "stdout",
     "output_type": "stream",
     "text": [
      "female\n"
     ]
    }
   ],
   "source": [
    "# Example: This will print the gender of \"Chantal\"\n",
    "print(dictionary_friends[\"Chantal\"][\"gender\"])"
   ]
  },
  {
   "cell_type": "code",
   "execution_count": null,
   "metadata": {
    "collapsed": true
   },
   "outputs": [],
   "source": [
    "# Print the age of Jean\n"
   ]
  },
  {
   "cell_type": "code",
   "execution_count": null,
   "metadata": {
    "collapsed": true
   },
   "outputs": [],
   "source": [
    "# Print the first sibling of Laura\n"
   ]
  },
  {
   "cell_type": "code",
   "execution_count": null,
   "metadata": {
    "collapsed": true
   },
   "outputs": [],
   "source": [
    "# Write a for-loop and to print for each person his or her favorite animal\n"
   ]
  }
 ],
 "metadata": {
  "kernelspec": {
   "display_name": "Python 3",
   "language": "python",
   "name": "python3"
  },
  "language_info": {
   "codemirror_mode": {
    "name": "ipython",
    "version": 3
   },
   "file_extension": ".py",
   "mimetype": "text/x-python",
   "name": "python",
   "nbconvert_exporter": "python",
   "pygments_lexer": "ipython3",
   "version": "3.6.1"
  }
 },
 "nbformat": 4,
 "nbformat_minor": 2
}
