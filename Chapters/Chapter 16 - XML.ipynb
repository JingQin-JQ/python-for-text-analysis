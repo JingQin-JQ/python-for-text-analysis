{
 "cells": [
  {
   "cell_type": "markdown",
   "metadata": {},
   "source": [
    "# Chapter 16 - XML\n",
    "Until now, we have already seen quite some data formats (csv, tsv, json, etc). In this week, we will learn how to work with one of the most popular structured data format: [XML](http://www.w3schools.com/xml/). XML is used a lot in NLP and therefore it is important that you know how to work with it. "
   ]
  },
  {
   "cell_type": "markdown",
   "metadata": {},
   "source": [
    "### Preparation \n",
    "Please run the following cells to check whether the relevant files are in the relevant places on your computer."
   ]
  },
  {
   "cell_type": "code",
   "execution_count": null,
   "metadata": {
    "collapsed": true
   },
   "outputs": [],
   "source": [
    "import os"
   ]
  },
  {
   "cell_type": "code",
   "execution_count": null,
   "metadata": {
    "collapsed": true
   },
   "outputs": [],
   "source": [
    "github_link = 'https://github.com/cltl/python-for-text-analysis#planning'\n",
    "path_course_xml = '../Data/xml_data/course.xml'\n",
    "path_naf_xml = '../Data/xml_data/naf.xml'\n",
    "\n",
    "for path in [path_course_xml, path_naf_xml]:\n",
    "    assert os.path.exists(path), f'{path} does not exist. Please download it from {github_link}'"
   ]
  },
  {
   "cell_type": "markdown",
   "metadata": {},
   "source": [
    "### At the end of this chapter, you will be able to\n",
    "* read an XML file using **<span style=\"background-color:yellow\">etree.parse</span>**\n",
    "* read XML from string using **<span style=\"background-color:yellow\">etree.fromstring</span>**\n",
    "* convert an XML element to a string using **<span style=\"background-color:yellow\">etree.tostring</span>**\n",
    "* use the following methods and attributes of an XML element (of type **lxml.etree._Element**):\n",
    "    * **to access elements**: **<span style=\"background-color:yellow\">methods 'find', 'findall', and 'getchildren'</span>**\n",
    "    * **to access attributes**: **<span style=\"background-color:yellow\">method 'get'</span>**\n",
    "    * **to access element information**: **<span style=\"background-color:yellow\">attributes 'tag' and 'text'</span>**\n",
    "\n",
    "* [not needed for assignment] create your own XML and write it to a file"
   ]
  },
  {
   "cell_type": "markdown",
   "metadata": {},
   "source": [
    "### If you want to learn more about this chapter, you might find the following links useful:\n",
    "* [XML](http://www.w3schools.com/xml/)\n",
    "* [detailled XML introduction](http://www.dfki.de/~uschaefer/esslli09/xmlquerylang.pdf)\n",
    "* [NAF XML](http://www.newsreader-project.eu/files/2013/01/techreport.pdf)\n",
    "* [Xpath](http://www.w3schools.com/xml/xpath_syntax.asp)\n",
    "* Other structured data formats: [JSON-LD](http://json-ld.org/), [MicroData](https://www.w3.org/TR/microdata/), [RDF](https://www.w3.org/RDF/)"
   ]
  },
  {
   "cell_type": "markdown",
   "metadata": {},
   "source": [
    "### 1. Introduction\n",
    "NLP is all about data. More specifically, we usually want to annotate (manually or automatically) textual data with information about:\n",
    "* [part of speech](https://en.wikipedia.org/wiki/Part_of_speech)\n",
    "* [word senses](https://en.wikipedia.org/wiki/Word_sense)\n",
    "* [entities](https://en.wikipedia.org/wiki/Entity_linking)\n",
    "* [semantic role labelling](https://en.wikipedia.org/wiki/Semantic_role_labeling)\n",
    "* many many many more.....\n",
    "\n",
    "What would data look like that contains all this information? Let's look at a simple example:"
   ]
  },
  {
   "cell_type": "code",
   "execution_count": null,
   "metadata": {
    "collapsed": true
   },
   "outputs": [],
   "source": [
    "import nltk"
   ]
  },
  {
   "cell_type": "code",
   "execution_count": null,
   "metadata": {},
   "outputs": [],
   "source": [
    "text = nltk.word_tokenize(\"Tom Cruise is an actor.\")\n",
    "print(nltk.pos_tag(text))"
   ]
  },
  {
   "cell_type": "markdown",
   "metadata": {},
   "source": [
    "In this example, we see that the format is a list of [tuples](https://docs.python.org/3/tutorial/datastructures.html#tuples-and-sequences).  The first element of each tuple is the word and the second element is the part of speech tag. Great, so far this works.  However, we also want to indicate that **Tom Cruise** is an entity. Now, we start to run into trouble, because some annotations are for single words and some are for combinations of words. In addition, sometimes we have more than one annotation per token. Data structures such as csv and tsv are not great at **representing** linguistic information. So is there a format that is better at it? The answer is yes and the format is XML. "
   ]
  },
  {
   "cell_type": "markdown",
   "metadata": {},
   "source": [
    "## 2. Terminology\n",
    "Let's look at an example (the line numbers are there for explanation purposes). On purpose, we start with a non-linguistic, hopefully intuitive example."
   ]
  },
  {
   "cell_type": "markdown",
   "metadata": {},
   "source": [
    "```xml\n",
    "1.  <Course>\n",
    "2.      <person role=\"coordinator\">Van der Vliet</person>\n",
    "3.      <person role=\"instructor\">Van Miltenburg</person>\n",
    "4.      <person role=\"instructor\">Van Son</person>\n",
    "5.      <person role=\"instructor\">Postma</person>\n",
    "6.      <person role=\"student\">Baloche</person>\n",
    "7.      <person role=\"student\">De Boer</person>\n",
    "8.      <animal role=\"student\">Rubber duck</animal>\n",
    "9.      <person role=\"student\">Van Doorn</person>\n",
    "10.     <person role=\"student\">De Jager</person>\n",
    "11.     <person role=\"student\">King</person>\n",
    "12.     <person role=\"student\">Kingham</person>\n",
    "13.     <person role=\"student\">Mózes</person>\n",
    "14.     <person role=\"student\">Rübsaam</person>\n",
    "15.     <person role=\"student\">Torsi</person>\n",
    "16.     <person role=\"student\">Witteman</person>\n",
    "17.     <person role=\"student\">Wouterse</person>\n",
    "18.     <person/>\n",
    "19. </Course>\n",
    "```"
   ]
  },
  {
   "cell_type": "markdown",
   "metadata": {},
   "source": [
    "### 2.1 Elements\n",
    "Line 1 to 19 all show examples of [XML elements](http://www.w3schools.com/xml/xml_elements.asp). Each XML element contains a **starting tag** (e.g. ```<person>```) and an **end tag** (e.g. ```</person>```). An element can contain:\n",
    "* **text** *Van der Vliet* on line 2\n",
    "* **attributes**: *role* attribute in lines 2 to 17\n",
    "* **elements**: elements can contain other elements, e.g. *person* elements inside the *Course* element. The terminology to talk about this is as follows. In this example, we call `person` the `child` of `Course` and `Course` the `parent` of `person`.\n",
    "\n",
    "Please note that on line 18 the **starting tag** and **end tag** are combined. This happens when an element has no children and/or no text. The syntax for an element is then **``` <START_TAG/>```**."
   ]
  },
  {
   "cell_type": "markdown",
   "metadata": {},
   "source": [
    "### 2.2 Root element\n",
    "A special element is the **root** element. In our example, **Course** is our [root element](https://en.wikipedia.org/wiki/Root_element). The element starts at line 1 (```<Course>```) and ends at line 19 (```</Course>```). Notice the difference between the begin tag (no '/') and the end tag (with '/'). A root element is special in that it is the only element, which is the sole parent element to all the other elements."
   ]
  },
  {
   "cell_type": "markdown",
   "metadata": {},
   "source": [
    "### 2.3 Attributes\n",
    "Elements can contain [attributes](http://www.w3schools.com/xml/xml_attributes.asp), which contain information about the element. In this case, this information is the role a person has in the course. All attributes are located in the start tag of an xml element."
   ]
  },
  {
   "cell_type": "markdown",
   "metadata": {},
   "source": [
    "### 3. Working with XML in Python\n",
    "Now that we know the basics of XML, we want to be able to access it in Python. In order to work with XML, we will use the [**lxml**](http://lxml.de/) library."
   ]
  },
  {
   "cell_type": "code",
   "execution_count": null,
   "metadata": {
    "collapsed": true
   },
   "outputs": [],
   "source": [
    "from lxml import etree"
   ]
  },
  {
   "cell_type": "markdown",
   "metadata": {},
   "source": [
    "As a next step, we load an XML file from our computer. Please first manually inspect the file **course.xml** in the folder **data** using a text editor, e.g. [Atom](https://atom.io/) to get an idea of what to expect. The **etree.parse** method is used to load XML files."
   ]
  },
  {
   "cell_type": "code",
   "execution_count": null,
   "metadata": {},
   "outputs": [],
   "source": [
    "tree = etree.parse('../Data/xml_data/course.xml')\n",
    "print(type(tree))"
   ]
  },
  {
   "cell_type": "markdown",
   "metadata": {},
   "source": [
    "### 3.1 Accessing root element\n",
    "In order to access the root element of an XML file, we can use the **getroot** method. Note that this does not show the XML element itself, but only a reference. In order to show the element itself, we can use the **etree.dump** method."
   ]
  },
  {
   "cell_type": "code",
   "execution_count": null,
   "metadata": {},
   "outputs": [],
   "source": [
    "root = tree.getroot()\n",
    "print('root', root)\n",
    "print()\n",
    "print('etree.dump example')\n",
    "etree.dump(root, pretty_print=True)"
   ]
  },
  {
   "cell_type": "markdown",
   "metadata": {},
   "source": [
    "As with any python object, we can use the built-in function **dir** to list all methods of an element (which has the type **lxml.etree._Element**) "
   ]
  },
  {
   "cell_type": "code",
   "execution_count": null,
   "metadata": {},
   "outputs": [],
   "source": [
    "print(type(root))\n",
    "dir(root)"
   ]
  },
  {
   "cell_type": "markdown",
   "metadata": {},
   "source": [
    "We will focus on the following methods/attributes:\n",
    "* **to access elements**: **<span style=\"background-color:yellow\">methods 'find', 'findall', and 'getchildren'</span>**\n",
    "* **to access attributes**: **<span style=\"background-color:yellow\">method 'get'</span>**\n",
    "* **to access element information**: **<span style=\"background-color:yellow\">attributes 'tag' and 'text'</span>**"
   ]
  },
  {
   "cell_type": "markdown",
   "metadata": {},
   "source": [
    "### 3.2 Accessing elements\n",
    "There are several ways of accessing XML elements. The **find** method returns the **first** matching child."
   ]
  },
  {
   "cell_type": "code",
   "execution_count": null,
   "metadata": {},
   "outputs": [],
   "source": [
    "first_person_el = root.find('person')\n",
    "etree.dump(first_person_el, pretty_print=True)"
   ]
  },
  {
   "cell_type": "markdown",
   "metadata": {},
   "source": [
    "In order to get a list of all person children, we can use the **findall** method.\n",
    "Notice that this does not return the **animal** since we are looking for **person** elements."
   ]
  },
  {
   "cell_type": "code",
   "execution_count": null,
   "metadata": {},
   "outputs": [],
   "source": [
    "all_person_els = root.findall('person')\n",
    "all_person_els"
   ]
  },
  {
   "cell_type": "markdown",
   "metadata": {},
   "source": [
    "Sometimes, we simple want all the children, while ignoring the start tags. This can be achieved using the **getchildren** method. This will simply return all children.\n",
    "Now we do get the **animal** element again."
   ]
  },
  {
   "cell_type": "code",
   "execution_count": null,
   "metadata": {},
   "outputs": [],
   "source": [
    "all_child_els = root.getchildren()\n",
    "all_child_els"
   ]
  },
  {
   "cell_type": "markdown",
   "metadata": {},
   "source": [
    "### 3.3 Accessing element information\n",
    "We will now show how to access the attributes, text, and tag of an element."
   ]
  },
  {
   "cell_type": "markdown",
   "metadata": {},
   "source": [
    "The **get** method is used to access the attribute of an element.\n",
    "If an attribute does not exists, it will return None, hence no error."
   ]
  },
  {
   "cell_type": "code",
   "execution_count": null,
   "metadata": {},
   "outputs": [],
   "source": [
    "first_person_el = root.find('person')\n",
    "role_first_person_el = first_person_el.get('role')\n",
    "attribute_not_found = first_person_el.get('blabla')\n",
    "print('role first person element:', role_first_person_el)\n",
    "print('value if not found:', attribute_not_found)"
   ]
  },
  {
   "cell_type": "markdown",
   "metadata": {},
   "source": [
    "The **text** of an element is found in the attribute **text**"
   ]
  },
  {
   "cell_type": "code",
   "execution_count": null,
   "metadata": {},
   "outputs": [],
   "source": [
    "print(first_person_el.text)"
   ]
  },
  {
   "cell_type": "markdown",
   "metadata": {},
   "source": [
    "The **tag** of an element is found in the attribute **tag**"
   ]
  },
  {
   "cell_type": "code",
   "execution_count": null,
   "metadata": {},
   "outputs": [],
   "source": [
    "print(first_person_el.tag)"
   ]
  },
  {
   "cell_type": "markdown",
   "metadata": {},
   "source": [
    "### Exercises\n",
    "* Can you print the names of all students?\n",
    "* Can you print the names of all instructors whose name starts with 'Van'?"
   ]
  },
  {
   "cell_type": "markdown",
   "metadata": {},
   "source": [
    "## 4 How to deal with more than one layer\n",
    "In the example from Section 3 (previous), we had an example with only one nested layer (**person**). However, XML can deal with many more. Let's look at such an example and think about how you would access the first **target** element, i.e. \n",
    "```xml\n",
    "\n",
    "<target id=\"t1\" />\n",
    "```"
   ]
  },
  {
   "cell_type": "markdown",
   "metadata": {},
   "source": [
    "```xml\n",
    "\n",
    "<NAF xml:lang=\"en\" version=\"v3\">\n",
    "    <terms>\n",
    "        <term id=\"t1\" type=\"open\" lemma=\"Tom\" pos=\"N\" morphofeat=\"NNP\">\n",
    "        <term id=\"t2\" type=\"open\" lemma=\"Cruise\" pos=\"N\" morphofeat=\"NNP\">\n",
    "        <term id=\"t3\" type=\"open\" lemma=\"be\" pos=\"V\" morphofeat=\"VBZ\">\n",
    "        <term id=\"t4\" type=\"open\" lemma=\"an\" pos=\"R\" morphofeat=\"DT\">\n",
    "        <term id=\"t5\" type=\"open\" lemma=\"actor\" pos=\"N\" morphofeat=\"NN\">\n",
    "    </terms>\n",
    "    <entities>\n",
    "        <entity id=\"e3\" type=\"PERSON\">\n",
    "              <references>\n",
    "                  <span>\n",
    "                      <target id=\"t1\" />\n",
    "                      <target id=\"t2\" />\n",
    "                  </span>\n",
    "              </references>\n",
    "        </entity>\n",
    "    </entities>\n",
    "</NAF>\n",
    "```"
   ]
  },
  {
   "cell_type": "markdown",
   "metadata": {},
   "source": [
    "Just like we can load an XML file from disk using **etree.parse**, we can use **etree.fromstring** to load XML from a string."
   ]
  },
  {
   "cell_type": "code",
   "execution_count": null,
   "metadata": {},
   "outputs": [],
   "source": [
    "naf_string = \"\"\"\n",
    "<NAF xml:lang=\"en\" version=\"v3\">\n",
    "    <text>\n",
    "        <wf id=\"w1\" offset=\"0\" length=\"3\" sent=\"1\" para=\"1\">tom</wf>\n",
    "        <wf id=\"w2\" offset=\"4\" length=\"6\" sent=\"1\" para=\"1\">cruise</wf>\n",
    "        <wf id=\"w3\" offset=\"11\" length=\"2\" sent=\"1\" para=\"1\">is</wf>\n",
    "        <wf id=\"w4\" offset=\"14\" length=\"2\" sent=\"1\" para=\"1\">an</wf>\n",
    "        <wf id=\"w5\" offset=\"17\" length=\"5\" sent=\"1\" para=\"1\">actor</wf>\n",
    "    </text>\n",
    "    <terms>\n",
    "        <term id=\"t1\" type=\"open\" lemma=\"Tom\" pos=\"N\" morphofeat=\"NNP\"/>\n",
    "        <term id=\"t2\" type=\"open\" lemma=\"Cruise\" pos=\"N\" morphofeat=\"NNP\"/>\n",
    "        <term id=\"t3\" type=\"open\" lemma=\"be\" pos=\"V\" morphofeat=\"VBZ\"/>\n",
    "        <term id=\"t4\" type=\"open\" lemma=\"an\" pos=\"R\" morphofeat=\"DT\"/>\n",
    "        <term id=\"t5\" type=\"open\" lemma=\"actor\" pos=\"N\" morphofeat=\"NN\"/>\n",
    "    </terms> \n",
    "    <entities>\n",
    "        <entity id=\"e3\" type=\"PERSON\">\n",
    "              <references>\n",
    "                  <span>\n",
    "                      <target id=\"t1\" />\n",
    "                      <target id=\"t2\" />\n",
    "                  </span>\n",
    "              </references>\n",
    "        </entity>\n",
    "    </entities>\n",
    "</NAF>\n",
    "\"\"\"\n",
    "\n",
    "naf = etree.fromstring(naf_string)\n",
    "print(type(naf))\n",
    "etree.dump(naf, pretty_print=True)"
   ]
  },
  {
   "cell_type": "markdown",
   "metadata": {},
   "source": [
    "Please note that the structure is as follows:\n",
    "* the **NAF** element is the parent of the elements **text**, **terms**, and **entities**\n",
    "* the **wf** elements are children of the **text** element, which provides us information about the position of words in the text, e.g. that *tom* is the first word in the text **id=w1** and in the first sentence **sent=\"1\"**\n",
    "* the **term** elements are children of the **term** elements, which provide us information about lemmatization and part of speech\n",
    "* the **entity** element is a child of the **entities** element. We learn from the **entity** element that the terms **t1** and **t2** (e.g. Tom Cruise) form an entity of type **person**."
   ]
  },
  {
   "cell_type": "markdown",
   "metadata": {},
   "source": [
    "One way of accessing the first **target** element is by going one level at a time:"
   ]
  },
  {
   "cell_type": "code",
   "execution_count": null,
   "metadata": {},
   "outputs": [],
   "source": [
    "entities_el = naf.find('entities')\n",
    "entity_el = entities_el.find('entity')\n",
    "references_el = entity_el.find('references')\n",
    "span_el = references_el.find('span')\n",
    "target_el = span_el.find('target')\n",
    "etree.dump(target_el, pretty_print=True)"
   ]
  },
  {
   "cell_type": "markdown",
   "metadata": {},
   "source": [
    "Is there a better way? The answer is yes! The following way is an easier way to find our **target** element"
   ]
  },
  {
   "cell_type": "code",
   "execution_count": null,
   "metadata": {},
   "outputs": [],
   "source": [
    "target_el = naf.find('entities/entity/references/span/target')\n",
    "etree.dump(target_el, pretty_print=True)"
   ]
  },
  {
   "cell_type": "markdown",
   "metadata": {},
   "source": [
    "You can also use **findall** to find all **target** elements"
   ]
  },
  {
   "cell_type": "code",
   "execution_count": null,
   "metadata": {},
   "outputs": [],
   "source": [
    "for target_el in naf.findall('entities/entity/references/span/target'):\n",
    "    etree.dump(target_el, pretty_print=True)"
   ]
  },
  {
   "cell_type": "markdown",
   "metadata": {},
   "source": [
    "### 5. Creating your own XML\n",
    "\n",
    "### Please note that this section is optional, meaning that you don't need to understand this section in order to complete the assignment.\n",
    "I will now show you how to create your own XML. There are three main steps:\n",
    "* Step a: create an xml object\n",
    "* Step b: Creating elements and adding them\n",
    "* Step c: writing to a file"
   ]
  },
  {
   "cell_type": "markdown",
   "metadata": {},
   "source": [
    "#### Step a: create an xml object\n",
    "You create a new XML object by:\n",
    "* creating the **root** element -> using **etree.Element** (every element is created using  **etree.Element**, not only the root)\n",
    "* creating the main XML object -> using **etree.ElementTree**\n",
    "\n",
    "You do not have to fully understand how this works. Please make sure you can reuse this code snippet when you create your own XML."
   ]
  },
  {
   "cell_type": "code",
   "execution_count": null,
   "metadata": {
    "collapsed": true
   },
   "outputs": [],
   "source": [
    "our_root = etree.Element('Course')\n",
    "our_tree = etree.ElementTree(our_root)\n",
    "our_root = our_tree.getroot()"
   ]
  },
  {
   "cell_type": "markdown",
   "metadata": {},
   "source": [
    "We can inspect what we have created by using the **etree.dump** method. As you can see, we only have the root node **Course** currently in our document."
   ]
  },
  {
   "cell_type": "code",
   "execution_count": null,
   "metadata": {},
   "outputs": [],
   "source": [
    "etree.dump(our_root, pretty_print=True)"
   ]
  },
  {
   "cell_type": "markdown",
   "metadata": {},
   "source": [
    "As you see, we created an XML object, containing only the root element **Course**."
   ]
  },
  {
   "cell_type": "markdown",
   "metadata": {},
   "source": [
    "#### Step b: Creating elements and adding them\n",
    "We can also create our own XML elements by using the **etree.Element** method:"
   ]
  },
  {
   "cell_type": "code",
   "execution_count": null,
   "metadata": {},
   "outputs": [],
   "source": [
    "tag = 'person' # what the start and end tag will be \n",
    "attributes = {'role': 'student'} # dictionary of attributes, can be more than one\n",
    "name_student = 'Lee' # the text of the elements\n",
    "\n",
    "new_person_element = etree.Element(tag, attrib=attributes)\n",
    "new_person_element.text = name_student\n",
    "\n",
    "etree.dump(new_person_element, pretty_print=True)"
   ]
  },
  {
   "cell_type": "markdown",
   "metadata": {},
   "source": [
    "In the cell above, I showed an example of how we can create an XML element. Following common practice, it is good to check the **type** of the XML element we created:"
   ]
  },
  {
   "cell_type": "code",
   "execution_count": null,
   "metadata": {},
   "outputs": [],
   "source": [
    "print(type(new_person_element))"
   ]
  },
  {
   "cell_type": "markdown",
   "metadata": {},
   "source": [
    "We learn that we created an instance of the class **lxml.etree.\\_Element**. This is not different from creating an instance of a **string** or a **list**. We just instantiated an instance of a class."
   ]
  },
  {
   "cell_type": "markdown",
   "metadata": {},
   "source": [
    "We can add children to an XML element using **append**"
   ]
  },
  {
   "cell_type": "code",
   "execution_count": null,
   "metadata": {},
   "outputs": [],
   "source": [
    "tag = 'pet'\n",
    "attributes = {'role': 'joy'}\n",
    "name_pet = 'Romeo'\n",
    "\n",
    "# please note that 'tag' is a positional argument\n",
    "# please note that 'attrib' is a keyword argument\n",
    "new_pet_element = etree.Element(tag, attrib=attributes) \n",
    "new_pet_element.text = name_pet\n",
    "\n",
    "print()\n",
    "print('our new pet element')\n",
    "etree.dump(new_pet_element, pretty_print=True)\n",
    "\n",
    "# now we will make this element the child of the new_person_element elements\n",
    "new_person_element.append(new_pet_element)\n",
    "\n",
    "print()\n",
    "print('person element with pet element as child')\n",
    "etree.dump(new_person_element, pretty_print=True) # please note the pet element as a child of the person element "
   ]
  },
  {
   "cell_type": "code",
   "execution_count": null,
   "metadata": {},
   "outputs": [],
   "source": [
    "pet_child = new_person_element.find('pet')\n",
    "etree.dump(pet_child, pretty_print=True)"
   ]
  },
  {
   "cell_type": "markdown",
   "metadata": {},
   "source": [
    "Finally, we add our **new_person_element** to our **root**"
   ]
  },
  {
   "cell_type": "code",
   "execution_count": null,
   "metadata": {
    "collapsed": true
   },
   "outputs": [],
   "source": [
    "our_root.append(new_person_element)"
   ]
  },
  {
   "cell_type": "markdown",
   "metadata": {},
   "source": [
    "#### Exercise\n",
    "Please add three new elements to the **root** element."
   ]
  },
  {
   "cell_type": "markdown",
   "metadata": {},
   "source": [
    "#### Step c: writing to a file\n",
    "This is how we can write our selfmade XML to a file. Please inspect **data/selfmade_xml.xml** using a text editor to check if it worked."
   ]
  },
  {
   "cell_type": "code",
   "execution_count": null,
   "metadata": {
    "collapsed": true
   },
   "outputs": [],
   "source": [
    "with open('../Data/xml_data/selfmade_xml.xml', 'wb') as outfile:\n",
    "    our_tree.write(outfile,\n",
    "                   pretty_print=True,\n",
    "                   xml_declaration=True,\n",
    "                   encoding='utf-8')"
   ]
  },
  {
   "cell_type": "code",
   "execution_count": null,
   "metadata": {
    "collapsed": true
   },
   "outputs": [],
   "source": []
  }
 ],
 "metadata": {
  "anaconda-cloud": {},
  "kernelspec": {
   "display_name": "Python 3",
   "language": "python",
   "name": "python3"
  },
  "language_info": {
   "codemirror_mode": {
    "name": "ipython",
    "version": 3
   },
   "file_extension": ".py",
   "mimetype": "text/x-python",
   "name": "python",
   "nbconvert_exporter": "python",
   "pygments_lexer": "ipython3",
   "version": "3.6.0"
  }
 },
 "nbformat": 4,
 "nbformat_minor": 1
}
