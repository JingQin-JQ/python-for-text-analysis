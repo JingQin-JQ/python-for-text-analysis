{
 "cells": [
  {
   "cell_type": "markdown",
   "metadata": {},
   "source": [
    "# Assignment 2: Containers\n",
    "\n",
    "## Due: Tuesday the 14th of November 2017 20:00 p.m.\n",
    "\n",
    "Please name your ipython notebook with the following naming convention: ASSIGNMENT_2_FIRSTNAME_LASTNAME.ipynb \n",
    "\n",
    "Please submit your assignment using [this google form](https://goo.gl/forms/4OidikfRfz229WNW2)\n",
    "\n",
    "If you have questions about this topic, please send an email to m.c.postma@vu.nl"
   ]
  },
  {
   "cell_type": "markdown",
   "metadata": {
    "collapsed": true
   },
   "source": [
    "### Exercise 1: Beersong\n",
    "*99 Bottles of Beer* is a traditional song in the United States and Canada. Write a python program that generates the lyrics to the song."
   ]
  },
  {
   "cell_type": "markdown",
   "metadata": {
    "collapsed": true
   },
   "source": [
    "The song's simple lyrics are as follows:\n",
    "\n",
    "    99 bottles of beer on the wall,\n",
    "    99 bottles of beer.\n",
    "    Take one down, pass it around,\n",
    "    98 bottles of beer on the wall.\n",
    "\n",
    "The same verse is repeated, each time with one fewer bottle. The song\n",
    "is completed when the singer or singers reach zero. After the last bottle\n",
    "is taken down and passed around, there is a special verse:\n",
    "\n",
    "    No more bottles of beer on the wall,\n",
    "    no more bottles of beer.\n",
    "    Go to the store and buy some more,\n",
    "    99 bottles of beer on the wall."
   ]
  },
  {
   "cell_type": "markdown",
   "metadata": {},
   "source": [
    "Notes:\n",
    "\n",
    "* Leave a blank line between verses.\n",
    "* Make sure that you print the singular form of \"bottles\" when the counter is at one."
   ]
  },
  {
   "cell_type": "markdown",
   "metadata": {},
   "source": [
    "Hint:\n",
    "\n",
    "* While debugging the program, start from a small number, and\n",
    "change it to 99 when you are done (as shown below).\n",
    "* You can substract from a number with `number = number - 1`\n",
    "* Use variables to prevent code repetition\n",
    "\n",
    "You can use the following code snippet as a start:"
   ]
  },
  {
   "cell_type": "code",
   "execution_count": 44,
   "metadata": {},
   "outputs": [
    {
     "name": "stdout",
     "output_type": "stream",
     "text": [
      "98 bottles of beer on the wall,\n",
      "98 bottles of beer.\n",
      "Take one down, pass it around,\n",
      "97 bottles of beer on the wall.\n",
      "\n",
      "97 bottles of beer on the wall,\n",
      "97 bottles of beer.\n",
      "Take one down, pass it around,\n",
      "96 bottles of beer on the wall.\n",
      "\n",
      "96 bottles of beer on the wall,\n",
      "96 bottles of beer.\n",
      "Take one down, pass it around,\n",
      "95 bottles of beer on the wall.\n",
      "\n",
      "95 bottles of beer on the wall,\n",
      "95 bottles of beer.\n",
      "Take one down, pass it around,\n",
      "94 bottles of beer on the wall.\n",
      "\n",
      "94 bottles of beer on the wall,\n",
      "94 bottles of beer.\n",
      "Take one down, pass it around,\n",
      "93 bottles of beer on the wall.\n",
      "\n",
      "93 bottles of beer on the wall,\n",
      "93 bottles of beer.\n",
      "Take one down, pass it around,\n",
      "92 bottles of beer on the wall.\n",
      "\n",
      "92 bottles of beer on the wall,\n",
      "92 bottles of beer.\n",
      "Take one down, pass it around,\n",
      "91 bottles of beer on the wall.\n",
      "\n",
      "91 bottles of beer on the wall,\n",
      "91 bottles of beer.\n",
      "Take one down, pass it around,\n",
      "90 bottles of beer on the wall.\n",
      "\n",
      "90 bottles of beer on the wall,\n",
      "90 bottles of beer.\n",
      "Take one down, pass it around,\n",
      "89 bottles of beer on the wall.\n",
      "\n",
      "89 bottles of beer on the wall,\n",
      "89 bottles of beer.\n",
      "Take one down, pass it around,\n",
      "88 bottles of beer on the wall.\n",
      "\n",
      "88 bottles of beer on the wall,\n",
      "88 bottles of beer.\n",
      "Take one down, pass it around,\n",
      "87 bottles of beer on the wall.\n",
      "\n",
      "87 bottles of beer on the wall,\n",
      "87 bottles of beer.\n",
      "Take one down, pass it around,\n",
      "86 bottles of beer on the wall.\n",
      "\n",
      "86 bottles of beer on the wall,\n",
      "86 bottles of beer.\n",
      "Take one down, pass it around,\n",
      "85 bottles of beer on the wall.\n",
      "\n",
      "85 bottles of beer on the wall,\n",
      "85 bottles of beer.\n",
      "Take one down, pass it around,\n",
      "84 bottles of beer on the wall.\n",
      "\n",
      "84 bottles of beer on the wall,\n",
      "84 bottles of beer.\n",
      "Take one down, pass it around,\n",
      "83 bottles of beer on the wall.\n",
      "\n",
      "83 bottles of beer on the wall,\n",
      "83 bottles of beer.\n",
      "Take one down, pass it around,\n",
      "82 bottles of beer on the wall.\n",
      "\n",
      "82 bottles of beer on the wall,\n",
      "82 bottles of beer.\n",
      "Take one down, pass it around,\n",
      "81 bottles of beer on the wall.\n",
      "\n",
      "81 bottles of beer on the wall,\n",
      "81 bottles of beer.\n",
      "Take one down, pass it around,\n",
      "80 bottles of beer on the wall.\n",
      "\n",
      "80 bottles of beer on the wall,\n",
      "80 bottles of beer.\n",
      "Take one down, pass it around,\n",
      "79 bottles of beer on the wall.\n",
      "\n",
      "79 bottles of beer on the wall,\n",
      "79 bottles of beer.\n",
      "Take one down, pass it around,\n",
      "78 bottles of beer on the wall.\n",
      "\n",
      "78 bottles of beer on the wall,\n",
      "78 bottles of beer.\n",
      "Take one down, pass it around,\n",
      "77 bottles of beer on the wall.\n",
      "\n",
      "77 bottles of beer on the wall,\n",
      "77 bottles of beer.\n",
      "Take one down, pass it around,\n",
      "76 bottles of beer on the wall.\n",
      "\n",
      "76 bottles of beer on the wall,\n",
      "76 bottles of beer.\n",
      "Take one down, pass it around,\n",
      "75 bottles of beer on the wall.\n",
      "\n",
      "75 bottles of beer on the wall,\n",
      "75 bottles of beer.\n",
      "Take one down, pass it around,\n",
      "74 bottles of beer on the wall.\n",
      "\n",
      "74 bottles of beer on the wall,\n",
      "74 bottles of beer.\n",
      "Take one down, pass it around,\n",
      "73 bottles of beer on the wall.\n",
      "\n",
      "73 bottles of beer on the wall,\n",
      "73 bottles of beer.\n",
      "Take one down, pass it around,\n",
      "72 bottles of beer on the wall.\n",
      "\n",
      "72 bottles of beer on the wall,\n",
      "72 bottles of beer.\n",
      "Take one down, pass it around,\n",
      "71 bottles of beer on the wall.\n",
      "\n",
      "71 bottles of beer on the wall,\n",
      "71 bottles of beer.\n",
      "Take one down, pass it around,\n",
      "70 bottles of beer on the wall.\n",
      "\n",
      "70 bottles of beer on the wall,\n",
      "70 bottles of beer.\n",
      "Take one down, pass it around,\n",
      "69 bottles of beer on the wall.\n",
      "\n",
      "69 bottles of beer on the wall,\n",
      "69 bottles of beer.\n",
      "Take one down, pass it around,\n",
      "68 bottles of beer on the wall.\n",
      "\n",
      "68 bottles of beer on the wall,\n",
      "68 bottles of beer.\n",
      "Take one down, pass it around,\n",
      "67 bottles of beer on the wall.\n",
      "\n",
      "67 bottles of beer on the wall,\n",
      "67 bottles of beer.\n",
      "Take one down, pass it around,\n",
      "66 bottles of beer on the wall.\n",
      "\n",
      "66 bottles of beer on the wall,\n",
      "66 bottles of beer.\n",
      "Take one down, pass it around,\n",
      "65 bottles of beer on the wall.\n",
      "\n",
      "65 bottles of beer on the wall,\n",
      "65 bottles of beer.\n",
      "Take one down, pass it around,\n",
      "64 bottles of beer on the wall.\n",
      "\n",
      "64 bottles of beer on the wall,\n",
      "64 bottles of beer.\n",
      "Take one down, pass it around,\n",
      "63 bottles of beer on the wall.\n",
      "\n",
      "63 bottles of beer on the wall,\n",
      "63 bottles of beer.\n",
      "Take one down, pass it around,\n",
      "62 bottles of beer on the wall.\n",
      "\n",
      "62 bottles of beer on the wall,\n",
      "62 bottles of beer.\n",
      "Take one down, pass it around,\n",
      "61 bottles of beer on the wall.\n",
      "\n",
      "61 bottles of beer on the wall,\n",
      "61 bottles of beer.\n",
      "Take one down, pass it around,\n",
      "60 bottles of beer on the wall.\n",
      "\n",
      "60 bottles of beer on the wall,\n",
      "60 bottles of beer.\n",
      "Take one down, pass it around,\n",
      "59 bottles of beer on the wall.\n",
      "\n",
      "59 bottles of beer on the wall,\n",
      "59 bottles of beer.\n",
      "Take one down, pass it around,\n",
      "58 bottles of beer on the wall.\n",
      "\n",
      "58 bottles of beer on the wall,\n",
      "58 bottles of beer.\n",
      "Take one down, pass it around,\n",
      "57 bottles of beer on the wall.\n",
      "\n",
      "57 bottles of beer on the wall,\n",
      "57 bottles of beer.\n",
      "Take one down, pass it around,\n",
      "56 bottles of beer on the wall.\n",
      "\n",
      "56 bottles of beer on the wall,\n",
      "56 bottles of beer.\n",
      "Take one down, pass it around,\n",
      "55 bottles of beer on the wall.\n",
      "\n",
      "55 bottles of beer on the wall,\n",
      "55 bottles of beer.\n",
      "Take one down, pass it around,\n",
      "54 bottles of beer on the wall.\n",
      "\n",
      "54 bottles of beer on the wall,\n",
      "54 bottles of beer.\n",
      "Take one down, pass it around,\n",
      "53 bottles of beer on the wall.\n",
      "\n",
      "53 bottles of beer on the wall,\n",
      "53 bottles of beer.\n",
      "Take one down, pass it around,\n",
      "52 bottles of beer on the wall.\n",
      "\n",
      "52 bottles of beer on the wall,\n",
      "52 bottles of beer.\n",
      "Take one down, pass it around,\n",
      "51 bottles of beer on the wall.\n",
      "\n",
      "51 bottles of beer on the wall,\n",
      "51 bottles of beer.\n",
      "Take one down, pass it around,\n",
      "50 bottles of beer on the wall.\n",
      "\n",
      "50 bottles of beer on the wall,\n",
      "50 bottles of beer.\n",
      "Take one down, pass it around,\n",
      "49 bottles of beer on the wall.\n",
      "\n",
      "49 bottles of beer on the wall,\n",
      "49 bottles of beer.\n",
      "Take one down, pass it around,\n",
      "48 bottles of beer on the wall.\n",
      "\n",
      "48 bottles of beer on the wall,\n",
      "48 bottles of beer.\n",
      "Take one down, pass it around,\n",
      "47 bottles of beer on the wall.\n",
      "\n",
      "47 bottles of beer on the wall,\n",
      "47 bottles of beer.\n",
      "Take one down, pass it around,\n",
      "46 bottles of beer on the wall.\n",
      "\n",
      "46 bottles of beer on the wall,\n",
      "46 bottles of beer.\n",
      "Take one down, pass it around,\n",
      "45 bottles of beer on the wall.\n",
      "\n",
      "45 bottles of beer on the wall,\n",
      "45 bottles of beer.\n",
      "Take one down, pass it around,\n",
      "44 bottles of beer on the wall.\n",
      "\n",
      "44 bottles of beer on the wall,\n",
      "44 bottles of beer.\n",
      "Take one down, pass it around,\n",
      "43 bottles of beer on the wall.\n",
      "\n",
      "43 bottles of beer on the wall,\n",
      "43 bottles of beer.\n",
      "Take one down, pass it around,\n",
      "42 bottles of beer on the wall.\n",
      "\n",
      "42 bottles of beer on the wall,\n",
      "42 bottles of beer.\n",
      "Take one down, pass it around,\n",
      "41 bottles of beer on the wall.\n",
      "\n",
      "41 bottles of beer on the wall,\n",
      "41 bottles of beer.\n",
      "Take one down, pass it around,\n",
      "40 bottles of beer on the wall.\n",
      "\n",
      "40 bottles of beer on the wall,\n",
      "40 bottles of beer.\n",
      "Take one down, pass it around,\n",
      "39 bottles of beer on the wall.\n",
      "\n",
      "39 bottles of beer on the wall,\n",
      "39 bottles of beer.\n",
      "Take one down, pass it around,\n",
      "38 bottles of beer on the wall.\n",
      "\n",
      "38 bottles of beer on the wall,\n",
      "38 bottles of beer.\n",
      "Take one down, pass it around,\n",
      "37 bottles of beer on the wall.\n",
      "\n",
      "37 bottles of beer on the wall,\n",
      "37 bottles of beer.\n",
      "Take one down, pass it around,\n",
      "36 bottles of beer on the wall.\n",
      "\n",
      "36 bottles of beer on the wall,\n",
      "36 bottles of beer.\n",
      "Take one down, pass it around,\n",
      "35 bottles of beer on the wall.\n",
      "\n",
      "35 bottles of beer on the wall,\n",
      "35 bottles of beer.\n",
      "Take one down, pass it around,\n",
      "34 bottles of beer on the wall.\n",
      "\n",
      "34 bottles of beer on the wall,\n",
      "34 bottles of beer.\n",
      "Take one down, pass it around,\n",
      "33 bottles of beer on the wall.\n",
      "\n",
      "33 bottles of beer on the wall,\n",
      "33 bottles of beer.\n",
      "Take one down, pass it around,\n",
      "32 bottles of beer on the wall.\n",
      "\n",
      "32 bottles of beer on the wall,\n",
      "32 bottles of beer.\n",
      "Take one down, pass it around,\n",
      "31 bottles of beer on the wall.\n",
      "\n",
      "31 bottles of beer on the wall,\n",
      "31 bottles of beer.\n",
      "Take one down, pass it around,\n",
      "30 bottles of beer on the wall.\n",
      "\n",
      "30 bottles of beer on the wall,\n",
      "30 bottles of beer.\n",
      "Take one down, pass it around,\n",
      "29 bottles of beer on the wall.\n",
      "\n",
      "29 bottles of beer on the wall,\n",
      "29 bottles of beer.\n",
      "Take one down, pass it around,\n",
      "28 bottles of beer on the wall.\n",
      "\n",
      "28 bottles of beer on the wall,\n",
      "28 bottles of beer.\n",
      "Take one down, pass it around,\n",
      "27 bottles of beer on the wall.\n",
      "\n",
      "27 bottles of beer on the wall,\n",
      "27 bottles of beer.\n",
      "Take one down, pass it around,\n",
      "26 bottles of beer on the wall.\n",
      "\n",
      "26 bottles of beer on the wall,\n",
      "26 bottles of beer.\n",
      "Take one down, pass it around,\n",
      "25 bottles of beer on the wall.\n",
      "\n",
      "25 bottles of beer on the wall,\n",
      "25 bottles of beer.\n",
      "Take one down, pass it around,\n",
      "24 bottles of beer on the wall.\n",
      "\n",
      "24 bottles of beer on the wall,\n",
      "24 bottles of beer.\n",
      "Take one down, pass it around,\n",
      "23 bottles of beer on the wall.\n",
      "\n",
      "23 bottles of beer on the wall,\n",
      "23 bottles of beer.\n",
      "Take one down, pass it around,\n",
      "22 bottles of beer on the wall.\n",
      "\n",
      "22 bottles of beer on the wall,\n",
      "22 bottles of beer.\n",
      "Take one down, pass it around,\n",
      "21 bottles of beer on the wall.\n",
      "\n",
      "21 bottles of beer on the wall,\n",
      "21 bottles of beer.\n",
      "Take one down, pass it around,\n",
      "20 bottles of beer on the wall.\n",
      "\n",
      "20 bottles of beer on the wall,\n",
      "20 bottles of beer.\n",
      "Take one down, pass it around,\n",
      "19 bottles of beer on the wall.\n",
      "\n",
      "19 bottles of beer on the wall,\n",
      "19 bottles of beer.\n",
      "Take one down, pass it around,\n",
      "18 bottles of beer on the wall.\n",
      "\n",
      "18 bottles of beer on the wall,\n",
      "18 bottles of beer.\n",
      "Take one down, pass it around,\n",
      "17 bottles of beer on the wall.\n",
      "\n",
      "17 bottles of beer on the wall,\n",
      "17 bottles of beer.\n",
      "Take one down, pass it around,\n",
      "16 bottles of beer on the wall.\n",
      "\n",
      "16 bottles of beer on the wall,\n",
      "16 bottles of beer.\n",
      "Take one down, pass it around,\n",
      "15 bottles of beer on the wall.\n",
      "\n",
      "15 bottles of beer on the wall,\n",
      "15 bottles of beer.\n",
      "Take one down, pass it around,\n",
      "14 bottles of beer on the wall.\n",
      "\n",
      "14 bottles of beer on the wall,\n",
      "14 bottles of beer.\n",
      "Take one down, pass it around,\n",
      "13 bottles of beer on the wall.\n",
      "\n",
      "13 bottles of beer on the wall,\n",
      "13 bottles of beer.\n",
      "Take one down, pass it around,\n",
      "12 bottles of beer on the wall.\n",
      "\n",
      "12 bottles of beer on the wall,\n",
      "12 bottles of beer.\n",
      "Take one down, pass it around,\n",
      "11 bottles of beer on the wall.\n",
      "\n",
      "11 bottles of beer on the wall,\n",
      "11 bottles of beer.\n",
      "Take one down, pass it around,\n",
      "10 bottles of beer on the wall.\n",
      "\n",
      "10 bottles of beer on the wall,\n",
      "10 bottles of beer.\n",
      "Take one down, pass it around,\n",
      "9 bottles of beer on the wall.\n",
      "\n",
      "9 bottles of beer on the wall,\n",
      "9 bottles of beer.\n",
      "Take one down, pass it around,\n",
      "8 bottles of beer on the wall.\n",
      "\n",
      "8 bottles of beer on the wall,\n",
      "8 bottles of beer.\n",
      "Take one down, pass it around,\n",
      "7 bottles of beer on the wall.\n",
      "\n",
      "7 bottles of beer on the wall,\n",
      "7 bottles of beer.\n",
      "Take one down, pass it around,\n",
      "6 bottles of beer on the wall.\n",
      "\n",
      "6 bottles of beer on the wall,\n",
      "6 bottles of beer.\n",
      "Take one down, pass it around,\n",
      "5 bottles of beer on the wall.\n",
      "\n",
      "5 bottles of beer on the wall,\n",
      "5 bottles of beer.\n",
      "Take one down, pass it around,\n",
      "4 bottles of beer on the wall.\n",
      "\n",
      "4 bottles of beer on the wall,\n",
      "4 bottles of beer.\n",
      "Take one down, pass it around,\n",
      "3 bottles of beer on the wall.\n",
      "\n",
      "3 bottles of beer on the wall,\n",
      "3 bottles of beer.\n",
      "Take one down, pass it around,\n",
      "2 bottles of beer on the wall.\n",
      "\n",
      "2 bottles of beer on the wall,\n",
      "2 bottles of beer.\n",
      "Take one down, pass it around,\n",
      "1 bottle of beer on the wall.\n",
      "\n",
      "1 bottle of beer on the wall,\n",
      "1 bottle of beer.\n",
      "Take one down, pass it around,\n",
      "No more bottles of beer on the wall.\n",
      "\n",
      "No more bottles of beer on the wall,\n",
      "no more bottles of beer.\n",
      "Go to the store and buy some more,\n",
      "99 bottles of beer on the wall.\n"
     ]
    }
   ],
   "source": [
    "for number in reversed(range(1, 99)): # change 5 to 99 when you're done with debugging\n",
    "    if number != 1:\n",
    "        print(number, 'bottles of beer on the wall,')\n",
    "        print(number, 'bottles of beer.')\n",
    "        print('Take one down, pass it around,')\n",
    "        if number -1 ==1:\n",
    "            print(number-1, 'bottle of beer on the wall.\\n') \n",
    "        else:\n",
    "            print(number-1, 'bottles of beer on the wall.\\n')\n",
    "    else:\n",
    "        print(number, 'bottle of beer on the wall,')\n",
    "        print(number, 'bottle of beer.')\n",
    "        print('Take one down, pass it around,')\n",
    "        print('No more bottles of beer on the wall.\\n')\n",
    "print ('''No more bottles of beer on the wall,\n",
    "no more bottles of beer.\n",
    "Go to the store and buy some more,\n",
    "99 bottles of beer on the wall.''')"
   ]
  },
  {
   "cell_type": "markdown",
   "metadata": {},
   "source": [
    "## Exercise 2: list methods"
   ]
  },
  {
   "cell_type": "markdown",
   "metadata": {},
   "source": [
    "In this exercise, we will focus on the following list methods:\n",
    "* append\n",
    "* count\n",
    "* index\n",
    "* insert\n",
    "* pop\n",
    "\n",
    "For each of the aforementioned list methods:\n",
    "\n",
    "* explain the positional arguments\n",
    "* explain the keyword arguments\n",
    "* explain what the goal of the method is and what it returns\n",
    "* give a working example. Provide also an example with a keyword argument (assuming the method has one or more keyword arguments)."
   ]
  },
  {
   "cell_type": "markdown",
   "metadata": {},
   "source": [
    "#### append\n",
    "* positional arguments\n",
    "  \n",
    "  append has positional arguments as the object to be appended in the list.\n",
    "  \n",
    "* keyword arguments\n",
    "  \n",
    "  append has no keyword arguments\n",
    "  \n",
    "* goal of the method and what it returns\n",
    "  \n",
    "  The append() method appends a passed obj into the existing list.\n",
    "  \n",
    "* a working example\n",
    "  "
   ]
  },
  {
   "cell_type": "code",
   "execution_count": 24,
   "metadata": {},
   "outputs": [
    {
     "name": "stdout",
     "output_type": "stream",
     "text": [
      "Help on method_descriptor:\n",
      "\n",
      "append(...)\n",
      "    L.append(object) -> None -- append object to end\n",
      "\n"
     ]
    }
   ],
   "source": [
    "help(list.append)"
   ]
  },
  {
   "cell_type": "code",
   "execution_count": 19,
   "metadata": {},
   "outputs": [
    {
     "name": "stdout",
     "output_type": "stream",
     "text": [
      "[1, 2, 3, 4]\n"
     ]
    }
   ],
   "source": [
    "list1 = [1,2,3]\n",
    "list1.append(4)\n",
    "print(list1)"
   ]
  },
  {
   "cell_type": "markdown",
   "metadata": {},
   "source": [
    "#### count\n",
    "* positional arguments\n",
    "  \n",
    "  count has positional arguments as the object to be counted in the list.\n",
    "  \n",
    "* keyword arguments\n",
    "  \n",
    "  count has no keyword arguments\n",
    "  \n",
    "* goal of the method and what it returns\n",
    "\n",
    "  The count() method returns count of how many times obj occurs in list.\n",
    "  \n",
    "* a working example"
   ]
  },
  {
   "cell_type": "code",
   "execution_count": 23,
   "metadata": {},
   "outputs": [
    {
     "name": "stdout",
     "output_type": "stream",
     "text": [
      "Help on method_descriptor:\n",
      "\n",
      "count(...)\n",
      "    L.count(value) -> integer -- return number of occurrences of value\n",
      "\n"
     ]
    }
   ],
   "source": [
    "help(list.count)"
   ]
  },
  {
   "cell_type": "code",
   "execution_count": 21,
   "metadata": {},
   "outputs": [
    {
     "name": "stdout",
     "output_type": "stream",
     "text": [
      "4\n"
     ]
    }
   ],
   "source": [
    "list1 = [1,1,2,2,3,3,3,3,4]\n",
    "count = list1.count(3)\n",
    "print(count)"
   ]
  },
  {
   "cell_type": "markdown",
   "metadata": {},
   "source": [
    "#### index\n",
    "* positional arguments\n",
    "  \n",
    "  index has positional arguments as the object to be find out.\n",
    "\n",
    "* keyword arguments\n",
    "  \n",
    "  count has [start, [stop]] as keyword arguments\n",
    "\n",
    "* goal of the method and what it returns\n",
    "\n",
    "  The index() method returns the lowest index in list that obj appears.\n",
    "\n",
    "* a working example"
   ]
  },
  {
   "cell_type": "code",
   "execution_count": 16,
   "metadata": {},
   "outputs": [
    {
     "name": "stdout",
     "output_type": "stream",
     "text": [
      "Help on method_descriptor:\n",
      "\n",
      "index(...)\n",
      "    L.index(value, [start, [stop]]) -> integer -- return first index of value.\n",
      "    Raises ValueError if the value is not present.\n",
      "\n"
     ]
    }
   ],
   "source": [
    "help(list.index)"
   ]
  },
  {
   "cell_type": "code",
   "execution_count": 22,
   "metadata": {},
   "outputs": [
    {
     "name": "stdout",
     "output_type": "stream",
     "text": [
      "Index of chemistry 1\n"
     ]
    }
   ],
   "source": [
    "list1 = ['physics', 'chemistry', 'maths']\n",
    "print ('Index of chemistry', list1.index('chemistry'))\n"
   ]
  },
  {
   "cell_type": "markdown",
   "metadata": {},
   "source": [
    "* an example with a keyword argument"
   ]
  },
  {
   "cell_type": "code",
   "execution_count": 27,
   "metadata": {},
   "outputs": [
    {
     "name": "stdout",
     "output_type": "stream",
     "text": [
      "Index of chemistry 1\n"
     ]
    }
   ],
   "source": [
    "print ('Index of chemistry', list1.index('chemistry',1))"
   ]
  },
  {
   "cell_type": "markdown",
   "metadata": {},
   "source": [
    "#### insert\n",
    "* positional arguments\n",
    "  \n",
    "  insert has two positional arguments as below:\n",
    "  \n",
    "  list.insert(index, obj)\n",
    "  \n",
    "  index − This is the Index where the object obj need to be inserted.\n",
    "  obj − This is the Object to be inserted into the given list.\n",
    "\n",
    "* keyword arguments\n",
    "  \n",
    "  insert has no keyword arguments\n",
    "\n",
    "* goal of the method and what it returns\n",
    "\n",
    "  The insert() method inserts object obj into list at offset index.\n",
    "\n",
    "* a working example"
   ]
  },
  {
   "cell_type": "code",
   "execution_count": 25,
   "metadata": {},
   "outputs": [
    {
     "name": "stdout",
     "output_type": "stream",
     "text": [
      "Help on method_descriptor:\n",
      "\n",
      "insert(...)\n",
      "    L.insert(index, object) -- insert object before index\n",
      "\n"
     ]
    }
   ],
   "source": [
    "help(list.insert)"
   ]
  },
  {
   "cell_type": "code",
   "execution_count": 23,
   "metadata": {},
   "outputs": [
    {
     "name": "stdout",
     "output_type": "stream",
     "text": [
      "Final list :  ['physics', 'Biology', 'chemistry', 'maths']\n"
     ]
    }
   ],
   "source": [
    "list1 = ['physics', 'chemistry', 'maths']\n",
    "list1.insert(1, 'Biology')\n",
    "print ('Final list : ', list1)"
   ]
  },
  {
   "cell_type": "markdown",
   "metadata": {},
   "source": [
    "#### pop\n",
    "* positional arguments\n",
    "  \n",
    "  pop has an optional parameter, index of the object to be removed from the list.\n",
    "\n",
    "* keyword arguments\n",
    "  \n",
    "  pop has a keyword argument:  obj = list[-1] as default value.\n",
    "\n",
    "* goal of the method and what it returns\n",
    "\n",
    "  The pop() method removes and returns last object or obj from the list.\n",
    "\n",
    "* a working example"
   ]
  },
  {
   "cell_type": "code",
   "execution_count": 28,
   "metadata": {},
   "outputs": [
    {
     "name": "stdout",
     "output_type": "stream",
     "text": [
      "Help on method_descriptor:\n",
      "\n",
      "pop(...)\n",
      "    L.pop([index]) -> item -- remove and return item at index (default last).\n",
      "    Raises IndexError if list is empty or index is out of range.\n",
      "\n"
     ]
    }
   ],
   "source": [
    "help(list.pop)"
   ]
  },
  {
   "cell_type": "code",
   "execution_count": 25,
   "metadata": {},
   "outputs": [
    {
     "name": "stdout",
     "output_type": "stream",
     "text": [
      "list now :  ['physics', 'Biology', 'chemistry']\n",
      "list now :  ['Biology', 'chemistry']\n"
     ]
    }
   ],
   "source": [
    "list1 = ['physics', 'Biology', 'chemistry', 'maths']\n",
    "list1.pop(0)\n",
    "print (\"list now : \", list1)"
   ]
  },
  {
   "cell_type": "markdown",
   "metadata": {},
   "source": [
    "* an example with a keyword argument"
   ]
  },
  {
   "cell_type": "code",
   "execution_count": 29,
   "metadata": {},
   "outputs": [
    {
     "name": "stdout",
     "output_type": "stream",
     "text": [
      "list now :  ['physics', 'Biology', 'chemistry']\n"
     ]
    }
   ],
   "source": [
    "list1 = ['physics', 'Biology', 'chemistry', 'maths']\n",
    "list1.pop()\n",
    "print (\"list now : \", list1)"
   ]
  },
  {
   "cell_type": "markdown",
   "metadata": {},
   "source": [
    "## Exercise 3: set methods"
   ]
  },
  {
   "cell_type": "markdown",
   "metadata": {},
   "source": [
    "In this exercise, we will focus on the following set methods:\n",
    "* update\n",
    "* pop\n",
    "* remove\n",
    "* clear\n",
    "\n",
    "For each of the aforementioned set methods:\n",
    "\n",
    "* explain the positional arguments\n",
    "* explain the keyword arguments\n",
    "* explain what the goal of the method is and what it returns\n",
    "* give a working example."
   ]
  },
  {
   "cell_type": "markdown",
   "metadata": {},
   "source": [
    "#### update\n",
    "* positional arguments\n",
    "  \n",
    "  update can take tuples, lists, strings or other sets as its argument.\n",
    "\n",
    "* keyword arguments\n",
    "  \n",
    "  update has no keyword arguments\n",
    "\n",
    "* goal of the method and what it returns\n",
    "\n",
    "  The update() method update the set, adding elements from all others.\n",
    "\n",
    "* a working example"
   ]
  },
  {
   "cell_type": "code",
   "execution_count": 29,
   "metadata": {},
   "outputs": [
    {
     "name": "stdout",
     "output_type": "stream",
     "text": [
      "Help on method_descriptor:\n",
      "\n",
      "update(...)\n",
      "    Update a set with the union of itself and others.\n",
      "\n"
     ]
    }
   ],
   "source": [
    "help(set.update)"
   ]
  },
  {
   "cell_type": "code",
   "execution_count": 34,
   "metadata": {
    "scrolled": true
   },
   "outputs": [
    {
     "name": "stdout",
     "output_type": "stream",
     "text": [
      "{1, 3}\n",
      "{1, 'a', 3, 's', 'd'}\n"
     ]
    }
   ],
   "source": [
    "my_set = {1,3}\n",
    "print(my_set)\n",
    "my_set.update(\"sdad\")\n",
    "print(my_set)"
   ]
  },
  {
   "cell_type": "markdown",
   "metadata": {},
   "source": [
    "#### pop\n",
    "* positional arguments\n",
    "  \n",
    "  pop has no positional arguments.\n",
    "\n",
    "* keyword arguments\n",
    "  \n",
    "  pop has no positional arguments.\n",
    "\n",
    "* goal of the method and what it returns\n",
    "\n",
    "  Set being unordered, there is no way of determining which item will be popped.\n",
    "  The pop() method remove a random item from the set and return the remaining set.\n",
    "\n",
    "* a working example"
   ]
  },
  {
   "cell_type": "code",
   "execution_count": 30,
   "metadata": {},
   "outputs": [
    {
     "name": "stdout",
     "output_type": "stream",
     "text": [
      "Help on method_descriptor:\n",
      "\n",
      "pop(...)\n",
      "    Remove and return an arbitrary set element.\n",
      "    Raises KeyError if the set is empty.\n",
      "\n"
     ]
    }
   ],
   "source": [
    "help(set.pop)"
   ]
  },
  {
   "cell_type": "code",
   "execution_count": 41,
   "metadata": {},
   "outputs": [
    {
     "name": "stdout",
     "output_type": "stream",
     "text": [
      "{'a', 3, 'x', 'g'}\n"
     ]
    }
   ],
   "source": [
    "my_set = {1,3,'a','g','x'}\n",
    "my_set.pop()\n",
    "print(my_set)"
   ]
  },
  {
   "cell_type": "markdown",
   "metadata": {},
   "source": [
    "#### remove\n",
    "* positional arguments\n",
    "  \n",
    "  remove has positional arguments as the object to be remove from the list.\n",
    "* keyword arguments\n",
    "  \n",
    "  remove has no positional arguments.\n",
    "\n",
    "* goal of the method and what it returns\n",
    "\n",
    "  The remove() method remove a particular item from set.\n",
    "\n",
    "* a working example"
   ]
  },
  {
   "cell_type": "code",
   "execution_count": 31,
   "metadata": {},
   "outputs": [
    {
     "name": "stdout",
     "output_type": "stream",
     "text": [
      "Help on method_descriptor:\n",
      "\n",
      "remove(...)\n",
      "    Remove an element from a set; it must be a member.\n",
      "    \n",
      "    If the element is not a member, raise a KeyError.\n",
      "\n"
     ]
    }
   ],
   "source": [
    "help(set.remove)"
   ]
  },
  {
   "cell_type": "code",
   "execution_count": 42,
   "metadata": {},
   "outputs": [
    {
     "name": "stdout",
     "output_type": "stream",
     "text": [
      "{1, 3, 4, 5, 6}\n",
      "{1, 3, 4, 5}\n"
     ]
    }
   ],
   "source": [
    "my_set = {1, 3, 4, 5, 6}\n",
    "print(my_set)\n",
    "my_set.remove(6)\n",
    "print(my_set)"
   ]
  },
  {
   "cell_type": "markdown",
   "metadata": {},
   "source": [
    "#### clear\n",
    "* positional arguments\n",
    "  \n",
    "  clear has no positional arguments.\n",
    "* keyword arguments\n",
    "  \n",
    "  clear has no positional arguments.\n",
    "\n",
    "* goal of the method and what it returns\n",
    "\n",
    "  The clear() method remove all items from a set.\n",
    "\n",
    "* a working example"
   ]
  },
  {
   "cell_type": "code",
   "execution_count": 32,
   "metadata": {},
   "outputs": [
    {
     "name": "stdout",
     "output_type": "stream",
     "text": [
      "Help on method_descriptor:\n",
      "\n",
      "clear(...)\n",
      "    Remove all elements from this set.\n",
      "\n"
     ]
    }
   ],
   "source": [
    "help(set.clear)"
   ]
  },
  {
   "cell_type": "code",
   "execution_count": 43,
   "metadata": {},
   "outputs": [
    {
     "name": "stdout",
     "output_type": "stream",
     "text": [
      "{1, 3, 4, 5, 6}\n",
      "set()\n"
     ]
    }
   ],
   "source": [
    "my_set = {1, 3, 4, 5, 6}\n",
    "print(my_set)\n",
    "my_set.clear()\n",
    "print(my_set)"
   ]
  },
  {
   "cell_type": "markdown",
   "metadata": {},
   "source": [
    "## Exercise 4: Analyzing vocabulary using sets\n",
    "Please consider the following two texts:"
   ]
  },
  {
   "cell_type": "markdown",
   "metadata": {},
   "source": [
    "These stories were copied from [here](http://www.english-for-students.com/)."
   ]
  },
  {
   "cell_type": "code",
   "execution_count": 87,
   "metadata": {},
   "outputs": [
    {
     "name": "stdout",
     "output_type": "stream",
     "text": [
      "In a far away kingdom, there was a river. This river was home to many golden swans. The swans spent most of their time on the banks of the river. Every six months, the swans would leave a golden feather as a fee for using the lake. The soldiers of the kingdom would collect the feathers and deposit them in the royal treasury. \n",
      "One day, a homeless bird saw the river. \"The water in this river seems so cool and soothing. I will make my home here,\" thought the bird. \n",
      "As soon as the bird settled down near the river, the golden swans noticed her. They came shouting. \"This river belongs to us. We pay a golden feather to the King to use this river. You can not live here.\" \n",
      "\"I am homeless, brothers. I too will pay the rent. Please give me shelter,\" the bird pleaded. \"How will you pay the rent? You do not have golden feathers,\" said the swans laughing. They further added, \"Stop dreaming and leave once.\" The humble bird pleaded many times. But the arrogant swans drove the bird away. \n",
      "\"I will teach them a lesson!\" decided the humiliated bird. \n",
      "She went to the King and said, \"O King! The swans in your river are impolite and unkind. I begged for shelter but they said that they had purchased the river with golden feathers.\" \n",
      "The King was angry with the arrogant swans for having insulted the homeless bird. He ordered his soldiers to bring the arrogant swans to his court. In no time, all the golden swans were brought to the King’s court. \n",
      "\"Do you think the royal treasury depends upon your golden feathers? You can not decide who lives by the river. Leave the river at once or you all will be beheaded!\" shouted the King. \n",
      "The swans shivered with fear on hearing the King. They flew away never to return. The bird built her home near the river and lived there happily forever. The bird gave shelter to all other birds in the river. \n"
     ]
    }
   ],
   "source": [
    "a_story = \"\"\"In a far away kingdom, there was a river. This river was home to many golden swans. The swans spent most of their time on the banks of the river. Every six months, the swans would leave a golden feather as a fee for using the lake. The soldiers of the kingdom would collect the feathers and deposit them in the royal treasury. \n",
    "One day, a homeless bird saw the river. \"The water in this river seems so cool and soothing. I will make my home here,\" thought the bird. \n",
    "As soon as the bird settled down near the river, the golden swans noticed her. They came shouting. \"This river belongs to us. We pay a golden feather to the King to use this river. You can not live here.\" \n",
    "\"I am homeless, brothers. I too will pay the rent. Please give me shelter,\" the bird pleaded. \"How will you pay the rent? You do not have golden feathers,\" said the swans laughing. They further added, \"Stop dreaming and leave once.\" The humble bird pleaded many times. But the arrogant swans drove the bird away. \n",
    "\"I will teach them a lesson!\" decided the humiliated bird. \n",
    "She went to the King and said, \"O King! The swans in your river are impolite and unkind. I begged for shelter but they said that they had purchased the river with golden feathers.\" \n",
    "The King was angry with the arrogant swans for having insulted the homeless bird. He ordered his soldiers to bring the arrogant swans to his court. In no time, all the golden swans were brought to the King’s court. \n",
    "\"Do you think the royal treasury depends upon your golden feathers? You can not decide who lives by the river. Leave the river at once or you all will be beheaded!\" shouted the King. \n",
    "The swans shivered with fear on hearing the King. They flew away never to return. The bird built her home near the river and lived there happily forever. The bird gave shelter to all other birds in the river. \"\"\"\n",
    "print(a_story)"
   ]
  },
  {
   "cell_type": "code",
   "execution_count": 88,
   "metadata": {},
   "outputs": [
    {
     "name": "stdout",
     "output_type": "stream",
     "text": [
      "Long time ago, there lived a King. He was lazy and liked all the comforts of life. He never carried out his duties as a King. “Our King does not take care of our needs. He also ignores the affairs of his kingdom.\" The people complained. \n",
      "One day, the King went into the forest to hunt. After having wandered for quite sometime, he became thirsty. To his relief, he spotted a lake. As he was drinking water, he suddenly saw a golden swan come out of the lake and perch on a stone. “Oh! A golden swan. I must capture it,\" thought the King. \n",
      "But as soon as he held his bow up, the swan disappeared. And the King heard a voice, “I am the Golden Swan. If you want to capture me, you must come to heaven.\" \n",
      "Surprised, the King said, “Please show me the way to heaven.\" “Do good deeds, serve your people and the messenger from heaven would come to fetch you to heaven,\" replied the voice. \n",
      "The selfish King, eager to capture the Swan, tried doing some good deeds in his Kingdom. “Now, I suppose a messenger will come to take me to heaven,\" he thought. But, no messenger came. \n",
      "The King then disguised himself and went out into the street. There he tried helping an old man. But the old man became angry and said, “You need not try to help. I am in this miserable state because of out selfish King. He has done nothing for his people.\" \n",
      "Suddenly, the King heard the golden swan’s voice, “Do good deeds and you will come to heaven.\" It dawned on the King that by doing selfish acts, he will not go to heaven. \n",
      "He realized that his people needed him and carrying out his duties was the only way to heaven. After that day he became a responsible King. \n",
      "\n"
     ]
    }
   ],
   "source": [
    "another_story = \"\"\"Long time ago, there lived a King. He was lazy and liked all the comforts of life. He never carried out his duties as a King. “Our King does not take care of our needs. He also ignores the affairs of his kingdom.\" The people complained. \n",
    "One day, the King went into the forest to hunt. After having wandered for quite sometime, he became thirsty. To his relief, he spotted a lake. As he was drinking water, he suddenly saw a golden swan come out of the lake and perch on a stone. “Oh! A golden swan. I must capture it,\" thought the King. \n",
    "But as soon as he held his bow up, the swan disappeared. And the King heard a voice, “I am the Golden Swan. If you want to capture me, you must come to heaven.\" \n",
    "Surprised, the King said, “Please show me the way to heaven.\" “Do good deeds, serve your people and the messenger from heaven would come to fetch you to heaven,\" replied the voice. \n",
    "The selfish King, eager to capture the Swan, tried doing some good deeds in his Kingdom. “Now, I suppose a messenger will come to take me to heaven,\" he thought. But, no messenger came. \n",
    "The King then disguised himself and went out into the street. There he tried helping an old man. But the old man became angry and said, “You need not try to help. I am in this miserable state because of out selfish King. He has done nothing for his people.\" \n",
    "Suddenly, the King heard the golden swan’s voice, “Do good deeds and you will come to heaven.\" It dawned on the King that by doing selfish acts, he will not go to heaven. \n",
    "He realized that his people needed him and carrying out his duties was the only way to heaven. After that day he became a responsible King. \n",
    "\"\"\"\n",
    "print (another_story)"
   ]
  },
  {
   "cell_type": "markdown",
   "metadata": {},
   "source": [
    "#### Exercise 4a: preprocessing text\n",
    "Before analyzing the two texts, we are first going to preprocess them. \n",
    "Please use a particular string method multiple times to replace the following characters by empty strings in both **a_story** and **another_story**:\n",
    "* newlines: '\\n'\n",
    "* commas: ','\n",
    "* dots: '.'\n",
    "* quotes: '\"'\n",
    "\n",
    "After preprocessing both texts, please call the cleaned stories **cleaned_story** and **cleaned_another_story**"
   ]
  },
  {
   "cell_type": "code",
   "execution_count": 89,
   "metadata": {
    "scrolled": true
   },
   "outputs": [
    {
     "name": "stdout",
     "output_type": "stream",
     "text": [
      "In a far away kingdom there was a river This river was home to many golden swans The swans spent most of their time on the banks of the river Every six months the swans would leave a golden feather as a fee for using the lake The soldiers of the kingdom would collect the feathers and deposit them in the royal treasury One day a homeless bird saw the river The water in this river seems so cool and soothing I will make my home here thought the bird As soon as the bird settled down near the river the golden swans noticed her They came shouting This river belongs to us We pay a golden feather to the King to use this river You can not live here I am homeless brothers I too will pay the rent Please give me shelter the bird pleaded How will you pay the rent You do not have golden feathers said the swans laughing They further added Stop dreaming and leave once The humble bird pleaded many times But the arrogant swans drove the bird away I will teach them a lesson decided the humiliated bird She went to the King and said O King The swans in your river are impolite and unkind I begged for shelter but they said that they had purchased the river with golden feathers The King was angry with the arrogant swans for having insulted the homeless bird He ordered his soldiers to bring the arrogant swans to his court In no time all the golden swans were brought to the King’s court Do you think the royal treasury depends upon your golden feathers You can not decide who lives by the river Leave the river at once or you all will be beheaded shouted the King The swans shivered with fear on hearing the King They flew away never to return The bird built her home near the river and lived there happily forever The bird gave shelter to all other birds in the river \n",
      "Long time ago there lived a King He was lazy and liked all the comforts of life He never carried out his duties as a King Our King does not take care of our needs He also ignores the affairs of his kingdom The people complained One day the King went into the forest to hunt After having wandered for quite sometime he became thirsty To his relief he spotted a lake As he was drinking water he suddenly saw a golden swan come out of the lake and perch on a stone Oh A golden swan I must capture it thought the King But as soon as he held his bow up the swan disappeared And the King heard a voice I am the Golden Swan If you want to capture me you must come to heaven Surprised the King said Please show me the way to heaven Do good deeds serve your people and the messenger from heaven would come to fetch you to heaven replied the voice The selfish King eager to capture the Swan tried doing some good deeds in his Kingdom Now I suppose a messenger will come to take me to heaven he thought But no messenger came The King then disguised himself and went out into the street There he tried helping an old man But the old man became angry and said You need not try to help I am in this miserable state because of out selfish King He has done nothing for his people Suddenly the King heard the golden swan’s voice Do good deeds and you will come to heaven It dawned on the King that by doing selfish acts he will not go to heaven He realized that his people needed him and carrying out his duties was the only way to heaven After that day he became a responsible King \n"
     ]
    }
   ],
   "source": [
    "cleaned_story = a_story.replace('\\n', '')\n",
    "cleaned_story = cleaned_story.replace(',', '')\n",
    "cleaned_story = cleaned_story.replace('.', '')\n",
    "cleaned_story = cleaned_story.replace('\"', '')\n",
    "cleaned_story = cleaned_story.replace('!', '')# Here are \"!\",\"?\",\"“\" in the text, I will replace them as well\n",
    "cleaned_story = cleaned_story.replace('?', '')\n",
    "print(cleaned_story)\n",
    "cleaned_another_story = another_story.replace('\\n', '')\n",
    "cleaned_another_story = cleaned_another_story.replace(',', '')\n",
    "cleaned_another_story = cleaned_another_story.replace('.', '')\n",
    "cleaned_another_story = cleaned_another_story.replace('\"', '')\n",
    "cleaned_another_story = cleaned_another_story.replace('!', '')# Here are \"!\",\"?\",\"“\" in the text, I will replace them as well\n",
    "cleaned_another_story = cleaned_another_story.replace('?', '')\n",
    "cleaned_another_story = cleaned_another_story.replace('“', '')\n",
    "print(cleaned_another_story)"
   ]
  },
  {
   "cell_type": "code",
   "execution_count": 90,
   "metadata": {
    "collapsed": true
   },
   "outputs": [],
   "source": [
    "# Change two texts to lowercase\n",
    "cleaned_story = cleaned_story.lower()\n",
    "cleaned_another_story = cleaned_another_story.lower()"
   ]
  },
  {
   "cell_type": "code",
   "execution_count": null,
   "metadata": {
    "collapsed": true
   },
   "outputs": [],
   "source": []
  },
  {
   "cell_type": "markdown",
   "metadata": {},
   "source": [
    "#### Exercise 4b: from text to a list\n",
    "For each text (**cleaned_story** and **cleaned_another_story**), please use a string method to convert **cleaned_story** and **cleaned_another_story** into lists by splitting using spaces."
   ]
  },
  {
   "cell_type": "code",
   "execution_count": 91,
   "metadata": {},
   "outputs": [
    {
     "name": "stdout",
     "output_type": "stream",
     "text": [
      "['long', 'time', 'ago', 'there', 'lived', 'a', 'king', 'he', 'was', 'lazy', 'and', 'liked', 'all', 'the', 'comforts', 'of', 'life', 'he', 'never', 'carried', 'out', 'his', 'duties', 'as', 'a', 'king', 'our', 'king', 'does', 'not', 'take', 'care', 'of', 'our', 'needs', 'he', 'also', 'ignores', 'the', 'affairs', 'of', 'his', 'kingdom', 'the', 'people', 'complained', 'one', 'day', 'the', 'king', 'went', 'into', 'the', 'forest', 'to', 'hunt', 'after', 'having', 'wandered', 'for', 'quite', 'sometime', 'he', 'became', 'thirsty', 'to', 'his', 'relief', 'he', 'spotted', 'a', 'lake', 'as', 'he', 'was', 'drinking', 'water', 'he', 'suddenly', 'saw', 'a', 'golden', 'swan', 'come', 'out', 'of', 'the', 'lake', 'and', 'perch', 'on', 'a', 'stone', 'oh', 'a', 'golden', 'swan', 'i', 'must', 'capture', 'it', 'thought', 'the', 'king', 'but', 'as', 'soon', 'as', 'he', 'held', 'his', 'bow', 'up', 'the', 'swan', 'disappeared', 'and', 'the', 'king', 'heard', 'a', 'voice', 'i', 'am', 'the', 'golden', 'swan', 'if', 'you', 'want', 'to', 'capture', 'me', 'you', 'must', 'come', 'to', 'heaven', 'surprised', 'the', 'king', 'said', 'please', 'show', 'me', 'the', 'way', 'to', 'heaven', 'do', 'good', 'deeds', 'serve', 'your', 'people', 'and', 'the', 'messenger', 'from', 'heaven', 'would', 'come', 'to', 'fetch', 'you', 'to', 'heaven', 'replied', 'the', 'voice', 'the', 'selfish', 'king', 'eager', 'to', 'capture', 'the', 'swan', 'tried', 'doing', 'some', 'good', 'deeds', 'in', 'his', 'kingdom', 'now', 'i', 'suppose', 'a', 'messenger', 'will', 'come', 'to', 'take', 'me', 'to', 'heaven', 'he', 'thought', 'but', 'no', 'messenger', 'came', 'the', 'king', 'then', 'disguised', 'himself', 'and', 'went', 'out', 'into', 'the', 'street', 'there', 'he', 'tried', 'helping', 'an', 'old', 'man', 'but', 'the', 'old', 'man', 'became', 'angry', 'and', 'said', 'you', 'need', 'not', 'try', 'to', 'help', 'i', 'am', 'in', 'this', 'miserable', 'state', 'because', 'of', 'out', 'selfish', 'king', 'he', 'has', 'done', 'nothing', 'for', 'his', 'people', 'suddenly', 'the', 'king', 'heard', 'the', 'golden', 'swan’s', 'voice', 'do', 'good', 'deeds', 'and', 'you', 'will', 'come', 'to', 'heaven', 'it', 'dawned', 'on', 'the', 'king', 'that', 'by', 'doing', 'selfish', 'acts', 'he', 'will', 'not', 'go', 'to', 'heaven', 'he', 'realized', 'that', 'his', 'people', 'needed', 'him', 'and', 'carrying', 'out', 'his', 'duties', 'was', 'the', 'only', 'way', 'to', 'heaven', 'after', 'that', 'day', 'he', 'became', 'a', 'responsible', 'king']\n"
     ]
    }
   ],
   "source": [
    "cleaned_story = cleaned_story.split()\n",
    "cleaned_another_story = cleaned_another_story.split()\n",
    "print (cleaned_another_story)"
   ]
  },
  {
   "cell_type": "markdown",
   "metadata": {},
   "source": [
    "#### Exercise 4c: from a list to a vocabulary (a set)\n",
    "Please create a set for the words in each text by adding each word to a set. At the end, you should have two variables **vocab_a_story** and **vocab_another_story**, each containing the unique words in each story."
   ]
  },
  {
   "cell_type": "code",
   "execution_count": 92,
   "metadata": {},
   "outputs": [
    {
     "name": "stdout",
     "output_type": "stream",
     "text": [
      "{'feathers', 'think', 'spent', 'time', 'down', 'stop', 'no', 'would', 'be', 'my', 'thought', 'seems', 'to', 'golden', 'have', 'their', 'never', 'your', 'a', 'he', 'there', 'shouting', 'humiliated', 'can', 'rent', 'using', 'will', 'decide', 'king’s', 'us', 'pay', 'not', 'but', 'water', 'give', 'bring', 'who', 'bird', 'every', 'too', 'all', 'king', 'treasury', 'river', 'times', 'laughing', 'came', 'soldiers', 'court', 'banks', 'how', 'are', 'added', 'fear', 'built', 'one', 'live', 'dreaming', 'pleaded', 'once', 'unkind', 'other', 'cool', 'away', 'the', 'they', 'brought', 'leave', 'o', 'far', 'hearing', 'lived', 'you', 'shouted', 'flew', 'impolite', 'shelter', 'near', 'swans', 'them', 'that', 'insulted', 'were', 'or', 'most', 'many', 'homeless', 'decided', 'with', 'drove', 'for', 'birds', 'soon', 'of', 'ordered', 'purchased', 'royal', 'said', 'return', 'am', 'feather', 'was', 'deposit', 'kingdom', 'collect', 'soothing', 'lesson', 'home', 'arrogant', 'this', 'at', 'forever', 'went', 'lives', 'months', 'depends', 'here', 'upon', 'noticed', 'she', 'i', 'brothers', 'belongs', 'further', 'please', 'his', 'beheaded', 'so', 'on', 'begged', 'settled', 'fee', 'as', 'do', 'saw', 'and', 'by', 'me', 'use', 'had', 'make', 'six', 'teach', 'lake', 'humble', 'her', 'in', 'gave', 'having', 'angry', 'happily', 'shivered', 'day', 'we'}\n",
      "{'time', 'after', 'no', 'serve', 'would', 'surprised', 'responsible', 'want', 'heaven', 'thought', 'way', 'now', 'became', 'hunt', 'nothing', 'carrying', 'to', 'golden', 'long', 'good', 'quite', 'selfish', 'never', 'your', 'a', 'needed', 'he', 'there', 'realized', 'drinking', 'up', 'will', 'it', 'wandered', 'not', 'tried', 'but', 'acts', 'liked', 'voice', 'water', 'disguised', 'replied', 'into', 'all', 'king', 'must', 'complained', 'dawned', 'suppose', 'came', 'show', 'some', 'disappeared', 'heard', 'needs', 'affairs', 'one', 'from', 'our', 'the', 'ago', 'oh', 'swan’s', 'lived', 'you', 'then', 'spotted', 'deeds', 'comforts', 'that', 'if', 'life', 'suddenly', 'capture', 'held', 'street', 'thirsty', 'doing', 'only', 'does', 'helping', 'perch', 'forest', 'need', 'because', 'for', 'soon', 'of', 'himself', 'also', 'said', 'am', 'an', 'come', 'swan', 'was', 'kingdom', 'take', 'man', 'try', 'this', 'went', 'him', 'bow', 'fetch', 'i', 'please', 'old', 'his', 'stone', 'out', 'ignores', 'duties', 'carried', 'on', 'sometime', 'as', 'do', 'saw', 'and', 'by', 'me', 'messenger', 'help', 'care', 'done', 'state', 'lake', 'eager', 'has', 'lazy', 'in', 'miserable', 'having', 'relief', 'angry', 'day', 'go', 'people'}\n"
     ]
    }
   ],
   "source": [
    "vocab_a_story = set()\n",
    "for word in cleaned_story:\n",
    "    # insert your code here\n",
    "    vocab_a_story.add(word)\n",
    "vocab_another_story = set()\n",
    "for word in cleaned_another_story:\n",
    "    # insert your code here\n",
    "    vocab_another_story.add(word)    \n",
    "print(vocab_a_story)\n",
    "print(vocab_another_story)"
   ]
  },
  {
   "cell_type": "markdown",
   "metadata": {},
   "source": [
    "do the same for the other text"
   ]
  },
  {
   "cell_type": "markdown",
   "metadata": {},
   "source": [
    "#### Exercise 4d: analyzing vocabularies\n",
    "Please analyze the vocabularies by using set methods to determine:\n",
    "* which words occur in both texts\n",
    "* which words only occur in **a_story**\n",
    "* which words only occur in **another_story**"
   ]
  },
  {
   "cell_type": "code",
   "execution_count": 93,
   "metadata": {},
   "outputs": [
    {
     "name": "stdout",
     "output_type": "stream",
     "text": [
      "{'not', 'but', 'i', 'please', 'water', 'that', 'his', 'time', 'no', 'would', 'all', 'king', 'on', 'came', 'as', 'thought', 'do', 'saw', 'and', 'by', 'me', 'to', 'golden', 'for', 'one', 'soon', 'of', 'said', 'never', 'your', 'am', 'lake', 'the', 'a', 'was', 'he', 'kingdom', 'in', 'there', 'this', 'day', 'went', 'having', 'lived', 'angry', 'you', 'will'}\n",
      "{'feathers', 'think', 'spent', 'down', 'stop', 'be', 'my', 'seems', 'have', 'their', 'shouting', 'humiliated', 'can', 'rent', 'using', 'decide', 'king’s', 'us', 'pay', 'give', 'bring', 'who', 'bird', 'every', 'too', 'treasury', 'river', 'times', 'laughing', 'soldiers', 'court', 'banks', 'how', 'are', 'added', 'fear', 'built', 'live', 'dreaming', 'pleaded', 'once', 'unkind', 'other', 'cool', 'away', 'they', 'brought', 'leave', 'o', 'far', 'hearing', 'shouted', 'flew', 'impolite', 'shelter', 'near', 'swans', 'them', 'insulted', 'were', 'or', 'most', 'many', 'homeless', 'decided', 'with', 'drove', 'birds', 'ordered', 'purchased', 'royal', 'return', 'feather', 'deposit', 'lesson', 'collect', 'soothing', 'home', 'arrogant', 'at', 'forever', 'lives', 'months', 'depends', 'here', 'upon', 'noticed', 'she', 'brothers', 'belongs', 'further', 'beheaded', 'so', 'begged', 'settled', 'fee', 'use', 'had', 'make', 'six', 'teach', 'humble', 'her', 'gave', 'happily', 'shivered', 'we'}\n",
      "{'after', 'serve', 'responsible', 'surprised', 'want', 'heaven', 'way', 'now', 'became', 'hunt', 'nothing', 'carrying', 'long', 'good', 'quite', 'selfish', 'needed', 'realized', 'drinking', 'up', 'it', 'wandered', 'tried', 'acts', 'liked', 'voice', 'disguised', 'replied', 'into', 'must', 'complained', 'dawned', 'suppose', 'show', 'some', 'disappeared', 'heard', 'needs', 'affairs', 'from', 'our', 'ago', 'oh', 'swan’s', 'then', 'spotted', 'comforts', 'if', 'life', 'suddenly', 'capture', 'held', 'street', 'thirsty', 'doing', 'only', 'does', 'helping', 'perch', 'forest', 'need', 'because', 'himself', 'also', 'an', 'come', 'swan', 'take', 'man', 'try', 'him', 'bow', 'fetch', 'old', 'stone', 'out', 'ignores', 'duties', 'carried', 'sometime', 'messenger', 'help', 'care', 'done', 'state', 'eager', 'has', 'lazy', 'miserable', 'relief', 'deeds', 'go', 'people'}\n"
     ]
    }
   ],
   "source": [
    "print (vocab_a_story & vocab_another_story)# words occur in both texts\n",
    "print (vocab_a_story - vocab_another_story)# words only occur in a_story\n",
    "print (vocab_another_story - vocab_a_story)# words only occur in another_story"
   ]
  },
  {
   "cell_type": "markdown",
   "metadata": {},
   "source": [
    "## Exercise 5: counting\n",
    "Below you find a list called **words**, which is a list of strings. Please create a dictionary in which the **key** is the word and the **value** is the frequency of the word. \n",
    "However, do not include words that:\n",
    "* end with the letter e\n",
    "* start with the letter t\n",
    "* start with the letter c and end with the letter w (both conditions must be met)\n",
    "* have five or more letters\n",
    "\n",
    "You are not allowed to use the **collections** module to do this."
   ]
  },
  {
   "cell_type": "code",
   "execution_count": 248,
   "metadata": {
    "collapsed": true
   },
   "outputs": [],
   "source": [
    "words = ['there',\n",
    " 'was',\n",
    " 'a',\n",
    " 'village',\n",
    " 'near',\n",
    " 'a',\n",
    " 'jungle',\n",
    " 'the',\n",
    " 'village',\n",
    " 'cows',\n",
    " 'used',\n",
    " 'to',\n",
    " 'go',\n",
    " 'up',\n",
    " 'to',\n",
    " 'the',\n",
    " 'jungle',\n",
    " 'in',\n",
    " 'search',\n",
    " 'of',\n",
    " 'food.',\n",
    " 'in',\n",
    " 'the',\n",
    " 'forest',\n",
    " 'there',\n",
    " 'lived',\n",
    " 'a',\n",
    " 'wicked',\n",
    " 'lion',\n",
    " 'he',\n",
    " 'used',\n",
    " 'to',\n",
    " 'kill',\n",
    " 'a',\n",
    " 'cow',\n",
    " 'now',\n",
    " 'and',\n",
    " 'then',\n",
    " 'and',\n",
    " 'eat',\n",
    " 'her',\n",
    " 'this',\n",
    " 'was',\n",
    " 'happening',\n",
    " 'for',\n",
    " 'quite',\n",
    " 'sometime',\n",
    " 'the',\n",
    " 'cows',\n",
    " 'were',\n",
    " 'frightened',\n",
    " 'one',\n",
    " 'day',\n",
    " 'all',\n",
    " 'the',\n",
    " 'cows',\n",
    " 'held',\n",
    " 'a',\n",
    " 'meeting',\n",
    " 'an',\n",
    " 'old',\n",
    " 'cow',\n",
    " 'said',\n",
    " 'listen',\n",
    " 'everybody',\n",
    " 'the',\n",
    " 'lion',\n",
    " 'eats',\n",
    " 'one',\n",
    " 'of',\n",
    " 'us',\n",
    " 'only',\n",
    " 'because',\n",
    " 'we',\n",
    " 'go',\n",
    " 'into',\n",
    " 'the',\n",
    " 'jungle',\n",
    " 'separately',\n",
    " 'from',\n",
    " 'now',\n",
    " 'on',\n",
    " 'we',\n",
    " 'will',\n",
    " 'all',\n",
    " 'be',\n",
    " 'together',\n",
    " 'from',\n",
    " 'then',\n",
    " 'on',\n",
    " 'all',\n",
    " 'the',\n",
    " 'cows',\n",
    " 'went',\n",
    " 'into',\n",
    " 'the',\n",
    " 'jungle',\n",
    " 'in',\n",
    " 'a',\n",
    " 'herd',\n",
    " 'when',\n",
    " 'they',\n",
    " 'heard',\n",
    " 'or',\n",
    " 'saw',\n",
    " 'the',\n",
    " 'lion',\n",
    " 'all',\n",
    " 'of',\n",
    " 'them',\n",
    " 'unitedly',\n",
    " 'moo',\n",
    " 'and',\n",
    " 'chased',\n",
    " 'him',\n",
    " 'away',\n",
    " 'moral',\n",
    " 'divided',\n",
    " 'we',\n",
    " 'fall',\n",
    " 'united',\n",
    " 'we',\n",
    " 'stand']"
   ]
  },
  {
   "cell_type": "code",
   "execution_count": 249,
   "metadata": {},
   "outputs": [
    {
     "name": "stdout",
     "output_type": "stream",
     "text": [
      "123\n"
     ]
    }
   ],
   "source": [
    "\n",
    "print (len(words))"
   ]
  },
  {
   "cell_type": "code",
   "execution_count": 250,
   "metadata": {
    "scrolled": true
   },
   "outputs": [
    {
     "name": "stdout",
     "output_type": "stream",
     "text": [
      "['was', 'a', 'near', 'a', 'cows', 'used', 'go', 'up', 'in', 'of', 'in', 'a', 'lion', 'used', 'kill', 'a', 'now', 'and', 'and', 'eat', 'her', 'was', 'for', 'cows', 'day', 'all', 'cows', 'held', 'a', 'an', 'old', 'said', 'lion', 'eats', 'of', 'us', 'only', 'go', 'into', 'from', 'now', 'on', 'will', 'all', 'from', 'on', 'all', 'cows', 'went', 'into', 'in', 'a', 'herd', 'when', 'or', 'saw', 'lion', 'all', 'of', 'moo', 'and', 'him', 'away', 'fall']\n",
      "64\n"
     ]
    }
   ],
   "source": [
    "new_word_l = []\n",
    "for word in words:\n",
    "    if (len(word)>=5 or \n",
    "        word.startswith(\"t\") or \n",
    "        (word.startswith(\"c\") and word.endswith(\"w\")) or \n",
    "        word.endswith(\"e\")):\n",
    "            continue\n",
    "    else:\n",
    "        new_word_l.append(word)\n",
    "\n",
    "print (new_word_l)\n",
    "print (len(new_word_l))"
   ]
  },
  {
   "cell_type": "code",
   "execution_count": 256,
   "metadata": {},
   "outputs": [
    {
     "name": "stdout",
     "output_type": "stream",
     "text": [
      "{'was': 2, 'a': 6, 'near': 1, 'cows': 4, 'used': 2, 'go': 2, 'up': 1, 'in': 3, 'of': 3, 'lion': 3, 'kill': 1, 'now': 2, 'and': 3, 'eat': 1, 'her': 1, 'for': 1, 'day': 1, 'all': 4, 'held': 1, 'an': 1, 'old': 1, 'said': 1, 'eats': 1, 'us': 1, 'only': 1, 'into': 2, 'from': 2, 'on': 2, 'will': 1, 'went': 1, 'herd': 1, 'when': 1, 'or': 1, 'saw': 1, 'moo': 1, 'him': 1, 'away': 1, 'fall': 1}\n"
     ]
    }
   ],
   "source": [
    "dic_frequency = {}\n",
    "for word in new_word_l:\n",
    "    dic_frequency[word] = new_word_l.count(word)\n",
    "print (dic_frequency)\n",
    "    "
   ]
  },
  {
   "cell_type": "markdown",
   "metadata": {},
   "source": [
    "Analyze your dicitionary by printing:\n",
    "* how many keys it has \n",
    "* what the highest word frequency is\n",
    "* the sum of all values."
   ]
  },
  {
   "cell_type": "code",
   "execution_count": 265,
   "metadata": {},
   "outputs": [
    {
     "name": "stdout",
     "output_type": "stream",
     "text": [
      "38\n",
      "a : 6\n",
      "64\n"
     ]
    }
   ],
   "source": [
    "print(len(dic_frequency))# how many keys it has\n",
    "max_key = max(dic_frequency, key=lambda k: dic_frequency[k])\n",
    "print(max_key,\":\",dic_frequency[max_key])# what the highest word frequency is\n",
    "print(sum(dic_frequency.values())) # the sum of all values."
   ]
  },
  {
   "cell_type": "markdown",
   "metadata": {},
   "source": [
    "In addition, print the frequencies of the following words using your dictionary (if the word does not occur in the dictionary, print 'WORD does not occur')\n",
    "* up\n",
    "* near\n",
    "* together\n",
    "* lion\n",
    "* cow"
   ]
  },
  {
   "cell_type": "code",
   "execution_count": 270,
   "metadata": {},
   "outputs": [
    {
     "name": "stdout",
     "output_type": "stream",
     "text": [
      "up : 1\n",
      "near : 1\n",
      "lion : 3\n",
      "together : WORD does not occur\n",
      "cow : WORD does not occur\n"
     ]
    }
   ],
   "source": [
    "# print frequency\n",
    "for word in ['up', 'near' , 'lion','together','cow']:\n",
    "    if word in dic_frequency:\n",
    "        print(word,\":\",dic_frequency[word])\n",
    "    else:\n",
    "        print(word,\": WORD does not occur\")"
   ]
  },
  {
   "cell_type": "markdown",
   "metadata": {},
   "source": [
    "## Exercise 6: Questions about Python\n",
    "Please answer the following questions about the Python language"
   ]
  },
  {
   "cell_type": "markdown",
   "metadata": {},
   "source": [
    "a. What is the difference between positional arguments and keyword arguments?"
   ]
  },
  {
   "cell_type": "markdown",
   "metadata": {
    "collapsed": true
   },
   "source": [
    "*Positional arguments (args) are compulsory in order to call a method. Positional argument is a name that is not followed by an equal sign (=) and default value. *\n",
    "\n",
    "*Keyword arguments (kwargs) are optional. They can be optional since they usually have a default value. By using the keyword argument, you simply change the default value to another value. keyword argument is followed by an equal sign and an expression that gives its default value. *"
   ]
  },
  {
   "cell_type": "markdown",
   "metadata": {},
   "source": [
    "b. What are the type types of containers that you define using curly brackets?"
   ]
  },
  {
   "cell_type": "markdown",
   "metadata": {
    "collapsed": true
   },
   "source": [
    "*Set and dictionary*"
   ]
  },
  {
   "cell_type": "markdown",
   "metadata": {},
   "source": [
    "c. When comparing the containers lists and sets, there are three properties that are unique for lists. Please name and explain them."
   ]
  },
  {
   "cell_type": "markdown",
   "metadata": {
    "collapsed": true
   },
   "source": [
    "*ordered: Sets are unordered*\n",
    "\n",
    "*duplicates: Sets can't contain duplicates*\n",
    "\n",
    "*immutable type elements: Set not allowed*"
   ]
  },
  {
   "cell_type": "markdown",
   "metadata": {},
   "source": [
    "d. Explain the difference between **continue** and **break** (provide examples)?"
   ]
  },
  {
   "cell_type": "markdown",
   "metadata": {
    "collapsed": true
   },
   "source": [
    "*break: Jumps out of the closest enclosing loop (past the entire loop statement)*\n",
    "\n",
    "*continue: Jumps to the top of the closest enclosing loop (to the loop’s header line)*"
   ]
  },
  {
   "cell_type": "code",
   "execution_count": 274,
   "metadata": {},
   "outputs": [
    {
     "name": "stdout",
     "output_type": "stream",
     "text": [
      "1\n",
      "2\n",
      "The end\n"
     ]
    }
   ],
   "source": [
    "for e in [1,2,3,4]:\n",
    "    if e == 3:\n",
    "        break\n",
    "    print(e)\n",
    "print(\"The end\")"
   ]
  },
  {
   "cell_type": "code",
   "execution_count": 275,
   "metadata": {},
   "outputs": [
    {
     "name": "stdout",
     "output_type": "stream",
     "text": [
      "1\n",
      "2\n",
      "4\n",
      "The end\n"
     ]
    }
   ],
   "source": [
    "for e in [1,2,3,4]:\n",
    "    if e == 3:\n",
    "        continue\n",
    "    print(e)\n",
    "print(\"The end\")"
   ]
  }
 ],
 "metadata": {
  "anaconda-cloud": {},
  "kernelspec": {
   "display_name": "Python 3",
   "language": "python",
   "name": "python3"
  },
  "language_info": {
   "codemirror_mode": {
    "name": "ipython",
    "version": 3
   },
   "file_extension": ".py",
   "mimetype": "text/x-python",
   "name": "python",
   "nbconvert_exporter": "python",
   "pygments_lexer": "ipython3",
   "version": "3.6.1"
  }
 },
 "nbformat": 4,
 "nbformat_minor": 1
}
