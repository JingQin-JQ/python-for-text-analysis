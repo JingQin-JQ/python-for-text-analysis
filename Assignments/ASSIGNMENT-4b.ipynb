{
 "cells": [
  {
   "cell_type": "markdown",
   "metadata": {},
   "source": [
    "# Assignment 4b: Linguistic statistics\n",
    "\n",
    "### This assignment is due 5-12-2017, before 20:00 PM. \n",
    "   \n",
    "The goal of this assignment is to compute statistics on the basis of a corpus, in order to compare it with other corpora. This is useful, because current natural language processing technology is quite sensitive to these differences. A NLP system that is trained on one kind of corpus, and displays very good performance, might perfom much worse on a different kind of corpus. This is known as the problem of *domain adaptation*. "
   ]
  },
  {
   "cell_type": "markdown",
   "metadata": {},
   "source": [
    "## Goal\n",
    "The goal of this exercise is to complete the function below this cell.\n",
    "\n",
    "Aside from being able to compute the statistics, you will also be graded on your use of helper functions. For example, it would be reasonable not to use two separate helper functions in order to computer **num_tokens** and **num_sents** since they both require you to loop over the **wf elements**."
   ]
  },
  {
   "cell_type": "code",
   "execution_count": 1,
   "metadata": {
    "collapsed": true
   },
   "outputs": [],
   "source": [
    "path_to_naf_file = '../Data/xml_data/naf.xml'"
   ]
  },
  {
   "cell_type": "code",
   "execution_count": null,
   "metadata": {
    "collapsed": true
   },
   "outputs": [],
   "source": [
    "def extract_stats(path_to_naf_file):\n",
    "    \"\"\"\n",
    "    given the path to a NAF XML file\n",
    "    this function will complete the dictionary with linguistic stats\n",
    "    \n",
    "    :rtype: dict\n",
    "    :return: dictionary with linguistic stats\n",
    "    \"\"\"\n",
    "    # your code here (calling of helper functions)\n",
    "    \n",
    "    \n",
    "    stats = {\n",
    "        'num_tokens'    :          , # number of wf elements in naf file (see wf elements)\n",
    "        'num_sents'     :          , # number of sentences in naf file (see wf elements)\n",
    "        'longest_word'  :          , # the longest word (see wf elements)\n",
    "        'longest_sent'  :          , # the longest sentence (see wf elements)\n",
    "        'pos_freq'      :          , # frequency of each pos (see term elements attribute 'pos')\n",
    "        \n",
    "        'num_entities'  :          , # number of entities (see entity elements)\n",
    "        'type_freq'     :          , # frequency of each entity type (see entity element attribute type)\n",
    "        \n",
    "    }"
   ]
  },
  {
   "cell_type": "code",
   "execution_count": null,
   "metadata": {
    "collapsed": true
   },
   "outputs": [],
   "source": []
  }
 ],
 "metadata": {
  "anaconda-cloud": {},
  "kernelspec": {
   "display_name": "Python 3",
   "language": "python",
   "name": "python3"
  },
  "language_info": {
   "codemirror_mode": {
    "name": "ipython",
    "version": 3
   },
   "file_extension": ".py",
   "mimetype": "text/x-python",
   "name": "python",
   "nbconvert_exporter": "python",
   "pygments_lexer": "ipython3",
   "version": "3.6.0"
  }
 },
 "nbformat": 4,
 "nbformat_minor": 1
}
