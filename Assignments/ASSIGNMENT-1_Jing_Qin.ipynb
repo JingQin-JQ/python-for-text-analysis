{
 "cells": [
  {
   "cell_type": "markdown",
   "metadata": {},
   "source": [
    "# Assignment 1: Calculation, Strings, Boolean Expressions and Conditions\n",
    "\n",
    "### Due: Friday the 3th of November 2017 at 23:59 \n",
    "\n",
    "Please name your notebook with the following naming convention: ASSIGNMENT_1_FIRSTNAME_LASTNAME.ipynb \n",
    "\n",
    "Submit your assignment using the submission form that you can find at [Github](https://github.com/cltl/python-for-text-analysis)."
   ]
  },
  {
   "cell_type": "markdown",
   "metadata": {},
   "source": [
    "## Exercise 1: Calculation\n"
   ]
  },
  {
   "cell_type": "markdown",
   "metadata": {},
   "source": [
    "#### 1a. Average \n",
    "Define three variables `var1`, `var2` and `var3`. Calculate the average of these variables and assign it to the variable `average`. Print the result using a full sentence (use casting or an f-string)."
   ]
  },
  {
   "cell_type": "code",
   "execution_count": 8,
   "metadata": {},
   "outputs": [
    {
     "name": "stdout",
     "output_type": "stream",
     "text": [
      "The average of these variables is: 5.0\n"
     ]
    }
   ],
   "source": [
    "# average code\n",
    "var1 = 2\n",
    "var2 = 5\n",
    "var3 = 8\n",
    "var_av = (var1+var2+var3)/3\n",
    "print (f\"The average of these variables is: {var_av}\")"
   ]
  },
  {
   "cell_type": "markdown",
   "metadata": {},
   "source": [
    "#### 1b. Book prices\n",
    "Suppose the cover price of a book is 24.95 EUR, but bookstores get a 40 percent discount. Shipping costs 3 EUR for the first copy and 75 cents for each additional copy. Use variables with clear names for your calculations and print the result using a full sentence."
   ]
  },
  {
   "cell_type": "code",
   "execution_count": 2,
   "metadata": {},
   "outputs": [
    {
     "name": "stdout",
     "output_type": "stream",
     "text": [
      "The total cost for the books and shipping is: 945.45 euro\n"
     ]
    }
   ],
   "source": [
    "# book price code\n",
    "book_price = 24.95\n",
    "copy = 60\n",
    "if copy > 1:\n",
    "    cost = book_price*copy*(1-0.4)+3+0.75*(copy-1)\n",
    "else:\n",
    "    cost = book_price*copy*(1-0.4)+3\n",
    "print (f\"The total cost for the books and shipping is: {cost:.2f} euro\")\n"
   ]
  },
  {
   "cell_type": "markdown",
   "metadata": {},
   "source": [
    "#### 1c. The modulus operator \n",
    "\n",
    "There is one operator (like the ones for multiplication and subtraction) that we did not discuss yet, namely the modulus operator %. Could you figure by yourself what it does when you place it between two numbers (e.g. 113 % 9)? (PS: It's OK to get help online...) You don't need this operator all that often, but when you do, it comes in really handy!"
   ]
  },
  {
   "cell_type": "code",
   "execution_count": 14,
   "metadata": {},
   "outputs": [
    {
     "data": {
      "text/plain": [
       "5"
      ]
     },
     "execution_count": 14,
     "metadata": {},
     "output_type": "execute_result"
    }
   ],
   "source": [
    "# try out the modulus operator!\n",
    "113%9"
   ]
  },
  {
   "cell_type": "markdown",
   "metadata": {},
   "source": [
    "Can you use the modulus operator you just learned about to solve the following task? Write a code block that classifies a given amount of money into smaller monetary units. Set the amount variable to 11.56. You code should output a report listing the monetary equivalent in dollars, quarters, dimes, nickels, and pennies. Your program should report the maximum number of dollars, then the number of quarters, dimes, nickels, and pennies, in this order, to result in the minimum number of coins. Here are the steps in developing the program:\n",
    "\n",
    "> `Convert the amount (11.56) into cents (1156). Divide the cents by 100 to find the number of dollars, and subtract the rest using the modulus operator! Divide the remaining cents by 25 to find the number of quarters, and, again,  subtract the rest using the modulus operator! Divide the remaining cents by 10 to find the number of dimes, etc. Divide the remaining cents by 5 to find the number of nickels, etc. The remaining cents are the pennies. Now display the result for your cashier!`"
   ]
  },
  {
   "cell_type": "code",
   "execution_count": 38,
   "metadata": {},
   "outputs": [
    {
     "name": "stdout",
     "output_type": "stream",
     "text": [
      "11.56 euro means 11 dollars, 2 quarters,0 dimes, 1 nickels, and 1 cents.\n"
     ]
    }
   ],
   "source": [
    "# cashier code\n",
    "money = 11.56\n",
    "dollars = int((money*100)/100)\n",
    "substract = int(money*100%100)\n",
    "\n",
    "quarters = int(substract/25)\n",
    "substract = int(substract%25)               \n",
    "\n",
    "dimes = int(substract/10)\n",
    "substract = int(substract%10) \n",
    "\n",
    "nickels = int(substract/5)\n",
    "cents = int(substract%5) \n",
    "\n",
    "print (f\"{money} euro means {dollars} dollars, {quarters} quarters,{dimes} dimes, {nickels} nickels, and {cents} cents.\")"
   ]
  },
  {
   "cell_type": "markdown",
   "metadata": {},
   "source": [
    "## Exercise 2: Printing and user input\n"
   ]
  },
  {
   "cell_type": "markdown",
   "metadata": {},
   "source": [
    "#### 2a. Difference between \",\" and \"+\"\n",
    "\n",
    "What is the difference between using **+** and **,** in a print statement? Illustrate by:\n",
    "\n",
    "* calling the `print()` fuction with multiple strings\n",
    "* printing combinations of strings and integers\n",
    "* concatenating multiple strings and assign to one single variable\n",
    "* concatenating strings and integers and assign to one single variable"
   ]
  },
  {
   "cell_type": "code",
   "execution_count": 43,
   "metadata": {
    "collapsed": true
   },
   "outputs": [],
   "source": [
    "str1 = \"hello\"\n",
    "str2 = \"world\"\n",
    "num = 12"
   ]
  },
  {
   "cell_type": "code",
   "execution_count": 52,
   "metadata": {},
   "outputs": [
    {
     "name": "stdout",
     "output_type": "stream",
     "text": [
      "helloworld\n",
      "hello world\n",
      "hello12\n",
      "hello 12\n"
     ]
    }
   ],
   "source": [
    "print (str1+str2)\n",
    "print (str1,str2)\n",
    "print (str1+str(num))\n",
    "print (str1,num)"
   ]
  },
  {
   "cell_type": "code",
   "execution_count": 53,
   "metadata": {},
   "outputs": [
    {
     "name": "stdout",
     "output_type": "stream",
     "text": [
      "helloworld\n",
      "hello12\n"
     ]
    }
   ],
   "source": [
    "str3 = str1+str2\n",
    "str4 = str1+str(num)\n",
    "print (str3)\n",
    "print (str4)"
   ]
  },
  {
   "cell_type": "code",
   "execution_count": 58,
   "metadata": {},
   "outputs": [
    {
     "name": "stdout",
     "output_type": "stream",
     "text": [
      "('hello', 'world')\n",
      "('hello', 12)\n"
     ]
    }
   ],
   "source": [
    "str5 = str1,str2\n",
    "str6 = str1,num\n",
    "print (str5)\n",
    "print (str6)"
   ]
  },
  {
   "cell_type": "markdown",
   "metadata": {
    "collapsed": true
   },
   "source": [
    "####  2b. Small Talk\n",
    "Write a program to have a little conversation with someone. First ask them for their name, introduce yourself,  ask about their age and then say something about your own age compared to theirs. Try to generate the following conversation:\n",
    "\n",
    "> `Hello. What is your name?`\n",
    "\n",
    "> -- Emily.\n",
    "\n",
    "> `Hello, Emily. My name is Robert. How old are you?`\n",
    "\n",
    "> -- 23\n",
    "\n",
    "> `I'm 25 years old, so I'm 2 older than you.`\n",
    "\n",
    "Also account for situations where the other person is older or the same age. You will need to use `if`-statements!"
   ]
  },
  {
   "cell_type": "code",
   "execution_count": 8,
   "metadata": {},
   "outputs": [
    {
     "name": "stdout",
     "output_type": "stream",
     "text": [
      "Hello. What is your name? jing\n",
      "Hello,jing. My name is Robert. How old are you? 27\n",
      "You are same age as I am !\n"
     ]
    }
   ],
   "source": [
    "own_age = 27\n",
    "name = input(\"Hello. What is your name? \")\n",
    "# finish this code\n",
    "age = input(f\"Hello,{name}. My name is Robert. How old are you? \")\n",
    "if int(age)< own_age:\n",
    "    print (f\"I'm {own_age} years old, so I'm {own_age -int(age)} years older than you.\")\n",
    "elif int(age)> own_age:\n",
    "    print (f\"I'm {own_age} years old, so I'm {int(age)-own_age} years younger than you.\")\n",
    "else:\n",
    "    print (\"You are same age as I am !\")\n"
   ]
  },
  {
   "cell_type": "markdown",
   "metadata": {},
   "source": [
    "## Exercise 3: String Art"
   ]
  },
  {
   "cell_type": "markdown",
   "metadata": {},
   "source": [
    "#### 3a. Drawing figures\n",
    "We start with some repetition of the theory about strings:"
   ]
  },
  {
   "cell_type": "markdown",
   "metadata": {},
   "source": [
    "| Topic | Explanation |\n",
    "|-----------|--------|\n",
    "| `quotes` |\tA string is delimited by single quotes ('...') or double quotes (\"...\") |\n",
    "| `special characters` |\tCertain special characters can be used, such as \"\\n\" (for newline) and \"\\t\" (for a tab) \t|  \t \n",
    "| `printing special characters` |\tTo print the special characters, they must be preceded by a backslash (\\\\)\t |\n",
    "| `continue on next line` |\tA backslash (\\\\) at the end of a line is used to continue a string on the next line\t  \t |\n",
    "| `multi-line strings` |\tA multi-line print statement should be enclosed by three double or three single quotes (\"\"\"...\"\"\" of '''...''')\t | "
   ]
  },
  {
   "cell_type": "markdown",
   "metadata": {},
   "source": [
    "Please run the code snippet below and observe what happens:"
   ]
  },
  {
   "cell_type": "code",
   "execution_count": 89,
   "metadata": {},
   "outputs": [
    {
     "name": "stdout",
     "output_type": "stream",
     "text": [
      "hello\n",
      "\n",
      "To print a newline use \\n\n",
      "She said: 'hello'\n",
      "\tThis is indented\n",
      "This is a very, very, very, very, very, very long print statement\n",
      "\n",
      "This is a multi-line print statement\n",
      "First line\n",
      "Second line\n",
      "\n"
     ]
    }
   ],
   "source": [
    "print('hello\\n')\n",
    "print('To print a newline use \\\\n')\n",
    "print('She said: \\'hello\\'')\n",
    "print('\\tThis is indented')\n",
    "print('This is a very, very, very, very, very, very \\\n",
    "long print statement')\n",
    "print('''\n",
    "This is a multi-line print statement\n",
    "First line\n",
    "Second line\n",
    "''')"
   ]
  },
  {
   "cell_type": "markdown",
   "metadata": {},
   "source": [
    "Now write a Python script that prints the following figure using only one line of script!\n",
    "\n",
    "        | | |\n",
    "         @ @\n",
    "          *\n",
    "        |\"\"\"|\n"
   ]
  },
  {
   "cell_type": "code",
   "execution_count": 92,
   "metadata": {},
   "outputs": [
    {
     "name": "stdout",
     "output_type": "stream",
     "text": [
      "| | |\n",
      " @ @\n",
      "  *\n",
      "|\"\"\"|\n"
     ]
    }
   ],
   "source": [
    "# your code here\n",
    "print(\"| | |\\n @ @\\n  *\\n|\\\"\\\"\\\"|\")"
   ]
  },
  {
   "cell_type": "markdown",
   "metadata": {},
   "source": [
    "#### 3b. Colors\n",
    "We start again with some repetition of the theory:"
   ]
  },
  {
   "cell_type": "markdown",
   "metadata": {},
   "source": [
    "| Topic | Explanation |\n",
    "|-----------|--------|\n",
    "| a = b + c\t| if b and c are strings: concatenate b and c to form a new string a| \n",
    "| a = b * c\t| if b is an integer and c is a string: b is repeated c times to form a new string a |\n",
    "| a[0] |\t the first character of string a  |\n",
    "| len(a) |\t the number of characters in string a |\n",
    "| min(a) |\t the smallest element in string a (alphabetically first) |\n",
    "| max(a) |\t the largest element in string a (alphabetically last) |"
   ]
  },
  {
   "cell_type": "markdown",
   "metadata": {},
   "source": [
    "Please run the code snippet below and observe what happens:"
   ]
  },
  {
   "cell_type": "code",
   "execution_count": 93,
   "metadata": {},
   "outputs": [
    {
     "name": "stdout",
     "output_type": "stream",
     "text": [
      "the cat is on the mat\n",
      "thethethethethe\n",
      "The first character of cat is c\n",
      "The word c has, 3 characters\n"
     ]
    }
   ],
   "source": [
    "b = 'the'\n",
    "c = 'cat'\n",
    "d = ' is on the mat'\n",
    "a = b + ' ' + c + d\n",
    "print(a)\n",
    "a = b * 5\n",
    "print(a)\n",
    "print('The first character of', c, 'is' , c[0])\n",
    "print('The word c has,', len(c) ,'characters')"
   ]
  },
  {
   "cell_type": "markdown",
   "metadata": {},
   "source": [
    "Now write a program that asks users for their favorite color. Create the following output (assuming \"red\" is the chosen color). Use \"+\" and \"\\*\".\n",
    "It should work with any color name though.\n",
    "\n",
    "```xml\n",
    "red red red red red red red red red red  \n",
    "red                                 red\n",
    "red                                 red\n",
    "red red red red red red red red red red\n",
    "```"
   ]
  },
  {
   "cell_type": "code",
   "execution_count": 7,
   "metadata": {},
   "outputs": [
    {
     "name": "stdout",
     "output_type": "stream",
     "text": [
      "what is your favorite color? yellow\n",
      "yellow yellow yellow yellow yellow yellow yellow yellow yellow yellow \n",
      "yellow                                                         yellow \n",
      "yellow                                                         yellow \n",
      "yellow yellow yellow yellow yellow yellow yellow yellow yellow yellow \n"
     ]
    }
   ],
   "source": [
    "color = input('what is your favorite color? ')+\" \"\n",
    "space = \" \"*len(color)\n",
    "print(color*10)\n",
    "print(color+space*8+color)\n",
    "print(color+space*8+color)\n",
    "print(color*10)"
   ]
  },
  {
   "cell_type": "markdown",
   "metadata": {},
   "source": [
    "## Exercise 4: String methods \n",
    "\n",
    "Remember that you can see all methods of the class `str` by using `dir()`. You can ignore all methods that start with one or two underscores. "
   ]
  },
  {
   "cell_type": "code",
   "execution_count": 106,
   "metadata": {},
   "outputs": [
    {
     "data": {
      "text/plain": [
       "['__add__',\n",
       " '__class__',\n",
       " '__contains__',\n",
       " '__delattr__',\n",
       " '__dir__',\n",
       " '__doc__',\n",
       " '__eq__',\n",
       " '__format__',\n",
       " '__ge__',\n",
       " '__getattribute__',\n",
       " '__getitem__',\n",
       " '__getnewargs__',\n",
       " '__gt__',\n",
       " '__hash__',\n",
       " '__init__',\n",
       " '__init_subclass__',\n",
       " '__iter__',\n",
       " '__le__',\n",
       " '__len__',\n",
       " '__lt__',\n",
       " '__mod__',\n",
       " '__mul__',\n",
       " '__ne__',\n",
       " '__new__',\n",
       " '__reduce__',\n",
       " '__reduce_ex__',\n",
       " '__repr__',\n",
       " '__rmod__',\n",
       " '__rmul__',\n",
       " '__setattr__',\n",
       " '__sizeof__',\n",
       " '__str__',\n",
       " '__subclasshook__',\n",
       " 'capitalize',\n",
       " 'casefold',\n",
       " 'center',\n",
       " 'count',\n",
       " 'encode',\n",
       " 'endswith',\n",
       " 'expandtabs',\n",
       " 'find',\n",
       " 'format',\n",
       " 'format_map',\n",
       " 'index',\n",
       " 'isalnum',\n",
       " 'isalpha',\n",
       " 'isdecimal',\n",
       " 'isdigit',\n",
       " 'isidentifier',\n",
       " 'islower',\n",
       " 'isnumeric',\n",
       " 'isprintable',\n",
       " 'isspace',\n",
       " 'istitle',\n",
       " 'isupper',\n",
       " 'join',\n",
       " 'ljust',\n",
       " 'lower',\n",
       " 'lstrip',\n",
       " 'maketrans',\n",
       " 'partition',\n",
       " 'replace',\n",
       " 'rfind',\n",
       " 'rindex',\n",
       " 'rjust',\n",
       " 'rpartition',\n",
       " 'rsplit',\n",
       " 'rstrip',\n",
       " 'split',\n",
       " 'splitlines',\n",
       " 'startswith',\n",
       " 'strip',\n",
       " 'swapcase',\n",
       " 'title',\n",
       " 'translate',\n",
       " 'upper',\n",
       " 'zfill']"
      ]
     },
     "execution_count": 106,
     "metadata": {},
     "output_type": "execute_result"
    }
   ],
   "source": [
    "dir(str)"
   ]
  },
  {
   "cell_type": "markdown",
   "metadata": {},
   "source": [
    "To see help for a method of this class,  you can use `help(str.method)`. For example:"
   ]
  },
  {
   "cell_type": "code",
   "execution_count": 107,
   "metadata": {},
   "outputs": [
    {
     "name": "stdout",
     "output_type": "stream",
     "text": [
      "Help on method_descriptor:\n",
      "\n",
      "upper(...)\n",
      "    S.upper() -> str\n",
      "    \n",
      "    Return a copy of S converted to uppercase.\n",
      "\n"
     ]
    }
   ],
   "source": [
    "help(str.upper)"
   ]
  },
  {
   "cell_type": "markdown",
   "metadata": {},
   "source": [
    "#### 4a. Correcting spelling error \n",
    "In the following code cell you are given a string that contains the same spelling error (vox instead of fox). Replace all occcurances of this spelling error with the correct spelling."
   ]
  },
  {
   "cell_type": "code",
   "execution_count": 110,
   "metadata": {},
   "outputs": [
    {
     "name": "stdout",
     "output_type": "stream",
     "text": [
      "Help on method_descriptor:\n",
      "\n",
      "replace(...)\n",
      "    S.replace(old, new[, count]) -> str\n",
      "    \n",
      "    Return a copy of S with all occurrences of substring\n",
      "    old replaced by new.  If the optional argument count is\n",
      "    given, only the first count occurrences are replaced.\n",
      "\n"
     ]
    }
   ],
   "source": [
    "help(str.replace)"
   ]
  },
  {
   "cell_type": "code",
   "execution_count": 10,
   "metadata": {},
   "outputs": [
    {
     "name": "stdout",
     "output_type": "stream",
     "text": [
      "The quick, brown vox jumps over a lazy dog. DJs flock by when MTV ax quiz prog. \n",
      "Junk MTV quiz graced by vox whelps. Bawds jog, flick quartz, vex nymphs. \n",
      "Waltz, bad nymph, for quick jigs vex! Fox nymphs grab quick-jived waltz. \n",
      "Brick quiz whangs jumpy veldt vox. \n"
     ]
    }
   ],
   "source": [
    "text = \"\"\"The quick, brown vox jumps over a lazy dog. DJs flock by when MTV ax quiz prog. \n",
    "Junk MTV quiz graced by vox whelps. Bawds jog, flick quartz, vex nymphs. \n",
    "Waltz, bad nymph, for quick jigs vex! Vox nymphs grab quick-jived waltz. \n",
    "Brick quiz whangs jumpy veldt vox. \"\"\"\n",
    "\n",
    "# your code here\n",
    "new_text = text.replace('vox','fox')\n",
    "new_text = text.replace('Vox','Fox')\n",
    "\n",
    "print (new_text)"
   ]
  },
  {
   "cell_type": "markdown",
   "metadata": {
    "collapsed": true
   },
   "source": [
    "#### 4b. Counting vowels\n",
    "Count how many of each vowel (a,e,i,o,u) there are in the text string in the next cell, and print the count for each vowel with a single formatted string. Remember that vowels can be both lower and uppercase."
   ]
  },
  {
   "cell_type": "code",
   "execution_count": 116,
   "metadata": {},
   "outputs": [
    {
     "name": "stdout",
     "output_type": "stream",
     "text": [
      "Help on method_descriptor:\n",
      "\n",
      "count(...)\n",
      "    S.count(sub[, start[, end]]) -> int\n",
      "    \n",
      "    Return the number of non-overlapping occurrences of substring sub in\n",
      "    string S[start:end].  Optional arguments start and end are\n",
      "    interpreted as in slice notation.\n",
      "\n"
     ]
    }
   ],
   "source": [
    "help(str.count)"
   ]
  },
  {
   "cell_type": "code",
   "execution_count": 134,
   "metadata": {},
   "outputs": [
    {
     "name": "stdout",
     "output_type": "stream",
     "text": [
      "There are 98 \"a\" or \"A\" in the text.\n",
      "There are 132 \"e\" or \"E\" in the text.\n",
      "There are 74 \"i\" or \"I\" in the text.\n",
      "There are 93 \"o\" or \"O\" in the text.\n",
      "There are 53 \"u\" or \"U\" in the text.\n"
     ]
    }
   ],
   "source": [
    "text = \"\"\"But I must explain to you how all this mistaken idea of denouncing pleasure and praising pain was born \n",
    "and I will give you a complete account of the system, and expound the actual teachings of the great explorer of the \n",
    "truth, the master-builder of human happiness. No one rejects, dislikes, or avoids pleasure itself, because it is \n",
    "pleasure, but because those who do not know how to pursue pleasure rationally encounter consequences that are \n",
    "extremely painful. Nor again is there anyone who loves or pursues or desires to obtain pain of itself, because it is \n",
    "pain, but because occasionally circumstances occur in which toil and pain can procure him some great pleasure. \n",
    "To take a trivial example, which of us ever undertakes laborious physical exercise, except to obtain some advantage \n",
    "from it? But who has any right to find fault with a man who chooses to enjoy a pleasure that has no annoying \n",
    "consequences, or one who avoids a pain that produces no resultant pleasure? On the other hand, we denounce with \n",
    "righteous indignation and dislike men who are so beguiled and demoralized by the charms of pleasure of the moment, \n",
    "so blinded by desire, that they cannot foresee the pain and trouble that are bound to ensue; and equal blame belongs \n",
    "to those who fail in their duty through weakness of will, which is the same as saying through shrinking from toil \n",
    "and pain.EEE\"\"\"\n",
    "(f\"I'm {own_age} years old, so I'm {own_age -int(age)} years older than you.\")\n",
    "print (f\"There are {text.count('a')} \\\"a\\\" or \\\"A\\\" in the text.\")\n",
    "print (f\"There are {text.count('e')} \\\"e\\\" or \\\"E\\\" in the text.\")\n",
    "print (f\"There are {text.count('i')} \\\"i\\\" or \\\"I\\\" in the text.\")\n",
    "print (f\"There are {text.count('o')} \\\"o\\\" or \\\"O\\\" in the text.\")\n",
    "print (f\"There are {text.count('u')} \\\"u\\\" or \\\"U\\\" in the text.\")\n",
    "\n",
    "# your code here"
   ]
  },
  {
   "cell_type": "markdown",
   "metadata": {
    "collapsed": true
   },
   "source": [
    "#### 4c. Passwords\n",
    "\n",
    "Write a program that asks a user for a password and checks some simple requirements of a password. If necessary, print out the following warnings:\n",
    "\n",
    "1. Your password should contain at least 6 characters.\n",
    "2. Your password should contain no more than 12 characters.\n",
    "3. Your password only contains alphabetic characters! Please also use digits and/or special characters.\n",
    "4. Your password only contains digits! Please also use alphabetic and/or special characters.\n",
    "5. Your password should contain at least one special character.\n",
    "6. Your password contains only lowercase letters! Please also use uppercase letters.\n",
    "7. Your password contains only uppercase letters! Please also use lowercase letters."
   ]
  },
  {
   "cell_type": "code",
   "execution_count": 11,
   "metadata": {},
   "outputs": [
    {
     "name": "stdout",
     "output_type": "stream",
     "text": [
      "Please input your password: 23\n",
      "Your password should contain at least 6 characters.\n",
      "Your password only contains digits! Please also use alphabetic and/or special characters.\n",
      "Your password should contain at least one special character.\n"
     ]
    }
   ],
   "source": [
    "# your code here\n",
    "password = input(\"Please input your password: \")\n",
    "if len(password)<6:\n",
    "    print(\"Your password should contain at least 6 characters.\")\n",
    "if len(password)>12:\n",
    "    print(\"Your password should contain no more than 12 characters.\")\n",
    "if password.isalpha():\n",
    "    print(\"Your password only contains alphabetic characters! Please also use digits and/or special characters.\")\n",
    "if password.isdigit():\n",
    "    print(\"Your password only contains digits! Please also use alphabetic and/or special characters.\")\n",
    "if password.isalnum():\n",
    "    print(\"Your password should contain at least one special character.\")\n",
    "if password.islower():\n",
    "    print(\"Your password contains only lowercase letters! Please also use uppercase letters.\")\n",
    "if password.isupper():\n",
    "    print(\"Your password contains only uppercase letters! Please also use lowercase letters.\")"
   ]
  },
  {
   "cell_type": "markdown",
   "metadata": {},
   "source": [
    "## Exercise 5: Boolean Logic and Conditions"
   ]
  },
  {
   "cell_type": "markdown",
   "metadata": {},
   "source": [
    "#### 5a. Reasoning error\n",
    "\n",
    "Can you spot the reasoning error in the following code?\n",
    "\n",
    "*your answer here*"
   ]
  },
  {
   "cell_type": "code",
   "execution_count": 161,
   "metadata": {},
   "outputs": [
    {
     "name": "stdout",
     "output_type": "stream",
     "text": [
      "A\n"
     ]
    }
   ],
   "source": [
    "score = 98.0\n",
    "if score >= 90.0:\n",
    "    grade = 'A'\n",
    "elif score >= 80.0:\n",
    "    grade = 'B'\n",
    "elif score >= 70.0:\n",
    "    grade = 'C'\n",
    "elif score >= 60.0:\n",
    "    grade = 'D'\n",
    "else:\n",
    "    grade = 'F'\n",
    "print(grade)"
   ]
  },
  {
   "cell_type": "markdown",
   "metadata": {},
   "source": [
    "#### 5b. Restaurant\n",
    "You and your date are trying to get a table at a restaurant. The parameter \"you\" is the stylishness of your clothes, in the range 0-10, and \"date\" is the stylishness of your date's clothes. The result getting the table is either *no*, *maybe* or *yes*. If either of you is very stylish, 8 or more, then the result is *yes*. With the exception that if either of you has style of 2 or less, then the result is *no*. Otherwise the result is *maybe*. Write a program to find out your chances."
   ]
  },
  {
   "cell_type": "code",
   "execution_count": 169,
   "metadata": {},
   "outputs": [
    {
     "name": "stdout",
     "output_type": "stream",
     "text": [
      "Stylishness of your clothes, in the range 0-10:6\n",
      "Stylishness of your date's clothes, in the range 0-10:7\n",
      "maybe\n"
     ]
    }
   ],
   "source": [
    "# your code here\n",
    "you = int(input(\"Stylishness of your clothes, in the range 0-10: \"))\n",
    "date = int(input(\"Stylishness of your date's clothes, in the range 0-10: \"))    \n",
    "if you<=2 or date<=2:\n",
    "    print (\"no\")\n",
    "elif you>=8 or date>=8:\n",
    "    print (\"yes\")\n",
    "else:\n",
    "    print (\"maybe\")"
   ]
  },
  {
   "cell_type": "markdown",
   "metadata": {
    "collapsed": true
   },
   "source": [
    "#### 5c. Parcel delivery\n",
    "The required postage for an  international parcel delivery service is calculated based on item weight and country of destination:\n",
    "\n",
    "\n",
    "| Tariff zone | 0 - 2 kg | 2 - 5 kg | 5 - 10 kg | 10 - 20 kg | 20 - 30 kg |\n",
    "|-------------|----------|----------|-----------|------------|------------|\n",
    "|EUR 1 | € 13.00 | € 19.50 | € 25.00 | € 34.00 | € 45.00 | \n",
    "|EUR 2 | € 18.50 | € 25.00 | € 31.00 | € 40.00 | € 55.00 | \n",
    "|World | € 24.30 | € 34.30 | € 58.30 | € 105.30 | - | \n",
    "\n",
    "Create two variables `weight` and `zone`. Use (nested) `if`-statements to find the required postage based on these variables. Assign the result to a variable `postage` and print the result using a full sentence."
   ]
  },
  {
   "cell_type": "code",
   "execution_count": 177,
   "metadata": {},
   "outputs": [
    {
     "name": "stdout",
     "output_type": "stream",
     "text": [
      "Weight of your item(kg): 26\n",
      "The tariff zone(EUR 1 or EUR 2 or World): EUR 2\n",
      "The Psostage for this item is 55.00 euro.\n"
     ]
    }
   ],
   "source": [
    "# your code here\n",
    "weight= int(input(\"Weight of your item(kg): \"))\n",
    "country = input(\"The tariff zone(EUR 1 or EUR 2 or World): \")\n",
    "if country == \"EUR 1\":\n",
    "    if weight <= 2:\n",
    "        print (\"The Psostage for this item is 13.00 euro.\")\n",
    "    elif weight<= 5:\n",
    "        print (\"The Psostage for this item is 19.50 euro.\")\n",
    "    elif weight<= 10:\n",
    "        print (\"The Psostage for this item is 25.00 euro.\")\n",
    "    elif weight<= 20:\n",
    "        print (\"The Psostage for this item is 34.00 euro.\")\n",
    "    elif weight<= 30:\n",
    "        print (\"The Psostage for this item is 45.00 euro.\")\n",
    "    else:\n",
    "        print (\"This item is too heavey!\")\n",
    "if country == \"EUR 2\":\n",
    "    if weight <= 2:\n",
    "        print (\"The Psostage for this item is 18.50 euro.\")\n",
    "    elif weight<= 5:\n",
    "        print (\"The Psostage for this item is 25.00 euro.\")\n",
    "    elif weight<= 10:\n",
    "        print (\"The Psostage for this item is 31.00 euro.\")\n",
    "    elif weight<= 20:\n",
    "        print (\"The Psostage for this item is 40.00 euro.\")\n",
    "    elif weight<= 30:\n",
    "        print (\"The Psostage for this item is 55.00 euro.\")\n",
    "    else:\n",
    "        print (\"This item is too heavey!\")\n",
    "if country == \"World\":\n",
    "    if weight <= 2:\n",
    "        print (\"The Psostage for this item is 24.30 euro.\")\n",
    "    elif weight<= 5:\n",
    "        print (\"The Psostage for this item is 34.30 euro.\")\n",
    "    elif weight<= 10:\n",
    "        print (\"The Psostage for this item is 58.30 euro.\")\n",
    "    elif weight<= 20:\n",
    "        print (\"The Postage for this item is 105.30 euro.\")\n",
    "    else:\n",
    "        print (\"This item is too heavey!\")\n",
    "      "
   ]
  }
 ],
 "metadata": {
  "anaconda-cloud": {},
  "kernelspec": {
   "display_name": "Python 3",
   "language": "python",
   "name": "python3"
  },
  "language_info": {
   "codemirror_mode": {
    "name": "ipython",
    "version": 3
   },
   "file_extension": ".py",
   "mimetype": "text/x-python",
   "name": "python",
   "nbconvert_exporter": "python",
   "pygments_lexer": "ipython3",
   "version": "3.6.1"
  }
 },
 "nbformat": 4,
 "nbformat_minor": 1
}
