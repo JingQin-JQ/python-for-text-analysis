{
 "cells": [
  {
   "cell_type": "markdown",
   "metadata": {},
   "source": [
    "# Outline\n",
    "* -questions about materials or assignment?\n",
    "\n",
    "\n",
    "* -counting with dictionaries\n",
    "* -nested dictionaries\n",
    "\n",
    "\n",
    "* -what to use when analyzing text\n",
    "    * order: list\n",
    "    * unique: set\n",
    "    * counting: dict\n",
    "\n",
    "        \n",
    "* -break continue \n",
    "\n",
    "\n",
    "* -object types\n",
    "\n",
    "\n",
    "* -positional vs keyword arguments and their types\n",
    "\n",
    "\n",
    "* -(im)mutability revisited\n",
    "\n",
    "\n",
    "* -Raymond Hettinger (twitter and videos)"
   ]
  },
  {
   "cell_type": "markdown",
   "metadata": {},
   "source": [
    "## Dictionaries (counting + nesting)"
   ]
  },
  {
   "cell_type": "code",
   "execution_count": 10,
   "metadata": {
    "collapsed": true
   },
   "outputs": [],
   "source": [
    "another_dict = {'Frank': 8}"
   ]
  },
  {
   "cell_type": "code",
   "execution_count": 11,
   "metadata": {},
   "outputs": [
    {
     "name": "stdout",
     "output_type": "stream",
     "text": [
      "True\n"
     ]
    }
   ],
   "source": [
    "print('Frank' in another_dict)"
   ]
  },
  {
   "cell_type": "code",
   "execution_count": 12,
   "metadata": {},
   "outputs": [
    {
     "name": "stdout",
     "output_type": "stream",
     "text": [
      "False\n"
     ]
    }
   ],
   "source": [
    "print('Piet' in another_dict)"
   ]
  },
  {
   "cell_type": "code",
   "execution_count": 13,
   "metadata": {},
   "outputs": [
    {
     "name": "stdout",
     "output_type": "stream",
     "text": [
      "Obama {'Obama': 1}\n",
      "was {'Obama': 1, 'was': 1}\n",
      "the {'Obama': 1, 'was': 1, 'the': 1}\n",
      "president {'Obama': 1, 'was': 1, 'the': 1, 'president': 1}\n",
      "of {'Obama': 1, 'was': 1, 'the': 1, 'president': 1, 'of': 1}\n",
      "the {'Obama': 1, 'was': 1, 'the': 2, 'president': 1, 'of': 1}\n",
      "USA {'Obama': 1, 'was': 1, 'the': 2, 'president': 1, 'of': 1, 'USA': 1}\n",
      "\n",
      "{'Obama': 1, 'was': 1, 'the': 2, 'president': 1, 'of': 1, 'USA': 1}\n"
     ]
    }
   ],
   "source": [
    "a_sentence = ['Obama', 'was', 'the', 'president', 'of', 'the', 'USA']\n",
    "word2freq = dict()\n",
    "\n",
    "for word in a_sentence: \n",
    "    \n",
    "    if word in word2freq: # add 1 to the dictionary if the keys exists\n",
    "        word2freq[word] += 1 \n",
    "    else:\n",
    "        word2freq[word] = 1 # set default value to 1 if key does not exists \n",
    "\n",
    "    print(word, word2freq)\n",
    "\n",
    "print()\n",
    "print(word2freq)"
   ]
  },
  {
   "cell_type": "code",
   "execution_count": 14,
   "metadata": {},
   "outputs": [
    {
     "name": "stdout",
     "output_type": "stream",
     "text": [
      "Obama {'Obama': 1}\n",
      "was {'Obama': 1, 'was': 1}\n",
      "the {'Obama': 1, 'was': 1, 'the': 1}\n",
      "president {'Obama': 1, 'was': 1, 'the': 1, 'president': 1}\n",
      "of {'Obama': 1, 'was': 1, 'the': 1, 'president': 1, 'of': 1}\n",
      "the {'Obama': 1, 'was': 1, 'the': 2, 'president': 1, 'of': 1}\n",
      "USA {'Obama': 1, 'was': 1, 'the': 2, 'president': 1, 'of': 1, 'USA': 1}\n",
      "\n",
      "{'Obama': 1, 'was': 1, 'the': 2, 'president': 1, 'of': 1, 'USA': 1}\n"
     ]
    }
   ],
   "source": [
    "a_sentence = ['Obama', 'was', 'the', 'president', 'of', 'the', 'USA']\n",
    "word2freq = dict()\n",
    "\n",
    "for word in a_sentence: \n",
    "    \n",
    "    if word not in word2freq: \n",
    "        word2freq[word] = 0 # set default to zero if key does not exist\n",
    "    \n",
    "    word2freq[word] += 1 # add one\n",
    "\n",
    "    print(word, word2freq)\n",
    "\n",
    "print()\n",
    "print(word2freq)"
   ]
  },
  {
   "cell_type": "code",
   "execution_count": 15,
   "metadata": {},
   "outputs": [
    {
     "name": "stdout",
     "output_type": "stream",
     "text": [
      "{'politics': {}}\n",
      "politics {}\n"
     ]
    }
   ],
   "source": [
    "training_data = [('politics', \n",
    "                  ['Obama', 'was', 'the', 'president', 'of', 'the', 'USA']),\n",
    "                 ('sports', ['Tom', 'Brady', 'is', 'a', 'quarterback'])]\n",
    "                 \n",
    "a_nested_dict = dict()\n",
    "                 \n",
    "for dataset, tokens in training_data:\n",
    "    \n",
    "    if dataset not in a_nested_dict:\n",
    "        a_nested_dict[dataset] = dict()\n",
    "        \n",
    "    for token in tokens:\n",
    "        \n",
    "        if token not in a_nested_dict[dataset]:\n",
    "            a_nested_dict[dataset][token] = 0\n",
    "        \n",
    "        a_nested_dict[dataset][token] += 1\n",
    "        \n",
    "for dataset, freq in a_nested_dict.items():\n",
    "    print(dataset, freq)"
   ]
  },
  {
   "cell_type": "markdown",
   "metadata": {},
   "source": [
    "## When to use what on a use case"
   ]
  },
  {
   "cell_type": "code",
   "execution_count": 16,
   "metadata": {
    "collapsed": true
   },
   "outputs": [],
   "source": [
    "a_string = 'You have just begun reading the sentence you have just finished reading'"
   ]
  },
  {
   "cell_type": "markdown",
   "metadata": {},
   "source": [
    "### if you need the order -> list"
   ]
  },
  {
   "cell_type": "code",
   "execution_count": 17,
   "metadata": {},
   "outputs": [
    {
     "name": "stdout",
     "output_type": "stream",
     "text": [
      "['You', 'have', 'just', 'begun', 'reading', 'the', 'sentence', 'you', 'have', 'just', 'finished', 'reading']\n"
     ]
    }
   ],
   "source": [
    "the_words = a_string.split()\n",
    "print(the_words)"
   ]
  },
  {
   "cell_type": "markdown",
   "metadata": {},
   "source": [
    "### if you need the vocabulary -> set"
   ]
  },
  {
   "cell_type": "code",
   "execution_count": 4,
   "metadata": {},
   "outputs": [
    {
     "name": "stdout",
     "output_type": "stream",
     "text": [
      "{'begun', 'have', 'finished', 'sentence', 'you', 'You', 'just', 'the', 'reading'}\n"
     ]
    }
   ],
   "source": [
    "unique_words = set(the_words)\n",
    "print(unique_words)"
   ]
  },
  {
   "cell_type": "markdown",
   "metadata": {},
   "source": [
    "### if you need the frequency -> dictionary"
   ]
  },
  {
   "cell_type": "code",
   "execution_count": 5,
   "metadata": {},
   "outputs": [
    {
     "name": "stdout",
     "output_type": "stream",
     "text": [
      "{'You': 1, 'have': 2, 'just': 2, 'begun': 1, 'reading': 2, 'the': 1, 'sentence': 1, 'you': 1, 'finished': 1}\n"
     ]
    }
   ],
   "source": [
    "word2freq = dict()\n",
    "\n",
    "for word in the_words:\n",
    "    \n",
    "    if word in word2freq:\n",
    "        word2freq[word] += 1\n",
    "    else:\n",
    "        word2freq[word] = 1\n",
    "\n",
    "print(word2freq)"
   ]
  },
  {
   "cell_type": "markdown",
   "metadata": {},
   "source": [
    "## Object types\n",
    "So far you've seen these types:\n",
    "* [string](https://docs.python.org/3/library/stdtypes.html#str)\n",
    "* [integer](https://docs.python.org/3/library/functions.html#int)\n",
    "* [bool](https://docs.python.org/3/library/stdtypes.html#boolean-values)\n",
    "* [list](https://docs.python.org/3/tutorial/datastructures.html#more-on-lists)\n",
    "* [set](https://docs.python.org/3/tutorial/datastructures.html#sets)\n",
    "* [tuple](https://docs.python.org/3/tutorial/datastructures.html#tuples-and-sequences)\n",
    "* [dictionaries](https://docs.python.org/3/tutorial/datastructures.html#dictionaries)"
   ]
  },
  {
   "cell_type": "code",
   "execution_count": 18,
   "metadata": {},
   "outputs": [
    {
     "name": "stdout",
     "output_type": "stream",
     "text": [
      "<class 'str'>\n"
     ]
    }
   ],
   "source": [
    "a_string = 'python'\n",
    "print(type(a_string))"
   ]
  },
  {
   "cell_type": "markdown",
   "metadata": {},
   "source": [
    "| property                       | set               | list            | tuple       | dict keys | dict values | \n",
    "|------------------------------- |-------------------|-----------------|-------------|-----------|-------------|\n",
    "| **mutable** (can you add add/remove?) | yes        | yes             | no          | yes       | yes         |      \n",
    "| **can** contain duplicates     | no                | yes             | yes         | no        | yes            |\n",
    "| **ordered**                    | no                | yes             | yes         | yes, but do not rely on it          | depends on type of value         |\n",
    "| **finding** element(s)         | quick             | slow            | slow        | quick             | depends on type of value         |\n",
    "| **can** contain                | immutables | all     | all | immutable  |  all           |\n",
    "\n"
   ]
  },
  {
   "cell_type": "markdown",
   "metadata": {},
   "source": [
    "## positional arguments and optional/keyword arguments"
   ]
  },
  {
   "cell_type": "code",
   "execution_count": 25,
   "metadata": {},
   "outputs": [
    {
     "name": "stdout",
     "output_type": "stream",
     "text": [
      "Help on method_descriptor:\n",
      "\n",
      "split(...)\n",
      "    S.split(sep=None, maxsplit=-1) -> list of strings\n",
      "    \n",
      "    Return a list of the words in S, using sep as the\n",
      "    delimiter string.  If maxsplit is given, at most maxsplit\n",
      "    splits are done. If sep is not specified or is None, any\n",
      "    whitespace string is a separator and empty strings are\n",
      "    removed from the result.\n",
      "\n"
     ]
    }
   ],
   "source": [
    "help(str.split)"
   ]
  },
  {
   "cell_type": "code",
   "execution_count": 23,
   "metadata": {},
   "outputs": [
    {
     "name": "stdout",
     "output_type": "stream",
     "text": [
      "['She', 'was', 'lost', 'in', 'her', 'longing', 'to', 'understand']\n"
     ]
    }
   ],
   "source": [
    "a_sentence = \"She was lost in her longing to understand\"\n",
    "separator = ' ' # keyword argument that needs to be a string\n",
    "the_max_split = -1 # keyword argument that needs to be an integer\n",
    "tokens = a_sentence.split(maxsplit=the_max_split,\n",
    "                          sep=separator)\n",
    "print(tokens)"
   ]
  },
  {
   "cell_type": "code",
   "execution_count": 29,
   "metadata": {},
   "outputs": [
    {
     "name": "stdout",
     "output_type": "stream",
     "text": [
      "Help on method_descriptor:\n",
      "\n",
      "index(...)\n",
      "    L.index(value, [start, [stop]]) -> integer -- return first index of value.\n",
      "    Raises ValueError if the value is not present.\n",
      "\n"
     ]
    }
   ],
   "source": [
    "help(list.index)"
   ]
  },
  {
   "cell_type": "code",
   "execution_count": 20,
   "metadata": {},
   "outputs": [
    {
     "name": "stdout",
     "output_type": "stream",
     "text": [
      "10\n"
     ]
    }
   ],
   "source": [
    "tokens = ['She', 'was', 'lost', 'in', 'her', 'longing', 'to', 'understand', 'what', 'she', 'lost']\n",
    "the_value = 'lost' # positional argument that can be any python object\n",
    "the_start = 4 # optional argument that needs to be an integer\n",
    "index_lost = tokens.index(the_value, the_start) \n",
    "print(index_lost)"
   ]
  },
  {
   "cell_type": "markdown",
   "metadata": {},
   "source": [
    "## [(im)mutability revisited](https://goo.gl/GRA1mP)\n",
    "\n",
    "* Can I add/remove/replace items in the container?"
   ]
  },
  {
   "cell_type": "markdown",
   "metadata": {},
   "source": [
    "If you can add/change/edit items of a container (mutable) -> it will return None"
   ]
  },
  {
   "cell_type": "code",
   "execution_count": 21,
   "metadata": {},
   "outputs": [
    {
     "name": "stdout",
     "output_type": "stream",
     "text": [
      "[1]\n",
      "None\n"
     ]
    }
   ],
   "source": [
    "a_list = []\n",
    "a_list.append(1)\n",
    "print(a_list)\n",
    "print(result)"
   ]
  },
  {
   "cell_type": "markdown",
   "metadata": {},
   "source": [
    "If you can not add/change/edit items (immutable) -> it will return a modified copy"
   ]
  },
  {
   "cell_type": "code",
   "execution_count": 22,
   "metadata": {},
   "outputs": [
    {
     "name": "stdout",
     "output_type": "stream",
     "text": [
      "hello\n",
      "hetto\n"
     ]
    }
   ],
   "source": [
    "a_string = 'hello'\n",
    "result = a_string.replace('l', 't')\n",
    "print(a_string)\n",
    "print(result)"
   ]
  },
  {
   "cell_type": "markdown",
   "metadata": {},
   "source": [
    "## Raymond Hettinger\n",
    "* [twitter](https://twitter.com/raymondh)\n",
    "* [very nice video](https://www.youtube.com/watch?v=OSGv2VnC0go)\n",
    "* [another very nice video](https://www.youtube.com/watch?v=wf-BqAjZb8M)"
   ]
  }
 ],
 "metadata": {
  "kernelspec": {
   "display_name": "Python 3",
   "language": "python",
   "name": "python3"
  },
  "language_info": {
   "codemirror_mode": {
    "name": "ipython",
    "version": 3
   },
   "file_extension": ".py",
   "mimetype": "text/x-python",
   "name": "python",
   "nbconvert_exporter": "python",
   "pygments_lexer": "ipython3",
   "version": "3.6.1"
  }
 },
 "nbformat": 4,
 "nbformat_minor": 2
}
