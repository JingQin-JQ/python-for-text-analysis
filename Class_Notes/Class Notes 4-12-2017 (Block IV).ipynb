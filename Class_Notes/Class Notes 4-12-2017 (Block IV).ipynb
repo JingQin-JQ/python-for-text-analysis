{
 "cells": [
  {
   "cell_type": "markdown",
   "metadata": {},
   "source": [
    "# Outline\n",
    "* [comments on block IV](https://docs.google.com/document/d/1iNH0YmRCF8HT-kNWwtK8dUUo1Kh0_hC5eHo_yXTURRI/edit?usp=sharing)\n",
    "* check whether the function does what you want it to do\n",
    "* working on assignment"
   ]
  },
  {
   "cell_type": "code",
   "execution_count": null,
   "metadata": {
    "collapsed": true
   },
   "outputs": [],
   "source": [
    "import nltk"
   ]
  },
  {
   "cell_type": "code",
   "execution_count": null,
   "metadata": {
    "collapsed": true
   },
   "outputs": [],
   "source": [
    "def analyze_text(text, token, pos):\n",
    "    \"\"\"\n",
    "    check if a word in a pos tag occur in a sentence\n",
    "    \n",
    "    :param str text: a text\n",
    "    :param str token: a lemma\n",
    "    :param str pos: penn treebank pos tag \n",
    "    (https://www.ling.upenn.edu/courses/Fall_2003/ling001/penn_treebank_pos.html)\n",
    "    \n",
    "    :rtype: bool\n",
    "    :return: True if token, pos in the text, else False\n",
    "    \"\"\"\n",
    "    # Tokenization\n",
    "    tokens = nltk.word_tokenize(text)\n",
    "\n",
    "    # POS tagging\n",
    "    tagged_tokens = nltk.pos_tag(tokens)\n",
    "\n",
    "    # check\n",
    "    in_sentence = (token, pos) in tagged_tokens\n",
    "    \n",
    "    return in_sentence"
   ]
  },
  {
   "cell_type": "code",
   "execution_count": null,
   "metadata": {},
   "outputs": [],
   "source": [
    "text = \"This example sentence is used for illustrating some basic NLP tasks. Language is awesome!\"\n",
    "analyze_text(text, 'example', 'NN')"
   ]
  },
  {
   "cell_type": "markdown",
   "metadata": {},
   "source": [
    "## keyword argument for debugging"
   ]
  },
  {
   "cell_type": "code",
   "execution_count": null,
   "metadata": {
    "collapsed": true
   },
   "outputs": [],
   "source": [
    "def analyze_text(text, token, pos, debug=False):\n",
    "    \"\"\"\n",
    "    check if a word in a pos tag occur in a sentence\n",
    "    \n",
    "    :param str text: a text\n",
    "    :param str lemma: a lemma\n",
    "    :param str pos: penn treebank pos tag \n",
    "    (https://www.ling.upenn.edu/courses/Fall_2003/ling001/penn_treebank_pos.html)\n",
    "    \n",
    "    :rtype: bool\n",
    "    :return: True if token, pos in the text, else False\n",
    "    \"\"\"\n",
    "    # Tokenization\n",
    "    tokens = nltk.word_tokenize(text)\n",
    "    \n",
    "    if debug:\n",
    "        print()\n",
    "        print('tokens', tokens)\n",
    "\n",
    "     # POS tagging\n",
    "    tagged_tokens = nltk.pos_tag(tokens)\n",
    "    \n",
    "    if debug:\n",
    "        print()\n",
    "        print('tagged tokens', tagged_tokens)\n",
    "\n",
    "    # check\n",
    "    in_sentence = (token, pos) in tagged_tokens\n",
    "    \n",
    "    return in_sentence"
   ]
  },
  {
   "cell_type": "code",
   "execution_count": null,
   "metadata": {},
   "outputs": [],
   "source": [
    "text = \"This example sentence is used for illustrating some basic NLP tasks. Language is awesome!\"\n",
    "analyze_text(text, 'example', 'NN', debug=False)"
   ]
  },
  {
   "cell_type": "markdown",
   "metadata": {},
   "source": [
    "## using the assert statement"
   ]
  },
  {
   "cell_type": "code",
   "execution_count": null,
   "metadata": {
    "collapsed": true
   },
   "outputs": [],
   "source": [
    "def analyze_text(text, token, pos, debug=False):\n",
    "    \"\"\"\n",
    "    check if a word in a pos tag occur in a sentence\n",
    "    \n",
    "    :param str text: a text\n",
    "    :param str lemma: a lemma (only lowercase is accepted)\n",
    "    :param str pos: penn treebank pos tag (only tags that start with N are accepted)\n",
    "    (https://www.ling.upenn.edu/courses/Fall_2003/ling001/penn_treebank_pos.html)\n",
    "    \n",
    "    :rtype: bool\n",
    "    :return: True if token, pos in the text, else False\n",
    "    \"\"\"\n",
    "    # assertions\n",
    "    assert pos.startswith('N'), f'{pos} does not start with N'\n",
    "    assert not token.istitle(), f'{token} starts with a capital letter, which is not accepted'\n",
    "    \n",
    "    # Tokenization\n",
    "    tokens = nltk.word_tokenize(text)\n",
    "    \n",
    "    if debug:\n",
    "        print()\n",
    "        print('tokens', tokens)\n",
    "\n",
    "     # POS tagging\n",
    "    tagged_tokens = nltk.pos_tag(tokens)\n",
    "    \n",
    "    if debug:\n",
    "        print()\n",
    "        print('tagged tokens', tagged_tokens)\n",
    "\n",
    "    # check\n",
    "    in_sentence = (token, pos) in tagged_tokens\n",
    "    \n",
    "    return in_sentence"
   ]
  },
  {
   "cell_type": "code",
   "execution_count": null,
   "metadata": {},
   "outputs": [],
   "source": [
    "text = \"This example sentence is used for illustrating some basic NLP tasks. Language is awesome!\"\n",
    "analyze_text(text, 'example', 'NN', debug=True)"
   ]
  },
  {
   "cell_type": "code",
   "execution_count": null,
   "metadata": {},
   "outputs": [],
   "source": [
    "text = \"This example sentence is used for illustrating some basic NLP tasks. Language is awesome!\"\n",
    "analyze_text(text, 'example', 'VBZ', debug=True)"
   ]
  },
  {
   "cell_type": "code",
   "execution_count": null,
   "metadata": {},
   "outputs": [],
   "source": [
    "text = \"This example sentence is used for illustrating some basic NLP tasks. Language is awesome!\"\n",
    "analyze_text(text, 'Example', 'NN', debug=True)"
   ]
  },
  {
   "cell_type": "code",
   "execution_count": null,
   "metadata": {
    "collapsed": true
   },
   "outputs": [],
   "source": []
  }
 ],
 "metadata": {
  "kernelspec": {
   "display_name": "Python 3",
   "language": "python",
   "name": "python3"
  },
  "language_info": {
   "codemirror_mode": {
    "name": "ipython",
    "version": 3
   },
   "file_extension": ".py",
   "mimetype": "text/x-python",
   "name": "python",
   "nbconvert_exporter": "python",
   "pygments_lexer": "ipython3",
   "version": "3.6.0"
  }
 },
 "nbformat": 4,
 "nbformat_minor": 2
}
