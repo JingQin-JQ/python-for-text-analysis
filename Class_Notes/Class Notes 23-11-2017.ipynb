{
 "cells": [
  {
   "cell_type": "markdown",
   "metadata": {},
   "source": [
    "# Class notes 23-11-2017"
   ]
  },
  {
   "cell_type": "markdown",
   "metadata": {},
   "source": [
    "## A) NLTK and Lemmatization\n",
    "\n",
    "** E1: Let's play with lemmatization of various conjugated words.**"
   ]
  },
  {
   "cell_type": "code",
   "execution_count": null,
   "metadata": {
    "collapsed": true
   },
   "outputs": [],
   "source": [
    "some_conjugated_words = {'blew', 'shorty', 'shortest', 'grandmothers', 'appealing', 'appeals'}\n",
    "\n",
    "import nltk\n",
    "lmtzr = nltk.stem.wordnet.WordNetLemmatizer()\n",
    "for word in some_conjugated_words:\n",
    "    lemma=lmtzr.lemmatize(word, 'a') # lemmatize each word as an Adjective\n",
    "    print(word, lemma)\n",
    "\n",
    "# What is happening in this code?"
   ]
  },
  {
   "cell_type": "markdown",
   "metadata": {},
   "source": [
    "** E2: Let's look into lemmatizing text now. **"
   ]
  },
  {
   "cell_type": "code",
   "execution_count": null,
   "metadata": {},
   "outputs": [],
   "source": [
    "weird_text = 'Kids blew candles stronger than parents.'\n",
    "\n",
    "import nltk\n",
    "# Tokenization\n",
    "tokens = nltk.word_tokenize(weird_text)\n",
    "\n",
    "lmtzr = nltk.stem.wordnet.WordNetLemmatizer()\n",
    "for word in tokens:\n",
    "    lemma=lmtzr.lemmatize(word) # same as lemmatize(word,'n')\n",
    "    # POS tagging\n",
    "    print(word, lemma)\n",
    "    \n",
    "# What is happening here and how to fix it?"
   ]
  },
  {
   "cell_type": "markdown",
   "metadata": {},
   "source": [
    "We can add POS tags now and see if that improves lemmatization."
   ]
  },
  {
   "cell_type": "code",
   "execution_count": null,
   "metadata": {},
   "outputs": [],
   "source": [
    "\n",
    "\n",
    "weird_text = 'Kids blew candles stronger than parents.'\n",
    "\n",
    "import nltk\n",
    "# Tokenization\n",
    "tokens = nltk.word_tokenize(weird_text)\n",
    "\n",
    "lmtzr = nltk.stem.wordnet.WordNetLemmatizer()\n",
    "tagged_tokens = nltk.pos_tag(tokens)\n",
    "for word, tag in tagged_tokens:\n",
    "    lemma=lmtzr.lemmatize(word, tag)\n",
    "    # POS tagging\n",
    "    print(word, lemma)\n",
    "    \n",
    "# What is happening here and how to fix it?"
   ]
  },
  {
   "cell_type": "code",
   "execution_count": null,
   "metadata": {},
   "outputs": [],
   "source": [
    "# Lemmatizing (the proper way, accounting for different POS tags)\n",
    "from nltk.corpus import wordnet as wn\n",
    "\n",
    "def penn_to_wn(penn_tag):\n",
    "    \"\"\"\n",
    "    Returns the corresponding WordNet POS tag for a Penn TreeBank POS tag.\n",
    "    \"\"\"\n",
    "    if penn_tag in ['NN', 'NNS', 'NNP', 'NNPS']:\n",
    "        wn_tag = wn.NOUN\n",
    "    elif penn_tag in ['VB', 'VBD', 'VBG', 'VBN', 'VBP', 'VBZ']:\n",
    "        wn_tag = wn.VERB\n",
    "    elif penn_tag in ['RB', 'RBR', 'RBS']:\n",
    "        wn_tag = wn.ADV\n",
    "    elif penn_tag in ['JJ', 'JJR', 'JJS']:\n",
    "        wn_tag = wn.ADJ\n",
    "    else:\n",
    "        wn_tag = None\n",
    "    return wn_tag\n",
    "\n",
    "\n",
    "weird_text = 'Kids blew candles stronger than parents.'\n",
    "\n",
    "import nltk\n",
    "# Tokenization\n",
    "tokens = nltk.word_tokenize(weird_text)\n",
    "\n",
    "lmtzr = nltk.stem.wordnet.WordNetLemmatizer()\n",
    "tagged_tokens = nltk.pos_tag(tokens)\n",
    "for word, tag in tagged_tokens:\n",
    "    mapped_tag=penn_to_wn(tag)\n",
    "    if mapped_tag != None: # some words, like 'than' have no POS tag.\n",
    "        lemma=lmtzr.lemmatize(word, mapped_tag)\n",
    "    else:\n",
    "        lemma=lmtzr.lemmatize(word)\n",
    "    # POS tagging\n",
    "    print(word, lemma, mapped_tag)\n",
    "    \n",
    "# What is happening here and how to fix it?"
   ]
  },
  {
   "cell_type": "markdown",
   "metadata": {},
   "source": [
    "## B) Functions"
   ]
  },
  {
   "cell_type": "markdown",
   "metadata": {},
   "source": [
    "** E3: PRINT vs RETURN **\n",
    "\n",
    "** Print is for people.** Remember that slogan. Printing has no effect on the ongoing execution of a program. It doesn’t assign a value to a variable. It doesn’t return a value from a function call.\n",
    "\n",
    "A function that returns a value is producing a value **for use by the program**, in particular for use in the part of the code where the function was invoked. Remember that when a function is invoked, control passes to the function, meaning that the function’s code block is executed. But when the function returns, control goes back to the calling location, and a return value may come back with it.\n",
    "\n",
    "If your function **returns** a value, you can either save that value in a variable or print it. If you do not return a value, then it is lost and you can only print it for humans **inside that function**.\n",
    "\n",
    "If this distinction is still unclear, read [this very nice explanation](http://interactivepython.org/runestone/static/pip2/Functions/Printvs.return.html). And now, let's practice a bit!"
   ]
  },
  {
   "cell_type": "code",
   "execution_count": null,
   "metadata": {},
   "outputs": [],
   "source": [
    "def say_hello(user):\n",
    "    return \"Hello %s\" % user\n",
    "\n",
    "def say_bye(user):\n",
    "    return \"Bye %s\" % user\n",
    "\n",
    "me=\"Filip\"\n",
    "\n",
    "message = \"\"\n",
    "message += say_hello(me)\n",
    "message += ','\n",
    "message += say_bye(me)\n",
    "\n",
    "print(message)"
   ]
  },
  {
   "cell_type": "code",
   "execution_count": null,
   "metadata": {},
   "outputs": [],
   "source": [
    "def say_hello(user):\n",
    "    print(\"Hello %s\" % user) # this should be a print, like above\n",
    "\n",
    "def say_bye(user):\n",
    "    print(\"Bye %s\" % user) # this should be a print, like above\n",
    "\n",
    "me=\"Filip\"\n",
    "\n",
    "message = \"\"\n",
    "message += say_hello(me) # this line concatenates None to a string -> error\n",
    "message += ','\n",
    "message += say_bye(me)\n",
    "print(message)"
   ]
  },
  {
   "cell_type": "markdown",
   "metadata": {},
   "source": [
    "** E4: Helper functions ** Let's write a function that checks if the user data entered is valid. User data consists of four inputs: username, password, email and work email. \n",
    "\n",
    "Username and password should be between 7 and 13 characters, and contain only alphanumeric characters.\n",
    "\n",
    "Email and work email should contain the character '@' and should end with '.com'.\n",
    "\n",
    "All test cases should be inserted by user input."
   ]
  },
  {
   "cell_type": "code",
   "execution_count": null,
   "metadata": {},
   "outputs": [],
   "source": [
    "def is_email_ok(email): # we can reuse this function for both emails\n",
    "    if '@' in email and email.endswith('.com'):\n",
    "        return True\n",
    "    else:\n",
    "        return False\n",
    "\n",
    "def is_string_ok(s): # we can reuse this function for both username and password\n",
    "    if len(s)>7 and len(s)<13 and s.isalnum():\n",
    "        return True\n",
    "    else:\n",
    "        return False\n",
    "\n",
    "def check_validity(username, password, email, work_email): # main function for validation\n",
    "    username_ok=is_string_ok(username)\n",
    "    password_ok=is_string_ok(password)\n",
    "    email_ok=is_email_ok(email)\n",
    "    work_email_ok=is_email_ok(work_email)\n",
    "    if username_ok==True and password_ok==True and email_ok==True and work_email_ok==True:\n",
    "        return 'yes'\n",
    "    else:\n",
    "        return 'no'\n",
    "\n",
    "validity=check_validity('filip', 'filipfilip', 'filip@gmail.com', 'filip@gmail.com')\n",
    "print(\"Are the inputs valid?\", validity)"
   ]
  },
  {
   "cell_type": "markdown",
   "metadata": {},
   "source": [
    "** E5: Keyword parameters** Make the minimum and maximum length of the username and password flexible - the caller of the function can specify it. The default for the minumum length is 7, for maximum it is 13."
   ]
  },
  {
   "cell_type": "code",
   "execution_count": null,
   "metadata": {},
   "outputs": [],
   "source": [
    "# Your code here\n",
    "def is_email_ok(email): # we can reuse this function for both emails\n",
    "    if '@' in email and email.endswith('.com'):\n",
    "        return True\n",
    "    else:\n",
    "        return False\n",
    "\n",
    "def is_string_ok(s, min_length=4, max_length=13): # we can reuse this function for both username and password\n",
    "    if len(s)>min_length and len(s)<max_length and s.isalnum():\n",
    "        return True\n",
    "    else:\n",
    "        return False\n",
    "\n",
    "def check_validity(username, password, email, work_email): # main function for validation\n",
    "    username_ok=is_string_ok(username)\n",
    "    password_ok=is_string_ok(password, min_length=10, max_length=17)\n",
    "    email_ok=is_email_ok(email)\n",
    "    work_email_ok=is_email_ok(work_email)\n",
    "    if username_ok==True and password_ok==True and email_ok==True and work_email_ok==True:\n",
    "        return 'yes'\n",
    "    else:\n",
    "        return 'no'\n",
    "\n",
    "validity=check_validity('filip', 'filipfilip', 'filip@gmail.com', 'filip@gmail.com')\n",
    "print(\"Are the inputs valid?\", validity)"
   ]
  },
  {
   "cell_type": "markdown",
   "metadata": {},
   "source": [
    "** E6: Nesting functions** What will the following code output?"
   ]
  },
  {
   "cell_type": "code",
   "execution_count": null,
   "metadata": {
    "collapsed": true
   },
   "outputs": [],
   "source": [
    "def square(x):\n",
    "    return x*x\n",
    "\n",
    "def g(y):\n",
    "    a = y + 3\n",
    "#    print(a)\n",
    "#    print(a)\n",
    "    \n",
    "def h(y):\n",
    "    return square(y) + 3"
   ]
  },
  {
   "cell_type": "code",
   "execution_count": null,
   "metadata": {
    "collapsed": true
   },
   "outputs": [],
   "source": [
    "print(h(2))\n",
    "# First square 2, then add 3."
   ]
  },
  {
   "cell_type": "code",
   "execution_count": null,
   "metadata": {
    "collapsed": true
   },
   "outputs": [],
   "source": [
    "print(h(g(3)))"
   ]
  },
  {
   "cell_type": "markdown",
   "metadata": {
    "collapsed": true
   },
   "source": [
    "## C) Paths and directories\n",
    "\n",
    "** E7: Let's play a bit with paths and directories**\n",
    "\n",
    "**Print the current path and its contents.**"
   ]
  },
  {
   "cell_type": "code",
   "execution_count": null,
   "metadata": {},
   "outputs": [],
   "source": [
    "# your code here\n",
    "import os\n",
    "print(os.getcwd())"
   ]
  },
  {
   "cell_type": "markdown",
   "metadata": {},
   "source": [
    "**Then print the contents of the directory \"../Data\".**"
   ]
  },
  {
   "cell_type": "code",
   "execution_count": null,
   "metadata": {},
   "outputs": [],
   "source": [
    "# your code here\n",
    "#os.listdir() # one way, contents of the current directory\n",
    "\n",
    "import glob\n",
    "\n",
    "# another way\n",
    "for f in glob.glob(\"../Data/*\"): \n",
    "    print(f)"
   ]
  },
  {
   "cell_type": "markdown",
   "metadata": {},
   "source": [
    "**Create a directory \"TEST\" in \"../Data\".**"
   ]
  },
  {
   "cell_type": "code",
   "execution_count": null,
   "metadata": {
    "collapsed": true
   },
   "outputs": [],
   "source": [
    "# your code here\n",
    "os.makedirs(\"../Data/TEST\", exist_ok=True)"
   ]
  },
  {
   "cell_type": "markdown",
   "metadata": {},
   "source": [
    "## D) Files"
   ]
  },
  {
   "cell_type": "markdown",
   "metadata": {},
   "source": [
    "** E8: Reading file contents multiple times ** Let's open and read the file \"../Data/Debate/debate.csv\"."
   ]
  },
  {
   "cell_type": "code",
   "execution_count": null,
   "metadata": {},
   "outputs": [],
   "source": [
    "with open(\"../Data/Debate/debate.csv\", 'r') as r:\n",
    "    some_data=r.readlines()\n",
    "    print(len(some_data)) # Q: what is this? \n",
    "    \n",
    "    # Q: What will this print?\n",
    "#    some_data=some_data[:100]\n",
    "#    print(len(some_data))\n",
    "\n",
    "    # Q: What will this print?\n",
    "#    some_data=r.readlines()\n",
    "#    print(len(some_data))"
   ]
  },
  {
   "cell_type": "markdown",
   "metadata": {},
   "source": [
    "** E9: CSV->TSV and data manipulation** Let's read the CSV file, then save it to a TSV file, but without the second column and without the header."
   ]
  },
  {
   "cell_type": "code",
   "execution_count": null,
   "metadata": {
    "collapsed": true
   },
   "outputs": [],
   "source": [
    "# Some code here\n",
    "filename=\"../Data/baby_names/names_by_state/AK.TXT\"\n",
    "new_filename=\"../Data/baby_names/names_by_state/AK.TSV\"\n",
    "with open(filename, 'r') as r:\n",
    "    with open(new_filename, 'w') as w:\n",
    "        some_data=r.readline() # the header is inferred by reading the first line\n",
    "        some_data=some_data.strip() # this removes the newline at the end of a line\n",
    "        header=some_data.split(',') \n",
    "        header.pop(1)\n",
    "        for line in r:\n",
    "            line=line.strip()\n",
    "            row=line.split(',') # this is how to create a list from a CSV line\n",
    "            row.pop(1) # remove the value for column 2\n",
    "            tsv_line='\\t'.join(row) # this is how to create a TSV line from a list\n",
    "            w.write(tsv_line + '\\n') # write to TSV\n",
    "        \n",
    "#    for line2 in r: \n",
    "#        print(\"LINE\") # This would iterate over an empty set - we can only iterate a file once!"
   ]
  },
  {
   "cell_type": "markdown",
   "metadata": {},
   "source": [
    "** E10: JSON load and store** Store the following two dictionaries to the \"../Data/TEST\" directory with the current datetimes as filenames. Then open and load all JSON files. Print the loaded dictionaries."
   ]
  },
  {
   "cell_type": "code",
   "execution_count": null,
   "metadata": {
    "collapsed": true
   },
   "outputs": [],
   "source": [
    "dict1={'positive': 0.4, 'negative': 0.6}\n",
    "dict2={'positive': 0.7, 'negative': 0.3}\n",
    "\n",
    "import json\n",
    "\n",
    "with open('../Data/TEST/dict1.json', 'w') as f:\n",
    "    json.dump(dict1, f)\n",
    "    \n",
    "with open('../Data/TEST/dict2.json', 'w') as f:\n",
    "    json.dump(dict2, f)"
   ]
  },
  {
   "cell_type": "markdown",
   "metadata": {},
   "source": [
    "## E) Q&A\n",
    "\n",
    "** Q: I downloaded a module, why do i also have to import it?**\n",
    "\n",
    "A: In order to import and use a module, you need to first have it installed. After you install it, your Python program can \"activate\" it by importing it into memory. Real-life analogy: You can think of \"download\" as notes that you have written down over time, and of \"import\" as you reading and remembering some of them. Your memory, like the computer memory, is limited and you can only keep a small amount of things loaded/imported.\n",
    "\n",
    "** Q: And, how many times do i have to import a module?**\n",
    "\n",
    "A: Basically, once per Python Notebook, before you use it for the first time.\n",
    "\n",
    "** Q: Can we use the CSV module in the assignment?**\n",
    "\n",
    "A: Yes.\n",
    "\n",
    "** Q: How to distinguish a file between TSV, CSV, and TXT formats? **\n",
    "\n",
    "A: The distinction between CSV and TSV (and also a simple textual TXT file) is a matter of an agreement on how to structure your text. So you can also see TSV and CSV as a specific cases of textual file, where people have agreed to structure the text in a tabular format. Because of this, we are using the same starting point to *open* TXT, CSV and TSV files, but we make a difference when we want to *read (or write)* their contents.\n",
    "\n",
    "** Q: How should Python know to open as a tsv?  Would it be to add .tsv to the end of the filename? **\n",
    "\n",
    "A: How does Python know if some file is a TSV or CSV or X? There is no bulletproof answer here. In many cases, we can rely on the extension which is often correct (.tsv for TSV files, .csv for CSV files, .txt for unstructured textual files). This is a good practice. \n",
    "But this is not always the case in practice, sometimes people do not use the right extension. A more certain way is to know what kind of data you are dealing with before you write the program. So make sure you print a line or two from a file in order to deduce what format it is in.\n"
   ]
  },
  {
   "cell_type": "markdown",
   "metadata": {
    "collapsed": true
   },
   "source": [
    "## F) Assignment: some notes\n",
    "* Testing functions: don't worry if a specific file is not there or if it is corrupted. Testing with 9 files is as good as with 10. It is more important to cover all kind of weird (edge) cases in your functions\n",
    "* It is somehow story-like, hence the order of the exercises is not following the chapters order\n",
    "* Edge cases\n",
    "* Hints suggest one way to solve the exercise - feel free to ignore them if you have a different idea - at this point it is important that you can find a way to solve challenges.\n",
    "* Today's class notes (especially exercises 5 and 9) are **very helpful** for the assignment.\n",
    "* Example of TSV: https://github.com/cltl/python-for-text-analysis/blob/master/Data/baby_names/names_by_state/AK.tsv\n",
    "* Example of CSV: many, e.g. https://github.com/cltl/python-for-text-analysis/blob/master/Data/baby_names/names_by_state/AK.TXT\n",
    "* Sentiment analysis - you don't have to look online or in the paper - just look at the example code\n",
    "* Downloading is done to python, not to disk\n",
    "* 7a: text_to_lemmas() - lemmatization code from chapter 15\n",
    "* Extension to Saturday 23:59h"
   ]
  },
  {
   "cell_type": "code",
   "execution_count": null,
   "metadata": {
    "collapsed": true
   },
   "outputs": [],
   "source": []
  }
 ],
 "metadata": {
  "kernelspec": {
   "display_name": "Python 3",
   "language": "python",
   "name": "python3"
  },
  "language_info": {
   "codemirror_mode": {
    "name": "ipython",
    "version": 3
   },
   "file_extension": ".py",
   "mimetype": "text/x-python",
   "name": "python",
   "nbconvert_exporter": "python",
   "pygments_lexer": "ipython3",
   "version": "3.6.1"
  }
 },
 "nbformat": 4,
 "nbformat_minor": 2
}
