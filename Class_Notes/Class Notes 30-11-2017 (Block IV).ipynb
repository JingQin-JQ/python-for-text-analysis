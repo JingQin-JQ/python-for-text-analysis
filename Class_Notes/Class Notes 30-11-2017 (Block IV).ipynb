{
 "cells": [
  {
   "cell_type": "markdown",
   "metadata": {},
   "source": [
    "# Outline\n",
    "* [30 minutes] XML\n",
    "* [15 minutes] Introduction assignments\n",
    "    * did you manage to download the materials?\n",
    "    * communication: \n",
    "        * please email directly to m.c.postma@vu.nl\n",
    "        * replies to email -> evenings (due to Sinterklaas)\n",
    "    * submission:\n",
    "        * notebook assignment 4a + python files (naming ASSIGNMENT_4A_FIRSTNAME_LASTNAME_NAMEFILE.py)\n",
    "        * notebook assignment 4b\n",
    "        \n",
    "        \n",
    "    \n",
    "* break\n",
    "\n",
    "\n",
    "* [45 minutes] working with Python files + start working on assignments"
   ]
  },
  {
   "cell_type": "code",
   "execution_count": 1,
   "metadata": {
    "collapsed": true
   },
   "outputs": [],
   "source": [
    "from lxml import etree"
   ]
  },
  {
   "cell_type": "code",
   "execution_count": 2,
   "metadata": {},
   "outputs": [
    {
     "name": "stdout",
     "output_type": "stream",
     "text": [
      "<class 'lxml.etree._Element'>\n",
      "<NAF xml:lang=\"en\" version=\"v3\">\n",
      "    <text>\n",
      "        <wf id=\"w1\" offset=\"0\" length=\"3\" sent=\"1\" para=\"1\">tom</wf>\n",
      "        <wf id=\"w2\" offset=\"4\" length=\"6\" sent=\"1\" para=\"1\">cruise</wf>\n",
      "        <wf id=\"w3\" offset=\"11\" length=\"2\" sent=\"1\" para=\"1\">is</wf>\n",
      "        <wf id=\"w4\" offset=\"14\" length=\"2\" sent=\"1\" para=\"1\">an</wf>\n",
      "        <wf id=\"w5\" offset=\"17\" length=\"5\" sent=\"1\" para=\"1\">actor</wf>\n",
      "    </text>\n",
      "    <terms>\n",
      "        <term id=\"t1\" type=\"open\" lemma=\"Tom\" pos=\"N\" morphofeat=\"NNP\"/>\n",
      "        <term id=\"t2\" type=\"open\" lemma=\"Cruise\" pos=\"N\" morphofeat=\"NNP\"/>\n",
      "        <term id=\"t3\" type=\"open\" lemma=\"be\" pos=\"V\" morphofeat=\"VBZ\"/>\n",
      "        <term id=\"t4\" type=\"open\" lemma=\"an\" pos=\"R\" morphofeat=\"DT\"/>\n",
      "        <term type=\"open\" lemma=\"actor\" pos=\"N\" morphofeat=\"NN\"/>\n",
      "    </terms> \n",
      "    <entities>\n",
      "        <entity id=\"e3\" type=\"PERSON\">\n",
      "              <references>\n",
      "                  <span>\n",
      "                      <target id=\"t1\"/>\n",
      "                      <target id=\"t2\"/>\n",
      "                  </span>\n",
      "              </references>\n",
      "        </entity>\n",
      "    </entities>\n",
      "</NAF>\n"
     ]
    }
   ],
   "source": [
    "naf_string = \"\"\"\n",
    "<NAF xml:lang=\"en\" version=\"v3\">\n",
    "    <text>\n",
    "        <wf id=\"w1\" offset=\"0\" length=\"3\" sent=\"1\" para=\"1\">tom</wf>\n",
    "        <wf id=\"w2\" offset=\"4\" length=\"6\" sent=\"1\" para=\"1\">cruise</wf>\n",
    "        <wf id=\"w3\" offset=\"11\" length=\"2\" sent=\"1\" para=\"1\">is</wf>\n",
    "        <wf id=\"w4\" offset=\"14\" length=\"2\" sent=\"1\" para=\"1\">an</wf>\n",
    "        <wf id=\"w5\" offset=\"17\" length=\"5\" sent=\"1\" para=\"1\">actor</wf>\n",
    "    </text>\n",
    "    <terms>\n",
    "        <term id=\"t1\" type=\"open\" lemma=\"Tom\" pos=\"N\" morphofeat=\"NNP\"/>\n",
    "        <term id=\"t2\" type=\"open\" lemma=\"Cruise\" pos=\"N\" morphofeat=\"NNP\"/>\n",
    "        <term id=\"t3\" type=\"open\" lemma=\"be\" pos=\"V\" morphofeat=\"VBZ\"/>\n",
    "        <term id=\"t4\" type=\"open\" lemma=\"an\" pos=\"R\" morphofeat=\"DT\"/>\n",
    "        <term type=\"open\" lemma=\"actor\" pos=\"N\" morphofeat=\"NN\"/>\n",
    "    </terms> \n",
    "    <entities>\n",
    "        <entity id=\"e3\" type=\"PERSON\">\n",
    "              <references>\n",
    "                  <span>\n",
    "                      <target id=\"t1\" />\n",
    "                      <target id=\"t2\" />\n",
    "                  </span>\n",
    "              </references>\n",
    "        </entity>\n",
    "    </entities>\n",
    "</NAF>\n",
    "\"\"\"\n",
    "\n",
    "naf = etree.fromstring(naf_string)\n",
    "print(type(naf))\n",
    "etree.dump(naf, pretty_print=True)"
   ]
  },
  {
   "cell_type": "markdown",
   "metadata": {},
   "source": [
    "## Xpath find all elements with a certain tag"
   ]
  },
  {
   "cell_type": "code",
   "execution_count": 3,
   "metadata": {},
   "outputs": [
    {
     "name": "stdout",
     "output_type": "stream",
     "text": [
      "<term id=\"t1\" type=\"open\" lemma=\"Tom\" pos=\"N\" morphofeat=\"NNP\"/>\n",
      "        \n",
      "<term id=\"t2\" type=\"open\" lemma=\"Cruise\" pos=\"N\" morphofeat=\"NNP\"/>\n",
      "        \n",
      "<term id=\"t3\" type=\"open\" lemma=\"be\" pos=\"V\" morphofeat=\"VBZ\"/>\n",
      "        \n",
      "<term id=\"t4\" type=\"open\" lemma=\"an\" pos=\"R\" morphofeat=\"DT\"/>\n",
      "        \n",
      "<term type=\"open\" lemma=\"actor\" pos=\"N\" morphofeat=\"NN\"/>\n",
      "    \n"
     ]
    }
   ],
   "source": [
    "for el in naf.xpath('//term'):\n",
    "    etree.dump(el)"
   ]
  },
  {
   "cell_type": "markdown",
   "metadata": {},
   "source": [
    "## Xpath find all elements with a specific attribute"
   ]
  },
  {
   "cell_type": "code",
   "execution_count": 4,
   "metadata": {},
   "outputs": [
    {
     "name": "stdout",
     "output_type": "stream",
     "text": [
      "t1\n",
      "t2\n",
      "t3\n",
      "t4\n"
     ]
    }
   ],
   "source": [
    "for el in naf.xpath('terms/term/@id'):\n",
    "    print(el)"
   ]
  },
  {
   "cell_type": "markdown",
   "metadata": {},
   "source": [
    "## Xpath find all elements with a specific attribute with a specific value"
   ]
  },
  {
   "cell_type": "code",
   "execution_count": 5,
   "metadata": {},
   "outputs": [
    {
     "name": "stdout",
     "output_type": "stream",
     "text": [
      "<term id=\"t1\" type=\"open\" lemma=\"Tom\" pos=\"N\" morphofeat=\"NNP\"/>\n",
      "        \n",
      "<term id=\"t2\" type=\"open\" lemma=\"Cruise\" pos=\"N\" morphofeat=\"NNP\"/>\n",
      "        \n",
      "<term type=\"open\" lemma=\"actor\" pos=\"N\" morphofeat=\"NN\"/>\n",
      "    \n"
     ]
    }
   ],
   "source": [
    "for el in naf.xpath('terms/term[@pos=\"N\"]'):\n",
    "    etree.dump(el)"
   ]
  },
  {
   "cell_type": "markdown",
   "metadata": {},
   "source": [
    "## Something a bit different"
   ]
  },
  {
   "cell_type": "markdown",
   "metadata": {},
   "source": [
    "http://frontbencher.nl/peilingen/"
   ]
  },
  {
   "cell_type": "code",
   "execution_count": 6,
   "metadata": {
    "collapsed": true
   },
   "outputs": [],
   "source": [
    "import subprocess\n",
    "wget = True\n",
    "if wget:\n",
    "    command = 'rm -rf index.html && /usr/local/bin/wget %s' % 'http://frontbencher.nl/peilingen/'\n",
    "    subprocess.check_output(command, shell=True)"
   ]
  },
  {
   "cell_type": "code",
   "execution_count": 7,
   "metadata": {
    "collapsed": true
   },
   "outputs": [],
   "source": [
    "import requests\n",
    "from collections import defaultdict\n",
    "from lxml import html\n",
    "from lxml import etree\n",
    "import itertools"
   ]
  },
  {
   "cell_type": "code",
   "execution_count": 9,
   "metadata": {},
   "outputs": [
    {
     "data": {
      "text/plain": [
       "lxml.etree._ElementTree"
      ]
     },
     "execution_count": 9,
     "metadata": {},
     "output_type": "execute_result"
    }
   ],
   "source": [
    "input_path = 'index.html'\n",
    "doc = html.parse(input_path)\n",
    "type(doc)"
   ]
  },
  {
   "cell_type": "code",
   "execution_count": 10,
   "metadata": {
    "collapsed": true
   },
   "outputs": [],
   "source": [
    "peilingen = defaultdict(list)\n",
    "for main_li_el in doc.xpath(\"//li[@class='partij']\"):\n",
    "    \n",
    "    #etree.dump(main_li_el)\n",
    "    \n",
    "    # find political party\n",
    "    img_el = main_li_el.find('img')\n",
    "    title = img_el.get('title')\n",
    "    partij = title.split()[1]\n",
    "    \n",
    "    if partij == 'overig':\n",
    "        continue\n",
    "    \n",
    "    # add poll results\n",
    "    for sub_li_el in main_li_el.iterfind('ul/li'):\n",
    "        source = sub_li_el.get('class')\n",
    "        zetels = int(sub_li_el.find('div').text)\n",
    "        peilingen[source].append((partij, zetels))"
   ]
  },
  {
   "cell_type": "code",
   "execution_count": 11,
   "metadata": {},
   "outputs": [
    {
     "data": {
      "text/plain": [
       "dict_keys(['tk2017', 'kantar-public', 'synovate', 'io-research', 'dehond', 'destemming'])"
      ]
     },
     "execution_count": 11,
     "metadata": {},
     "output_type": "execute_result"
    }
   ],
   "source": [
    "peilingen.keys()"
   ]
  },
  {
   "cell_type": "code",
   "execution_count": 69,
   "metadata": {},
   "outputs": [
    {
     "name": "stdout",
     "output_type": "stream",
     "text": [
      "\n",
      "tk2017\n",
      "\n",
      "[('VVD', 33), ('PVV', 20), ('D66', 19), ('CDA', 19), ('SP', 14), ('GroenLinks', 14), ('PvdA', 9), ('FVD', 2), ('50PLUS', 4), ('ChristenUnie', 5), ('PVDD', 5), ('SGP', 3), ('Denk', 3)]\n",
      "\n",
      "kantar-public\n",
      "\n",
      "[('VVD', 29), ('PVV', 21), ('D66', 17), ('CDA', 15), ('SP', 12), ('GroenLinks', 15), ('PvdA', 10), ('FVD', 9), ('50PLUS', 5), ('ChristenUnie', 6), ('PVDD', 6), ('SGP', 3), ('Denk', 2)]\n",
      "\n",
      "synovate\n",
      "\n",
      "[('VVD', 32), ('PVV', 19), ('D66', 18), ('CDA', 15), ('SP', 9), ('GroenLinks', 15), ('PvdA', 8), ('FVD', 9), ('50PLUS', 6), ('ChristenUnie', 6), ('PVDD', 6), ('SGP', 3), ('Denk', 4)]\n",
      "\n",
      "io-research\n",
      "\n",
      "[('VVD', 30), ('PVV', 18), ('D66', 18), ('CDA', 15), ('SP', 11), ('GroenLinks', 16), ('PvdA', 10), ('FVD', 11), ('50PLUS', 5), ('ChristenUnie', 6), ('PVDD', 5), ('SGP', 3), ('Denk', 2)]\n",
      "\n",
      "dehond\n",
      "\n",
      "[('VVD', 28), ('PVV', 15), ('D66', 16), ('CDA', 15), ('SP', 12), ('GroenLinks', 13), ('PvdA', 14), ('FVD', 12), ('50PLUS', 6), ('ChristenUnie', 6), ('PVDD', 7), ('SGP', 3), ('Denk', 3)]\n",
      "\n",
      "destemming\n",
      "\n",
      "[('VVD', 28), ('PVV', 23), ('D66', 18), ('CDA', 14), ('SP', 13), ('GroenLinks', 13), ('PvdA', 11), ('FVD', 9), ('50PLUS', 7), ('ChristenUnie', 6), ('PVDD', 4), ('SGP', 3), ('Denk', 1)]\n"
     ]
    }
   ],
   "source": [
    "for source, source_info in peilingen.items():\n",
    "    print()\n",
    "    print(source)\n",
    "    print()\n",
    "    print(source_info)"
   ]
  },
  {
   "cell_type": "code",
   "execution_count": 12,
   "metadata": {},
   "outputs": [
    {
     "name": "stdout",
     "output_type": "stream",
     "text": [
      "\n",
      "86 {'VVD': 28, 'PVV': 15, 'D66': 16, 'CDA': 15, 'SP': 12}\n",
      "\n",
      "87 {'VVD': 28, 'PVV': 15, 'D66': 16, 'CDA': 15, 'GroenLinks': 13}\n",
      "\n",
      "88 {'VVD': 28, 'PVV': 15, 'D66': 16, 'CDA': 15, 'PvdA': 14}\n",
      "\n",
      "86 {'VVD': 28, 'PVV': 15, 'D66': 16, 'CDA': 15, 'FVD': 12}\n",
      "\n",
      "80 {'VVD': 28, 'PVV': 15, 'D66': 16, 'CDA': 15, '50PLUS': 6}\n",
      "\n",
      "80 {'VVD': 28, 'PVV': 15, 'D66': 16, 'CDA': 15, 'ChristenUnie': 6}\n",
      "\n",
      "81 {'VVD': 28, 'PVV': 15, 'D66': 16, 'CDA': 15, 'PVDD': 7}\n",
      "\n",
      "77 {'VVD': 28, 'PVV': 15, 'D66': 16, 'CDA': 15, 'SGP': 3}\n",
      "\n",
      "77 {'VVD': 28, 'PVV': 15, 'D66': 16, 'CDA': 15, 'Denk': 3}\n",
      "\n",
      "84 {'VVD': 28, 'PVV': 15, 'D66': 16, 'SP': 12, 'GroenLinks': 13}\n",
      "\n",
      "85 {'VVD': 28, 'PVV': 15, 'D66': 16, 'SP': 12, 'PvdA': 14}\n",
      "\n",
      "83 {'VVD': 28, 'PVV': 15, 'D66': 16, 'SP': 12, 'FVD': 12}\n",
      "\n",
      "77 {'VVD': 28, 'PVV': 15, 'D66': 16, 'SP': 12, '50PLUS': 6}\n",
      "\n",
      "77 {'VVD': 28, 'PVV': 15, 'D66': 16, 'SP': 12, 'ChristenUnie': 6}\n",
      "\n",
      "78 {'VVD': 28, 'PVV': 15, 'D66': 16, 'SP': 12, 'PVDD': 7}\n",
      "\n",
      "86 {'VVD': 28, 'PVV': 15, 'D66': 16, 'GroenLinks': 13, 'PvdA': 14}\n",
      "\n",
      "84 {'VVD': 28, 'PVV': 15, 'D66': 16, 'GroenLinks': 13, 'FVD': 12}\n",
      "\n",
      "78 {'VVD': 28, 'PVV': 15, 'D66': 16, 'GroenLinks': 13, '50PLUS': 6}\n",
      "\n",
      "78 {'VVD': 28, 'PVV': 15, 'D66': 16, 'GroenLinks': 13, 'ChristenUnie': 6}\n",
      "\n",
      "79 {'VVD': 28, 'PVV': 15, 'D66': 16, 'GroenLinks': 13, 'PVDD': 7}\n",
      "\n",
      "85 {'VVD': 28, 'PVV': 15, 'D66': 16, 'PvdA': 14, 'FVD': 12}\n",
      "\n",
      "79 {'VVD': 28, 'PVV': 15, 'D66': 16, 'PvdA': 14, '50PLUS': 6}\n",
      "\n",
      "79 {'VVD': 28, 'PVV': 15, 'D66': 16, 'PvdA': 14, 'ChristenUnie': 6}\n",
      "\n",
      "80 {'VVD': 28, 'PVV': 15, 'D66': 16, 'PvdA': 14, 'PVDD': 7}\n",
      "\n",
      "76 {'VVD': 28, 'PVV': 15, 'D66': 16, 'PvdA': 14, 'SGP': 3}\n",
      "\n",
      "76 {'VVD': 28, 'PVV': 15, 'D66': 16, 'PvdA': 14, 'Denk': 3}\n",
      "\n",
      "77 {'VVD': 28, 'PVV': 15, 'D66': 16, 'FVD': 12, '50PLUS': 6}\n",
      "\n",
      "77 {'VVD': 28, 'PVV': 15, 'D66': 16, 'FVD': 12, 'ChristenUnie': 6}\n",
      "\n",
      "78 {'VVD': 28, 'PVV': 15, 'D66': 16, 'FVD': 12, 'PVDD': 7}\n",
      "\n",
      "83 {'VVD': 28, 'PVV': 15, 'CDA': 15, 'SP': 12, 'GroenLinks': 13}\n",
      "\n",
      "84 {'VVD': 28, 'PVV': 15, 'CDA': 15, 'SP': 12, 'PvdA': 14}\n",
      "\n",
      "82 {'VVD': 28, 'PVV': 15, 'CDA': 15, 'SP': 12, 'FVD': 12}\n",
      "\n",
      "76 {'VVD': 28, 'PVV': 15, 'CDA': 15, 'SP': 12, '50PLUS': 6}\n",
      "\n",
      "76 {'VVD': 28, 'PVV': 15, 'CDA': 15, 'SP': 12, 'ChristenUnie': 6}\n",
      "\n",
      "77 {'VVD': 28, 'PVV': 15, 'CDA': 15, 'SP': 12, 'PVDD': 7}\n",
      "\n",
      "85 {'VVD': 28, 'PVV': 15, 'CDA': 15, 'GroenLinks': 13, 'PvdA': 14}\n",
      "\n",
      "83 {'VVD': 28, 'PVV': 15, 'CDA': 15, 'GroenLinks': 13, 'FVD': 12}\n",
      "\n",
      "77 {'VVD': 28, 'PVV': 15, 'CDA': 15, 'GroenLinks': 13, '50PLUS': 6}\n",
      "\n",
      "77 {'VVD': 28, 'PVV': 15, 'CDA': 15, 'GroenLinks': 13, 'ChristenUnie': 6}\n",
      "\n",
      "78 {'VVD': 28, 'PVV': 15, 'CDA': 15, 'GroenLinks': 13, 'PVDD': 7}\n",
      "\n",
      "84 {'VVD': 28, 'PVV': 15, 'CDA': 15, 'PvdA': 14, 'FVD': 12}\n",
      "\n",
      "78 {'VVD': 28, 'PVV': 15, 'CDA': 15, 'PvdA': 14, '50PLUS': 6}\n",
      "\n",
      "78 {'VVD': 28, 'PVV': 15, 'CDA': 15, 'PvdA': 14, 'ChristenUnie': 6}\n",
      "\n",
      "79 {'VVD': 28, 'PVV': 15, 'CDA': 15, 'PvdA': 14, 'PVDD': 7}\n",
      "\n",
      "76 {'VVD': 28, 'PVV': 15, 'CDA': 15, 'FVD': 12, '50PLUS': 6}\n",
      "\n",
      "76 {'VVD': 28, 'PVV': 15, 'CDA': 15, 'FVD': 12, 'ChristenUnie': 6}\n",
      "\n",
      "77 {'VVD': 28, 'PVV': 15, 'CDA': 15, 'FVD': 12, 'PVDD': 7}\n",
      "\n",
      "82 {'VVD': 28, 'PVV': 15, 'SP': 12, 'GroenLinks': 13, 'PvdA': 14}\n",
      "\n",
      "80 {'VVD': 28, 'PVV': 15, 'SP': 12, 'GroenLinks': 13, 'FVD': 12}\n",
      "\n",
      "81 {'VVD': 28, 'PVV': 15, 'SP': 12, 'PvdA': 14, 'FVD': 12}\n",
      "\n",
      "76 {'VVD': 28, 'PVV': 15, 'SP': 12, 'PvdA': 14, 'PVDD': 7}\n",
      "\n",
      "82 {'VVD': 28, 'PVV': 15, 'GroenLinks': 13, 'PvdA': 14, 'FVD': 12}\n",
      "\n",
      "76 {'VVD': 28, 'PVV': 15, 'GroenLinks': 13, 'PvdA': 14, '50PLUS': 6}\n",
      "\n",
      "76 {'VVD': 28, 'PVV': 15, 'GroenLinks': 13, 'PvdA': 14, 'ChristenUnie': 6}\n",
      "\n",
      "77 {'VVD': 28, 'PVV': 15, 'GroenLinks': 13, 'PvdA': 14, 'PVDD': 7}\n",
      "\n",
      "76 {'VVD': 28, 'PVV': 15, 'PvdA': 14, 'FVD': 12, 'PVDD': 7}\n",
      "\n",
      "84 {'VVD': 28, 'D66': 16, 'CDA': 15, 'SP': 12, 'GroenLinks': 13}\n",
      "\n",
      "85 {'VVD': 28, 'D66': 16, 'CDA': 15, 'SP': 12, 'PvdA': 14}\n",
      "\n",
      "83 {'VVD': 28, 'D66': 16, 'CDA': 15, 'SP': 12, 'FVD': 12}\n",
      "\n",
      "77 {'VVD': 28, 'D66': 16, 'CDA': 15, 'SP': 12, '50PLUS': 6}\n",
      "\n",
      "77 {'VVD': 28, 'D66': 16, 'CDA': 15, 'SP': 12, 'ChristenUnie': 6}\n",
      "\n",
      "78 {'VVD': 28, 'D66': 16, 'CDA': 15, 'SP': 12, 'PVDD': 7}\n",
      "\n",
      "86 {'VVD': 28, 'D66': 16, 'CDA': 15, 'GroenLinks': 13, 'PvdA': 14}\n",
      "\n",
      "84 {'VVD': 28, 'D66': 16, 'CDA': 15, 'GroenLinks': 13, 'FVD': 12}\n",
      "\n",
      "78 {'VVD': 28, 'D66': 16, 'CDA': 15, 'GroenLinks': 13, '50PLUS': 6}\n",
      "\n",
      "78 {'VVD': 28, 'D66': 16, 'CDA': 15, 'GroenLinks': 13, 'ChristenUnie': 6}\n",
      "\n",
      "79 {'VVD': 28, 'D66': 16, 'CDA': 15, 'GroenLinks': 13, 'PVDD': 7}\n",
      "\n",
      "85 {'VVD': 28, 'D66': 16, 'CDA': 15, 'PvdA': 14, 'FVD': 12}\n",
      "\n",
      "79 {'VVD': 28, 'D66': 16, 'CDA': 15, 'PvdA': 14, '50PLUS': 6}\n",
      "\n",
      "79 {'VVD': 28, 'D66': 16, 'CDA': 15, 'PvdA': 14, 'ChristenUnie': 6}\n",
      "\n",
      "80 {'VVD': 28, 'D66': 16, 'CDA': 15, 'PvdA': 14, 'PVDD': 7}\n",
      "\n",
      "76 {'VVD': 28, 'D66': 16, 'CDA': 15, 'PvdA': 14, 'SGP': 3}\n",
      "\n",
      "76 {'VVD': 28, 'D66': 16, 'CDA': 15, 'PvdA': 14, 'Denk': 3}\n",
      "\n",
      "77 {'VVD': 28, 'D66': 16, 'CDA': 15, 'FVD': 12, '50PLUS': 6}\n",
      "\n",
      "77 {'VVD': 28, 'D66': 16, 'CDA': 15, 'FVD': 12, 'ChristenUnie': 6}\n",
      "\n",
      "78 {'VVD': 28, 'D66': 16, 'CDA': 15, 'FVD': 12, 'PVDD': 7}\n",
      "\n",
      "83 {'VVD': 28, 'D66': 16, 'SP': 12, 'GroenLinks': 13, 'PvdA': 14}\n",
      "\n",
      "81 {'VVD': 28, 'D66': 16, 'SP': 12, 'GroenLinks': 13, 'FVD': 12}\n",
      "\n",
      "76 {'VVD': 28, 'D66': 16, 'SP': 12, 'GroenLinks': 13, 'PVDD': 7}\n",
      "\n",
      "82 {'VVD': 28, 'D66': 16, 'SP': 12, 'PvdA': 14, 'FVD': 12}\n",
      "\n",
      "76 {'VVD': 28, 'D66': 16, 'SP': 12, 'PvdA': 14, '50PLUS': 6}\n",
      "\n",
      "76 {'VVD': 28, 'D66': 16, 'SP': 12, 'PvdA': 14, 'ChristenUnie': 6}\n",
      "\n",
      "77 {'VVD': 28, 'D66': 16, 'SP': 12, 'PvdA': 14, 'PVDD': 7}\n",
      "\n",
      "83 {'VVD': 28, 'D66': 16, 'GroenLinks': 13, 'PvdA': 14, 'FVD': 12}\n",
      "\n",
      "77 {'VVD': 28, 'D66': 16, 'GroenLinks': 13, 'PvdA': 14, '50PLUS': 6}\n",
      "\n",
      "77 {'VVD': 28, 'D66': 16, 'GroenLinks': 13, 'PvdA': 14, 'ChristenUnie': 6}\n",
      "\n",
      "78 {'VVD': 28, 'D66': 16, 'GroenLinks': 13, 'PvdA': 14, 'PVDD': 7}\n",
      "\n",
      "76 {'VVD': 28, 'D66': 16, 'GroenLinks': 13, 'FVD': 12, 'PVDD': 7}\n",
      "\n",
      "76 {'VVD': 28, 'D66': 16, 'PvdA': 14, 'FVD': 12, '50PLUS': 6}\n",
      "\n",
      "76 {'VVD': 28, 'D66': 16, 'PvdA': 14, 'FVD': 12, 'ChristenUnie': 6}\n",
      "\n",
      "77 {'VVD': 28, 'D66': 16, 'PvdA': 14, 'FVD': 12, 'PVDD': 7}\n",
      "\n",
      "82 {'VVD': 28, 'CDA': 15, 'SP': 12, 'GroenLinks': 13, 'PvdA': 14}\n",
      "\n",
      "80 {'VVD': 28, 'CDA': 15, 'SP': 12, 'GroenLinks': 13, 'FVD': 12}\n",
      "\n",
      "81 {'VVD': 28, 'CDA': 15, 'SP': 12, 'PvdA': 14, 'FVD': 12}\n",
      "\n",
      "76 {'VVD': 28, 'CDA': 15, 'SP': 12, 'PvdA': 14, 'PVDD': 7}\n",
      "\n",
      "82 {'VVD': 28, 'CDA': 15, 'GroenLinks': 13, 'PvdA': 14, 'FVD': 12}\n",
      "\n",
      "76 {'VVD': 28, 'CDA': 15, 'GroenLinks': 13, 'PvdA': 14, '50PLUS': 6}\n",
      "\n",
      "76 {'VVD': 28, 'CDA': 15, 'GroenLinks': 13, 'PvdA': 14, 'ChristenUnie': 6}\n",
      "\n",
      "77 {'VVD': 28, 'CDA': 15, 'GroenLinks': 13, 'PvdA': 14, 'PVDD': 7}\n",
      "\n",
      "76 {'VVD': 28, 'CDA': 15, 'PvdA': 14, 'FVD': 12, 'PVDD': 7}\n",
      "\n",
      "79 {'VVD': 28, 'SP': 12, 'GroenLinks': 13, 'PvdA': 14, 'FVD': 12}\n"
     ]
    }
   ],
   "source": [
    "peilingen_volgens_bron = peilingen['dehond']\n",
    "max_aantal_partijen = len(peilingen_volgens_bron)\n",
    "\n",
    "max_aantal_partijen = 5\n",
    "\n",
    "succes = False\n",
    "for num_items in range(0, max_aantal_partijen+1):\n",
    "    for subset in itertools.combinations(peilingen_volgens_bron, num_items):\n",
    "        distribution = {partij: zetels for partij, zetels in subset}\n",
    "        aantal_zetels = sum(distribution.values())\n",
    "        \n",
    "        if aantal_zetels >= 76:\n",
    "                \n",
    "            print()\n",
    "            print(aantal_zetels, distribution)\n",
    "            succes = True\n",
    "    \n",
    "    if succes:\n",
    "        break"
   ]
  },
  {
   "cell_type": "code",
   "execution_count": null,
   "metadata": {
    "collapsed": true
   },
   "outputs": [],
   "source": []
  }
 ],
 "metadata": {
  "kernelspec": {
   "display_name": "Python 3",
   "language": "python",
   "name": "python3"
  },
  "language_info": {
   "codemirror_mode": {
    "name": "ipython",
    "version": 3
   },
   "file_extension": ".py",
   "mimetype": "text/x-python",
   "name": "python",
   "nbconvert_exporter": "python",
   "pygments_lexer": "ipython3",
   "version": "3.6.0"
  }
 },
 "nbformat": 4,
 "nbformat_minor": 2
}
